{
 "cells": [
  {
   "cell_type": "code",
   "execution_count": 1,
   "metadata": {},
   "outputs": [],
   "source": [
    "from pyspark.sql import SparkSession\n",
    "from pyspark.sql import functions as F\n",
    "from pyspark.sql.functions import col, when, count, sum\n",
    "\n",
    "#Modeling\n",
    "from pyspark.ml.regression import LinearRegression\n",
    "from pyspark.ml.regression import GBTRegressor\n",
    "from pyspark.ml.regression import RandomForestRegressor\n",
    "from pyspark.ml.tuning import ParamGridBuilder\n",
    "\n",
    "import pandas as pd\n",
    "import numpy as np\n",
    "import matplotlib.pyplot as plt\n",
    "%matplotlib inline"
   ]
  },
  {
   "cell_type": "code",
   "execution_count": 2,
   "metadata": {},
   "outputs": [],
   "source": [
    "spark = SparkSession.builder.appName('BigDataProject').getOrCreate()\n",
    "\n",
    "#change configuration settings on Spark \n",
    "conf = spark.sparkContext._conf.setAll([('spark.executor.memory', '4g'), ('spark.app.name', 'Spark Updated Conf'), ('spark.executor.cores', '4'), ('spark.cores.max', '4'), ('spark.driver.memory','4g')])\n",
    "spark.conf.set(\"spark.sql.repl.eagerEval.enabled\", True)"
   ]
  },
  {
   "cell_type": "markdown",
   "metadata": {},
   "source": [
    "## Data Cleanup"
   ]
  },
  {
   "cell_type": "code",
   "execution_count": 3,
   "metadata": {},
   "outputs": [],
   "source": [
    "path = '/user/efischbein/data/group_project/'"
   ]
  },
  {
   "cell_type": "code",
   "execution_count": 4,
   "metadata": {},
   "outputs": [],
   "source": [
    "sales = spark.read.csv(path + 'us_housing_prices/sales.csv', inferSchema=True, header=True)\n",
    "Public_Schools = spark.read.csv(path + 'Public_Schools.csv', inferSchema=True, header=True)\n",
    "State_time_series = spark.read.csv(path + 'zillow_econ/State_time_series.csv', inferSchema=True, header=True)\n",
    "states = spark.read.csv(path + 'us_housing_prices/states.csv', inferSchema=True, header=True)"
   ]
  },
  {
   "cell_type": "code",
   "execution_count": 5,
   "metadata": {},
   "outputs": [],
   "source": [
    "# Create temp view for spark.sql\n",
    "sales.createOrReplaceTempView(\"sales\")\n",
    "Public_Schools.createOrReplaceTempView(\"Public_Schools\")\n",
    "State_time_series.createOrReplaceTempView(\"State_time_series\")\n",
    "states.createOrReplaceTempView(\"states\")"
   ]
  },
  {
   "cell_type": "markdown",
   "metadata": {},
   "source": [
    "### Clean sales.csv\n",
    "Filters:\n",
    "1. Drop null sales_price\n",
    "2. Keep only properties with 1 unit (num_units = 1)"
   ]
  },
  {
   "cell_type": "code",
   "execution_count": null,
   "metadata": {},
   "outputs": [],
   "source": [
    "# Filters applied:\n",
    "sales = sales.drop(\"property_id\",\"source_url\",\"book\",\"page\",\"seller_name\",\"buyer_name\").distinct()\\\n",
    "                .filter(sales.sale_price. isNotNull())\\\n",
    "                .filter(sales.num_units == 1)"
   ]
  },
  {
   "cell_type": "markdown",
   "metadata": {},
   "source": [
    "#### sales.csv Data Exploration"
   ]
  },
  {
   "cell_type": "code",
   "execution_count": 7,
   "metadata": {},
   "outputs": [
    {
     "name": "stdout",
     "output_type": "stream",
     "text": [
      "51328026\n",
      "51327998\n"
     ]
    }
   ],
   "source": [
    "print(sales.count())\n",
    "print(sales.distinct().count())"
   ]
  },
  {
   "cell_type": "code",
   "execution_count": 8,
   "metadata": {},
   "outputs": [
    {
     "name": "stdout",
     "output_type": "stream",
     "text": [
      "51327990\n"
     ]
    }
   ],
   "source": [
    "# Drop unnecessary columns\n",
    "sales = sales.drop(\"property_id\",\"source_url\",\"book\",\"page\",\"seller_name\",\"buyer_name\").distinct()\n",
    "print(sales.count())"
   ]
  },
  {
   "cell_type": "code",
   "execution_count": 12,
   "metadata": {},
   "outputs": [
    {
     "name": "stdout",
     "output_type": "stream",
     "text": [
      "+-----+--------+----------------+-------+-------+---------+-------------+----------+---------+----------+\n",
      "|state|    zip5|physical_address|   city| county|sale_date|property_type|sale_price|num_units|year_built|\n",
      "+-----+--------+----------------+-------+-------+---------+-------------+----------+---------+----------+\n",
      "|    0|15466743|              48|9177731|2841775|       43|     22911065|        68| 35614847|  26927213|\n",
      "+-----+--------+----------------+-------+-------+---------+-------------+----------+---------+----------+\n",
      "\n"
     ]
    }
   ],
   "source": [
    "# Check nulls\n",
    "sales.select([count(when(col(c).isNull() , c)).alias(c) for c in sales.columns]).show()"
   ]
  },
  {
   "cell_type": "code",
   "execution_count": 13,
   "metadata": {},
   "outputs": [
    {
     "name": "stdout",
     "output_type": "stream",
     "text": [
      "+-----+--------+----------------+-------+-------+---------+-------------+----------+---------+----------+\n",
      "|state|    zip5|physical_address|   city| county|sale_date|property_type|sale_price|num_units|year_built|\n",
      "+-----+--------+----------------+-------+-------+---------+-------------+----------+---------+----------+\n",
      "|    0|15466702|               0|9177707|2841751|        0|     22911011|         0| 35614791|  26927145|\n",
      "+-----+--------+----------------+-------+-------+---------+-------------+----------+---------+----------+\n",
      "\n"
     ]
    }
   ],
   "source": [
    "# Drop rows where sale_price is null\n",
    "sales = sales.filter(sales.sale_price. isNotNull())\n",
    "sales.select([count(when(col(c).isNull() , c)).alias(c) for c in sales.columns]).show()"
   ]
  },
  {
   "cell_type": "code",
   "execution_count": 16,
   "metadata": {},
   "outputs": [
    {
     "data": {
      "text/html": [
       "<table border='1'>\n",
       "<tr><th>state_length</th><th>count</th></tr>\n",
       "<tr><td>2</td><td>51327922</td></tr>\n",
       "</table>\n"
      ],
      "text/plain": [
       "+------------+--------+\n",
       "|state_length|   count|\n",
       "+------------+--------+\n",
       "|           2|51327922|\n",
       "+------------+--------+"
      ]
     },
     "execution_count": 16,
     "metadata": {},
     "output_type": "execute_result"
    }
   ],
   "source": [
    "#state\n",
    "sales.withColumn(\"state_length\", F.length(\"state\")).groupBy(\"state_length\").count()"
   ]
  },
  {
   "cell_type": "code",
   "execution_count": 17,
   "metadata": {},
   "outputs": [
    {
     "data": {
      "text/html": [
       "<table border='1'>\n",
       "<tr><th>zip5_length</th><th>count</th></tr>\n",
       "<tr><td>null</td><td>15466702</td></tr>\n",
       "<tr><td>5</td><td>35861220</td></tr>\n",
       "</table>\n"
      ],
      "text/plain": [
       "+-----------+--------+\n",
       "|zip5_length|   count|\n",
       "+-----------+--------+\n",
       "|       null|15466702|\n",
       "|          5|35861220|\n",
       "+-----------+--------+"
      ]
     },
     "execution_count": 17,
     "metadata": {},
     "output_type": "execute_result"
    }
   ],
   "source": [
    "#zip5\n",
    "sales.withColumn(\"zip5_length\", F.length(\"zip5\")).groupBy(\"zip5_length\").count()"
   ]
  },
  {
   "cell_type": "code",
   "execution_count": 18,
   "metadata": {
    "scrolled": true
   },
   "outputs": [
    {
     "data": {
      "text/html": [
       "<table border='1'>\n",
       "<tr><th>num_units</th><th>count</th></tr>\n",
       "<tr><td>691</td><td>455</td></tr>\n",
       "<tr><td>3606</td><td>565</td></tr>\n",
       "<tr><td>296</td><td>15</td></tr>\n",
       "<tr><td>WELLSFARGO FINANC...</td><td>1</td></tr>\n",
       "<tr><td>1572</td><td>3</td></tr>\n",
       "<tr><td>125</td><td>63</td></tr>\n",
       "<tr><td>3517</td><td>5</td></tr>\n",
       "<tr><td>MURIEL J.MCCARVILLE</td><td>1</td></tr>\n",
       "<tr><td>3441</td><td>6</td></tr>\n",
       "<tr><td>451</td><td>1</td></tr>\n",
       "<tr><td>3200</td><td>35</td></tr>\n",
       "<tr><td>5757</td><td>23</td></tr>\n",
       "<tr><td>926</td><td>5</td></tr>\n",
       "<tr><td>666</td><td>1</td></tr>\n",
       "<tr><td>7</td><td>15476</td></tr>\n",
       "<tr><td>124</td><td>607</td></tr>\n",
       "<tr><td>1903</td><td>787</td></tr>\n",
       "<tr><td>51</td><td>526</td></tr>\n",
       "<tr><td>2550</td><td>21</td></tr>\n",
       "<tr><td> A CORP\"</td><td>1</td></tr>\n",
       "</table>\n",
       "only showing top 20 rows\n"
      ],
      "text/plain": [
       "+--------------------+-----+\n",
       "|           num_units|count|\n",
       "+--------------------+-----+\n",
       "|                3606|  565|\n",
       "|                 691|  455|\n",
       "|                 296|   15|\n",
       "|WELLSFARGO FINANC...|    1|\n",
       "|                1572|    3|\n",
       "|                 125|   63|\n",
       "| MURIEL J.MCCARVILLE|    1|\n",
       "|                3517|    5|\n",
       "|                 451|    1|\n",
       "|                3441|    6|\n",
       "|                3200|   35|\n",
       "|                5757|   23|\n",
       "|                 926|    5|\n",
       "|                 666|    1|\n",
       "|                   7|15476|\n",
       "|                 124|  607|\n",
       "|                  51|  526|\n",
       "|                1903|  787|\n",
       "|                2550|   21|\n",
       "|             A CORP\"|    1|\n",
       "+--------------------+-----+\n",
       "only showing top 20 rows"
      ]
     },
     "execution_count": 18,
     "metadata": {},
     "output_type": "execute_result"
    }
   ],
   "source": [
    "#num_units\n",
    "sales.groupBy(\"num_units\").count()"
   ]
  },
  {
   "cell_type": "code",
   "execution_count": 20,
   "metadata": {},
   "outputs": [
    {
     "data": {
      "text/html": [
       "<table border='1'>\n",
       "<tr><th>num_units</th><th>count</th></tr>\n",
       "<tr><td>1</td><td>13796935</td></tr>\n",
       "</table>\n"
      ],
      "text/plain": [
       "+---------+--------+\n",
       "|num_units|   count|\n",
       "+---------+--------+\n",
       "|        1|13796935|\n",
       "+---------+--------+"
      ]
     },
     "execution_count": 20,
     "metadata": {},
     "output_type": "execute_result"
    }
   ],
   "source": [
    "sales.filter(sales.num_units == 1).groupBy(\"num_units\").count()"
   ]
  },
  {
   "cell_type": "code",
   "execution_count": 26,
   "metadata": {},
   "outputs": [
    {
     "data": {
      "text/plain": [
       "<matplotlib.axes._subplots.AxesSubplot at 0x7fdef8b55e48>"
      ]
     },
     "execution_count": 26,
     "metadata": {},
     "output_type": "execute_result"
    },
    {
     "data": {
      "image/png": "[encoded data removed]",
      "text/plain": [
       "<Figure size 432x288 with 1 Axes>"
      ]
     },
     "metadata": {},
     "output_type": "display_data"
    }
   ],
   "source": [
    "plot_year_built = sales.filter(F.col(\"year_built\").cast(\"int\").isNotNull())\\\n",
    "            .filter(sales.year_built > 1900)\\\n",
    "            .groupBy(\"year_built\").count().toPandas().sort_values(by=['year_built'], ascending=True)\n",
    "plot_year_built.plot.line(x='year_built', y='count')"
   ]
  },
  {
   "cell_type": "markdown",
   "metadata": {},
   "source": [
    "### Clean Public_Schools\n",
    "Filters/Transformations:\n",
    "1. Group by State, Zip & sum Population and Enrollment Counts\n",
    "2. One Hot Code: ST_GRADE & END_GRADE"
   ]
  },
  {
   "cell_type": "code",
   "execution_count": 54,
   "metadata": {},
   "outputs": [],
   "source": [
    "# Filters applied:\n",
    "Public_Schools = Public_Schools.select(\"STATE\",\"ZIP\",\"POPULATION\",\"ENROLLMENT\",\"ST_GRADE\",\"END_GRADE\")\n",
    "## Population & Enrollment count\n",
    "df1 = Public_Schools.groupBy(\"STATE\",\"ZIP\")\\\n",
    "    .agg(sum(\"POPULATION\").alias(\"POPULATION\"), sum(\"ENROLLMENT\").alias(\"ENROLLMENT\"))\n",
    "print(df1.count())\n",
    "df2 = Public_Schools.groupBy(\"STATE\", \"ZIP\").pivot(\"ST_GRADE\").agg(F.lit(1)).na.fill(0)\n",
    "print(df2.count())\n",
    "\n",
    "# Merge tables\n",
    "Public_Schools_f = df1.join(df2, (df1[\"STATE\"]== df2[\"STATE\"]) & (df1[\"ZIP\"]== df2[\"ZIP\"]), \"left\")"
   ]
  },
  {
   "cell_type": "code",
   "execution_count": 55,
   "metadata": {
    "scrolled": true
   },
   "outputs": [
    {
     "name": "stdout",
     "output_type": "stream",
     "text": [
      "22829\n",
      "22829\n",
      "22829\n"
     ]
    }
   ],
   "source": [
    "print(df1.count())\n",
    "print(df2.count())\n",
    "print(Public_Schools_f.count())"
   ]
  },
  {
   "cell_type": "code",
   "execution_count": 37,
   "metadata": {
    "scrolled": true
   },
   "outputs": [
    {
     "data": {
      "text/html": [
       "<table border='1'>\n",
       "<tr><th>STATE</th><th>ZIP</th><th>POPULATION</th><th>ENROLLMENT</th></tr>\n",
       "<tr><td>AZ</td><td>85225</td><td>14723</td><td>17092</td></tr>\n",
       "<tr><td>WI</td><td>53050</td><td>1268</td><td>1268</td></tr>\n",
       "<tr><td>FL</td><td>34211</td><td>3558</td><td>3382</td></tr>\n",
       "<tr><td>NE</td><td>69001</td><td>1535</td><td>1436</td></tr>\n",
       "<tr><td>NY</td><td>14150</td><td>4550</td><td>4215</td></tr>\n",
       "<tr><td>CA</td><td>94913</td><td>199</td><td>176</td></tr>\n",
       "<tr><td>CA</td><td>94941</td><td>4780</td><td>4561</td></tr>\n",
       "<tr><td>SD</td><td>57353</td><td>276</td><td>253</td></tr>\n",
       "<tr><td>FL</td><td>32110</td><td>1391</td><td>1300</td></tr>\n",
       "<tr><td>PA</td><td>16239</td><td>197</td><td>177</td></tr>\n",
       "<tr><td>NC</td><td>27703</td><td>5158</td><td>5766</td></tr>\n",
       "<tr><td>NV</td><td>89502</td><td>9710</td><td>9231</td></tr>\n",
       "<tr><td>TX</td><td>75234</td><td>3748</td><td>4467</td></tr>\n",
       "<tr><td>MI</td><td>49329</td><td>1755</td><td>1673</td></tr>\n",
       "<tr><td>WI</td><td>54135</td><td>695</td><td>695</td></tr>\n",
       "<tr><td>CA</td><td>95864</td><td>4388</td><td>5182</td></tr>\n",
       "<tr><td>CO</td><td>80125</td><td>1000</td><td>945</td></tr>\n",
       "<tr><td>NY</td><td>10547</td><td>1150</td><td>1078</td></tr>\n",
       "<tr><td>NJ</td><td>07928</td><td>4427</td><td>4111</td></tr>\n",
       "<tr><td>MO</td><td>65714</td><td>6405</td><td>5989</td></tr>\n",
       "</table>\n",
       "only showing top 20 rows\n"
      ],
      "text/plain": [
       "+-----+-----+----------+----------+\n",
       "|STATE|  ZIP|POPULATION|ENROLLMENT|\n",
       "+-----+-----+----------+----------+\n",
       "|   AZ|85225|     14723|     17092|\n",
       "|   WI|53050|      1268|      1268|\n",
       "|   FL|34211|      3558|      3382|\n",
       "|   NE|69001|      1535|      1436|\n",
       "|   NY|14150|      4550|      4215|\n",
       "|   CA|94913|       199|       176|\n",
       "|   CA|94941|      4780|      4561|\n",
       "|   SD|57353|       276|       253|\n",
       "|   FL|32110|      1391|      1300|\n",
       "|   PA|16239|       197|       177|\n",
       "|   NC|27703|      5158|      5766|\n",
       "|   NV|89502|      9710|      9231|\n",
       "|   TX|75234|      3748|      4467|\n",
       "|   MI|49329|      1755|      1673|\n",
       "|   WI|54135|       695|       695|\n",
       "|   CA|95864|      4388|      5182|\n",
       "|   CO|80125|      1000|       945|\n",
       "|   NY|10547|      1150|      1078|\n",
       "|   NJ|07928|      4427|      4111|\n",
       "|   MO|65714|      6405|      5989|\n",
       "+-----+-----+----------+----------+\n",
       "only showing top 20 rows"
      ]
     },
     "execution_count": 37,
     "metadata": {},
     "output_type": "execute_result"
    }
   ],
   "source": [
    "test = Public_Schools.groupBy(\"STATE\",\"ZIP\")\\\n",
    "    .agg(sum(\"POPULATION\").alias(\"POPULATION\"), sum(\"ENROLLMENT\").alias(\"ENROLLMENT\"))\n",
    "test"
   ]
  },
  {
   "cell_type": "code",
   "execution_count": 31,
   "metadata": {
    "scrolled": true
   },
   "outputs": [
    {
     "name": "stdout",
     "output_type": "stream",
     "text": [
      "root\n",
      " |-- STATE: string (nullable = true)\n",
      " |-- ZIP: string (nullable = true)\n",
      " |-- POPULATION: integer (nullable = true)\n",
      " |-- ENROLLMENT: integer (nullable = true)\n",
      " |-- ST_GRADE: string (nullable = true)\n",
      " |-- END_GRADE: string (nullable = true)\n",
      "\n"
     ]
    }
   ],
   "source": [
    "Public_Schools.printSchema()"
   ]
  },
  {
   "cell_type": "code",
   "execution_count": 32,
   "metadata": {
    "scrolled": true
   },
   "outputs": [
    {
     "data": {
      "text/html": [
       "<table border='1'>\n",
       "<tr><th>STATE</th><th>ZIP</th><th>POPULATION</th><th>ENROLLMENT</th><th>ST_GRADE</th><th>END_GRADE</th></tr>\n",
       "<tr><td>FL</td><td>32168</td><td>235</td><td>222</td><td>KG</td><td>05</td></tr>\n",
       "<tr><td>LA</td><td>71485</td><td>333</td><td>312</td><td>PK</td><td>08</td></tr>\n",
       "<tr><td>ME</td><td>04011</td><td>791</td><td>739</td><td>02</td><td>05</td></tr>\n",
       "<tr><td>MS</td><td>39051</td><td>1222</td><td>1159</td><td>PK</td><td>05</td></tr>\n",
       "<tr><td>MO</td><td>64060</td><td>296</td><td>274</td><td>KG</td><td>05</td></tr>\n",
       "<tr><td>NE</td><td>68516</td><td>880</td><td>827</td><td>06</td><td>08</td></tr>\n",
       "<tr><td>NV</td><td>89121</td><td>141</td><td>120</td><td>PK</td><td>13</td></tr>\n",
       "<tr><td>NV</td><td>89141</td><td>1810</td><td>1739</td><td>06</td><td>08</td></tr>\n",
       "<tr><td>NJ</td><td>08401</td><td>100</td><td>90</td><td>PK</td><td>PK</td></tr>\n",
       "<tr><td>NJ</td><td>07090</td><td>2009</td><td>1854</td><td>09</td><td>12</td></tr>\n",
       "<tr><td>NM</td><td>88008</td><td>648</td><td>605</td><td>07</td><td>08</td></tr>\n",
       "<tr><td>NM</td><td>87301</td><td>451</td><td>421</td><td>06</td><td>08</td></tr>\n",
       "<tr><td>NY</td><td>11220</td><td>1364</td><td>1272</td><td>PK</td><td>05</td></tr>\n",
       "<tr><td>NY</td><td>11236</td><td>601</td><td>555</td><td>06</td><td>08</td></tr>\n",
       "<tr><td>NY</td><td>11434</td><td>-999</td><td>-1</td><td>04</td><td>05</td></tr>\n",
       "<tr><td>NY</td><td>11953</td><td>1494</td><td>1410</td><td>05</td><td>06</td></tr>\n",
       "<tr><td>NY</td><td>12871</td><td>603</td><td>565</td><td>09</td><td>12</td></tr>\n",
       "<tr><td>NC</td><td>27847</td><td>319</td><td>299</td><td>PK</td><td>05</td></tr>\n",
       "<tr><td>NC</td><td>28721</td><td>518</td><td>481</td><td>KG</td><td>05</td></tr>\n",
       "<tr><td>OH</td><td>45427</td><td>-999</td><td>-1</td><td>01</td><td>12</td></tr>\n",
       "</table>\n",
       "only showing top 20 rows\n"
      ],
      "text/plain": [
       "+-----+-----+----------+----------+--------+---------+\n",
       "|STATE|  ZIP|POPULATION|ENROLLMENT|ST_GRADE|END_GRADE|\n",
       "+-----+-----+----------+----------+--------+---------+\n",
       "|   FL|32168|       235|       222|      KG|       05|\n",
       "|   LA|71485|       333|       312|      PK|       08|\n",
       "|   ME|04011|       791|       739|      02|       05|\n",
       "|   MS|39051|      1222|      1159|      PK|       05|\n",
       "|   MO|64060|       296|       274|      KG|       05|\n",
       "|   NE|68516|       880|       827|      06|       08|\n",
       "|   NV|89121|       141|       120|      PK|       13|\n",
       "|   NV|89141|      1810|      1739|      06|       08|\n",
       "|   NJ|08401|       100|        90|      PK|       PK|\n",
       "|   NJ|07090|      2009|      1854|      09|       12|\n",
       "|   NM|88008|       648|       605|      07|       08|\n",
       "|   NM|87301|       451|       421|      06|       08|\n",
       "|   NY|11220|      1364|      1272|      PK|       05|\n",
       "|   NY|11236|       601|       555|      06|       08|\n",
       "|   NY|11434|      -999|        -1|      04|       05|\n",
       "|   NY|11953|      1494|      1410|      05|       06|\n",
       "|   NY|12871|       603|       565|      09|       12|\n",
       "|   NC|27847|       319|       299|      PK|       05|\n",
       "|   NC|28721|       518|       481|      KG|       05|\n",
       "|   OH|45427|      -999|        -1|      01|       12|\n",
       "+-----+-----+----------+----------+--------+---------+\n",
       "only showing top 20 rows"
      ]
     },
     "execution_count": 32,
     "metadata": {},
     "output_type": "execute_result"
    }
   ],
   "source": [
    "Public_Schools"
   ]
  },
  {
   "cell_type": "code",
   "execution_count": 33,
   "metadata": {},
   "outputs": [
    {
     "name": "stdout",
     "output_type": "stream",
     "text": [
      "+-----+---+----------+----------+--------+---------+\n",
      "|STATE|ZIP|POPULATION|ENROLLMENT|ST_GRADE|END_GRADE|\n",
      "+-----+---+----------+----------+--------+---------+\n",
      "|    0|  0|         0|         0|       0|        0|\n",
      "+-----+---+----------+----------+--------+---------+\n",
      "\n"
     ]
    }
   ],
   "source": [
    "Public_Schools.select([count(when(col(c).isNull() , c)).alias(c) for c in Public_Schools.columns]).show()"
   ]
  },
  {
   "cell_type": "code",
   "execution_count": 47,
   "metadata": {
    "scrolled": true
   },
   "outputs": [],
   "source": [
    "# ST_GRADE.withColumns([F.col(c).alias(\"ST_GRADE_\"+c) for c in ST_GRADE.drop(\"STATE\",\"ZIP\").columns])"
   ]
  },
  {
   "cell_type": "code",
   "execution_count": 34,
   "metadata": {
    "scrolled": true
   },
   "outputs": [
    {
     "data": {
      "text/html": [
       "<table border='1'>\n",
       "<tr><th>STATE</th><th>ZIP</th><th>01</th><th>02</th><th>03</th><th>04</th><th>05</th><th>06</th><th>07</th><th>08</th><th>09</th><th>10</th><th>11</th><th>12</th><th>13</th><th>438</th><th>AE</th><th>KG</th><th>N</th><th>PK</th><th>UG</th></tr>\n",
       "<tr><td>FL</td><td>32110</td><td>0</td><td>0</td><td>0</td><td>0</td><td>0</td><td>1</td><td>1</td><td>0</td><td>0</td><td>0</td><td>0</td><td>0</td><td>0</td><td>0</td><td>0</td><td>1</td><td>0</td><td>1</td><td>0</td></tr>\n",
       "<tr><td>KY</td><td>42303</td><td>0</td><td>0</td><td>0</td><td>0</td><td>0</td><td>1</td><td>1</td><td>0</td><td>1</td><td>0</td><td>0</td><td>0</td><td>0</td><td>0</td><td>0</td><td>1</td><td>1</td><td>1</td><td>0</td></tr>\n",
       "<tr><td>AZ</td><td>85225</td><td>0</td><td>0</td><td>0</td><td>0</td><td>1</td><td>1</td><td>1</td><td>0</td><td>1</td><td>0</td><td>0</td><td>0</td><td>0</td><td>0</td><td>0</td><td>1</td><td>0</td><td>1</td><td>0</td></tr>\n",
       "<tr><td>AZ</td><td>85226</td><td>0</td><td>0</td><td>0</td><td>0</td><td>0</td><td>1</td><td>0</td><td>0</td><td>0</td><td>0</td><td>0</td><td>0</td><td>0</td><td>0</td><td>0</td><td>1</td><td>0</td><td>1</td><td>0</td></tr>\n",
       "<tr><td>SD</td><td>57625</td><td>0</td><td>0</td><td>1</td><td>0</td><td>1</td><td>0</td><td>1</td><td>0</td><td>1</td><td>0</td><td>0</td><td>0</td><td>0</td><td>0</td><td>0</td><td>1</td><td>0</td><td>0</td><td>0</td></tr>\n",
       "<tr><td>IL</td><td>62685</td><td>0</td><td>0</td><td>0</td><td>0</td><td>0</td><td>0</td><td>0</td><td>0</td><td>0</td><td>0</td><td>0</td><td>0</td><td>0</td><td>0</td><td>0</td><td>0</td><td>0</td><td>1</td><td>0</td></tr>\n",
       "<tr><td>WI</td><td>53050</td><td>0</td><td>0</td><td>1</td><td>0</td><td>0</td><td>0</td><td>0</td><td>0</td><td>1</td><td>0</td><td>0</td><td>0</td><td>0</td><td>0</td><td>0</td><td>0</td><td>0</td><td>1</td><td>0</td></tr>\n",
       "<tr><td>TX</td><td>75234</td><td>0</td><td>0</td><td>1</td><td>0</td><td>0</td><td>1</td><td>0</td><td>0</td><td>1</td><td>0</td><td>0</td><td>0</td><td>0</td><td>0</td><td>0</td><td>1</td><td>0</td><td>1</td><td>0</td></tr>\n",
       "<tr><td>TX</td><td>75132</td><td>0</td><td>0</td><td>0</td><td>0</td><td>0</td><td>0</td><td>0</td><td>0</td><td>0</td><td>0</td><td>0</td><td>0</td><td>0</td><td>0</td><td>0</td><td>0</td><td>0</td><td>1</td><td>0</td></tr>\n",
       "<tr><td>ND</td><td>58771</td><td>0</td><td>0</td><td>0</td><td>0</td><td>0</td><td>0</td><td>0</td><td>0</td><td>0</td><td>0</td><td>0</td><td>0</td><td>0</td><td>0</td><td>0</td><td>0</td><td>0</td><td>1</td><td>0</td></tr>\n",
       "<tr><td>AR</td><td>72360</td><td>0</td><td>1</td><td>0</td><td>0</td><td>0</td><td>0</td><td>1</td><td>0</td><td>0</td><td>0</td><td>0</td><td>0</td><td>0</td><td>0</td><td>0</td><td>0</td><td>0</td><td>1</td><td>0</td></tr>\n",
       "<tr><td>CO</td><td>80633</td><td>0</td><td>0</td><td>0</td><td>0</td><td>0</td><td>0</td><td>0</td><td>0</td><td>0</td><td>0</td><td>0</td><td>0</td><td>0</td><td>0</td><td>0</td><td>1</td><td>0</td><td>0</td><td>0</td></tr>\n",
       "<tr><td>FL</td><td>34211</td><td>0</td><td>0</td><td>0</td><td>0</td><td>0</td><td>0</td><td>0</td><td>0</td><td>1</td><td>0</td><td>0</td><td>0</td><td>0</td><td>0</td><td>0</td><td>0</td><td>0</td><td>1</td><td>0</td></tr>\n",
       "<tr><td>CA</td><td>95864</td><td>0</td><td>0</td><td>0</td><td>0</td><td>0</td><td>1</td><td>0</td><td>0</td><td>1</td><td>0</td><td>0</td><td>0</td><td>0</td><td>0</td><td>0</td><td>1</td><td>0</td><td>0</td><td>0</td></tr>\n",
       "<tr><td>VA</td><td>23601</td><td>0</td><td>0</td><td>0</td><td>0</td><td>0</td><td>1</td><td>0</td><td>0</td><td>1</td><td>0</td><td>0</td><td>0</td><td>0</td><td>0</td><td>0</td><td>0</td><td>0</td><td>1</td><td>0</td></tr>\n",
       "<tr><td>NC</td><td>27703</td><td>0</td><td>0</td><td>0</td><td>0</td><td>0</td><td>0</td><td>0</td><td>1</td><td>1</td><td>0</td><td>1</td><td>0</td><td>0</td><td>0</td><td>0</td><td>1</td><td>1</td><td>1</td><td>0</td></tr>\n",
       "<tr><td>TX</td><td>78372</td><td>0</td><td>1</td><td>0</td><td>1</td><td>0</td><td>1</td><td>0</td><td>0</td><td>1</td><td>0</td><td>0</td><td>0</td><td>0</td><td>0</td><td>0</td><td>0</td><td>0</td><td>1</td><td>0</td></tr>\n",
       "<tr><td>OK</td><td>74860</td><td>0</td><td>0</td><td>0</td><td>0</td><td>0</td><td>0</td><td>0</td><td>0</td><td>1</td><td>0</td><td>0</td><td>0</td><td>0</td><td>0</td><td>0</td><td>0</td><td>0</td><td>1</td><td>0</td></tr>\n",
       "<tr><td>IA</td><td>52142</td><td>0</td><td>0</td><td>0</td><td>0</td><td>1</td><td>0</td><td>0</td><td>0</td><td>0</td><td>0</td><td>0</td><td>0</td><td>0</td><td>0</td><td>0</td><td>0</td><td>0</td><td>0</td><td>0</td></tr>\n",
       "<tr><td>CT</td><td>06370</td><td>0</td><td>0</td><td>0</td><td>0</td><td>0</td><td>1</td><td>0</td><td>0</td><td>1</td><td>0</td><td>0</td><td>0</td><td>0</td><td>0</td><td>0</td><td>1</td><td>0</td><td>1</td><td>0</td></tr>\n",
       "</table>\n",
       "only showing top 20 rows\n"
      ],
      "text/plain": [
       "+-----+-----+---+---+---+---+---+---+---+---+---+---+---+---+---+---+---+---+---+---+---+\n",
       "|STATE|  ZIP| 01| 02| 03| 04| 05| 06| 07| 08| 09| 10| 11| 12| 13|438| AE| KG|  N| PK| UG|\n",
       "+-----+-----+---+---+---+---+---+---+---+---+---+---+---+---+---+---+---+---+---+---+---+\n",
       "|   IA|52142|  0|  0|  0|  0|  1|  0|  0|  0|  0|  0|  0|  0|  0|  0|  0|  0|  0|  0|  0|\n",
       "|   OK|74860|  0|  0|  0|  0|  0|  0|  0|  0|  1|  0|  0|  0|  0|  0|  0|  0|  0|  1|  0|\n",
       "|   FL|32110|  0|  0|  0|  0|  0|  1|  1|  0|  0|  0|  0|  0|  0|  0|  0|  1|  0|  1|  0|\n",
       "|   OK|73654|  0|  0|  0|  0|  0|  0|  0|  0|  1|  0|  0|  0|  0|  0|  0|  0|  0|  1|  0|\n",
       "|   CA|94913|  0|  0|  0|  0|  0|  0|  0|  0|  1|  0|  0|  0|  0|  0|  0|  1|  0|  0|  0|\n",
       "|   IN|46553|  0|  0|  0|  0|  0|  0|  0|  0|  0|  0|  0|  0|  0|  0|  0|  1|  0|  0|  0|\n",
       "|   AL|35044|  0|  0|  0|  0|  1|  0|  0|  0|  1|  0|  0|  0|  0|  0|  0|  1|  1|  0|  0|\n",
       "|   CT|06370|  0|  0|  0|  0|  0|  1|  0|  0|  1|  0|  0|  0|  0|  0|  0|  1|  0|  1|  0|\n",
       "|   MO|65714|  0|  0|  0|  1|  1|  0|  1|  0|  1|  0|  0|  0|  0|  0|  0|  1|  0|  1|  0|\n",
       "|   MI|49306|  0|  0|  0|  0|  0|  0|  0|  0|  0|  0|  0|  0|  0|  0|  0|  1|  0|  0|  0|\n",
       "|   NM|87830|  0|  0|  0|  0|  0|  0|  1|  0|  0|  0|  0|  0|  0|  0|  0|  0|  0|  1|  0|\n",
       "|   MI|49329|  0|  0|  0|  0|  0|  1|  0|  0|  1|  0|  0|  0|  0|  0|  0|  0|  0|  1|  0|\n",
       "|   CA|95357|  0|  0|  0|  0|  0|  0|  1|  0|  1|  0|  0|  0|  0|  0|  0|  1|  0|  0|  0|\n",
       "|   IA|51653|  0|  0|  0|  0|  0|  0|  1|  0|  0|  0|  0|  0|  0|  0|  0|  0|  0|  1|  0|\n",
       "|   TX|78372|  0|  1|  0|  1|  0|  1|  0|  0|  1|  0|  0|  0|  0|  0|  0|  0|  0|  1|  0|\n",
       "|   NY|12754|  0|  0|  0|  0|  1|  0|  0|  0|  0|  0|  0|  0|  0|  0|  0|  1|  0|  1|  0|\n",
       "|   MI|49048|  0|  1|  0|  0|  1|  1|  0|  0|  1|  0|  0|  0|  0|  0|  0|  1|  0|  1|  0|\n",
       "|   IN|47523|  0|  0|  0|  0|  0|  0|  0|  0|  0|  0|  0|  0|  0|  0|  0|  0|  0|  1|  0|\n",
       "|   TX|77065|  0|  0|  0|  0|  0|  0|  0|  0|  1|  0|  0|  0|  0|  0|  0|  0|  1|  1|  0|\n",
       "|   WI|54822|  0|  0|  0|  0|  1|  0|  0|  0|  1|  0|  0|  0|  0|  0|  0|  1|  0|  1|  0|\n",
       "+-----+-----+---+---+---+---+---+---+---+---+---+---+---+---+---+---+---+---+---+---+---+\n",
       "only showing top 20 rows"
      ]
     },
     "execution_count": 34,
     "metadata": {},
     "output_type": "execute_result"
    }
   ],
   "source": [
    "ST_GRADE = Public_Schools.groupBy(\"STATE\", \"ZIP\").pivot(\"ST_GRADE\").agg(F.lit(1)).na.fill(0)\n",
    "ST_GRADE"
   ]
  },
  {
   "cell_type": "markdown",
   "metadata": {},
   "source": [
    "### Cleanup State_time_series"
   ]
  },
  {
   "cell_type": "code",
   "execution_count": 19,
   "metadata": {},
   "outputs": [],
   "source": [
    "State_time_series2 = State_time_series.select\\\n",
    "            (\"ZHVI_1bedroom\",\n",
    "            \"ZHVI_CondoCoop\",\n",
    "            \"ZHVI_2bedroom\",\n",
    "            \"ZHVI_5BedroomOrMore\",\n",
    "            \"ZHVI_BottomTier\",\n",
    "            \"ZHVI_4bedroom\",\n",
    "            \"ZHVI_AllHomes\",\n",
    "            \"ZHVI_MiddleTier\",\n",
    "            \"ZHVI_SingleFamilyResidence\",\n",
    "            \"ZHVI_TopTier\",\n",
    "            \"ZHVIPerSqft_AllHomes\",\n",
    "            \"ZHVI_3bedroom\",\n",
    "            \"RegionName\",\n",
    "            \"Date\").distinct().na.drop()"
   ]
  },
  {
   "cell_type": "code",
   "execution_count": null,
   "metadata": {},
   "outputs": [],
   "source": [
    "print(State_time_series.count())\n",
    "print(State_time_series2.count())"
   ]
  },
  {
   "cell_type": "code",
   "execution_count": 20,
   "metadata": {},
   "outputs": [],
   "source": [
    "State_time_series2.createOrReplaceTempView(\"State_time_series2\")"
   ]
  },
  {
   "cell_type": "code",
   "execution_count": 24,
   "metadata": {},
   "outputs": [],
   "source": [
    "q = \"\"\"\n",
    "select * from \n",
    "(select *, \n",
    "row_number() over (partition by RegionName, year order by Date asc) as rank  \n",
    "from \n",
    "(select *, substring(Date,1,4) as year  \n",
    "from State_time_series2) x ) y \n",
    "where rank = 1\n",
    "\"\"\"\n",
    "State_time_series3 = spark.sql(q)"
   ]
  },
  {
   "cell_type": "code",
   "execution_count": 25,
   "metadata": {},
   "outputs": [
    {
     "data": {
      "text/plain": [
       "792"
      ]
     },
     "execution_count": 25,
     "metadata": {},
     "output_type": "execute_result"
    }
   ],
   "source": [
    "State_time_series3.count()"
   ]
  },
  {
   "cell_type": "code",
   "execution_count": 26,
   "metadata": {
    "scrolled": true
   },
   "outputs": [
    {
     "data": {
      "text/html": [
       "<table border='1'>\n",
       "<tr><th>ZHVI_1bedroom</th><th>ZHVI_CondoCoop</th><th>ZHVI_2bedroom</th><th>ZHVI_5BedroomOrMore</th><th>ZHVI_BottomTier</th><th>ZHVI_4bedroom</th><th>ZHVI_AllHomes</th><th>ZHVI_MiddleTier</th><th>ZHVI_SingleFamilyResidence</th><th>ZHVI_TopTier</th><th>ZHVIPerSqft_AllHomes</th><th>ZHVI_3bedroom</th><th>RegionName</th><th>Date</th><th>year</th><th>rank</th></tr>\n",
       "<tr><td>140600</td><td>168000</td><td>174800</td><td>394800</td><td>140000</td><td>328200</td><td>235900</td><td>235900</td><td>247000</td><td>420900</td><td>147</td><td>232100</td><td>Colorado</td><td>2014-01-31 00:00:00</td><td>2014</td><td>1</td></tr>\n",
       "<tr><td>124900</td><td>172300</td><td>131800</td><td>247300</td><td>114700</td><td>208000</td><td>169100</td><td>169100</td><td>169100</td><td>289100</td><td>107</td><td>162800</td><td>Idaho</td><td>2016-01-31 00:00:00</td><td>2016</td><td>1</td></tr>\n",
       "<tr><td>96200</td><td>123300</td><td>91500</td><td>319100</td><td>77700</td><td>249400</td><td>142100</td><td>142100</td><td>143600</td><td>278200</td><td>91</td><td>139800</td><td>NorthCarolina</td><td>2015-01-31 00:00:00</td><td>2015</td><td>1</td></tr>\n",
       "<tr><td>206100</td><td>243200</td><td>228100</td><td>432900</td><td>168200</td><td>360900</td><td>273500</td><td>273500</td><td>277400</td><td>469700</td><td>170</td><td>271800</td><td>Washington</td><td>2009-01-31 00:00:00</td><td>2009</td><td>1</td></tr>\n",
       "<tr><td>105500</td><td>148100</td><td>119800</td><td>250500</td><td>100600</td><td>213300</td><td>161300</td><td>161300</td><td>162800</td><td>270900</td><td>109</td><td>161000</td><td>Wisconsin</td><td>2017-01-31 00:00:00</td><td>2017</td><td>1</td></tr>\n",
       "<tr><td>93400</td><td>140800</td><td>70500</td><td>337200</td><td>61300</td><td>236400</td><td>120600</td><td>120600</td><td>120100</td><td>237100</td><td>74</td><td>123300</td><td>Alabama</td><td>2016-01-31 00:00:00</td><td>2016</td><td>1</td></tr>\n",
       "<tr><td>148600</td><td>186600</td><td>189400</td><td>443600</td><td>189600</td><td>346700</td><td>265300</td><td>265300</td><td>276200</td><td>377700</td><td>184</td><td>270100</td><td>Alaska</td><td>2009-01-31 00:00:00</td><td>2009</td><td>1</td></tr>\n",
       "<tr><td>78000</td><td>114400</td><td>81900</td><td>256000</td><td>70700</td><td>200900</td><td>121300</td><td>121300</td><td>122200</td><td>217900</td><td>77</td><td>120000</td><td>NorthCarolina</td><td>2002-01-31 00:00:00</td><td>2002</td><td>1</td></tr>\n",
       "<tr><td>160400</td><td>159500</td><td>178200</td><td>350600</td><td>139000</td><td>302700</td><td>223000</td><td>223000</td><td>227100</td><td>372000</td><td>145</td><td>218900</td><td>Oregon</td><td>2014-01-31 00:00:00</td><td>2014</td><td>1</td></tr>\n",
       "<tr><td>77700</td><td>118200</td><td>95300</td><td>229000</td><td>67400</td><td>196300</td><td>116400</td><td>116400</td><td>115900</td><td>204700</td><td>84</td><td>121900</td><td>Kentucky</td><td>2007-01-31 00:00:00</td><td>2007</td><td>1</td></tr>\n",
       "<tr><td>104400</td><td>156500</td><td>160700</td><td>331200</td><td>129400</td><td>292900</td><td>207500</td><td>207500</td><td>221800</td><td>329800</td><td>127</td><td>221000</td><td>NewHampshire</td><td>2014-01-31 00:00:00</td><td>2014</td><td>1</td></tr>\n",
       "<tr><td>203100</td><td>243200</td><td>229500</td><td>512400</td><td>185600</td><td>389200</td><td>299400</td><td>299400</td><td>303000</td><td>504600</td><td>180</td><td>281500</td><td>NewJersey</td><td>2010-01-31 00:00:00</td><td>2010</td><td>1</td></tr>\n",
       "<tr><td>75900</td><td>129000</td><td>64500</td><td>278300</td><td>53800</td><td>194200</td><td>102300</td><td>102300</td><td>101200</td><td>181800</td><td>63</td><td>105100</td><td>Alabama</td><td>2004-01-31 00:00:00</td><td>2004</td><td>1</td></tr>\n",
       "<tr><td>105200</td><td>133200</td><td>133300</td><td>273100</td><td>141800</td><td>217700</td><td>181900</td><td>181900</td><td>189000</td><td>238500</td><td>121</td><td>179400</td><td>Alaska</td><td>1998-07-31 00:00:00</td><td>1998</td><td>1</td></tr>\n",
       "<tr><td>81800</td><td>103800</td><td>74500</td><td>283500</td><td>61100</td><td>183900</td><td>113000</td><td>113000</td><td>113500</td><td>226900</td><td>66</td><td>101400</td><td>Georgia</td><td>2012-01-31 00:00:00</td><td>2012</td><td>1</td></tr>\n",
       "<tr><td>134100</td><td>171800</td><td>146900</td><td>300700</td><td>135000</td><td>240800</td><td>196000</td><td>196000</td><td>196800</td><td>329700</td><td>126</td><td>188500</td><td>Idaho</td><td>2008-01-31 00:00:00</td><td>2008</td><td>1</td></tr>\n",
       "<tr><td>87000</td><td>134800</td><td>135200</td><td>268300</td><td>102300</td><td>246300</td><td>169200</td><td>169200</td><td>180400</td><td>272400</td><td>108</td><td>182800</td><td>NewHampshire</td><td>2002-01-31 00:00:00</td><td>2002</td><td>1</td></tr>\n",
       "<tr><td>67100</td><td>88700</td><td>103500</td><td>347500</td><td>89200</td><td>220800</td><td>145000</td><td>145000</td><td>154800</td><td>266800</td><td>94</td><td>143000</td><td>Connecticut</td><td>1999-01-31 00:00:00</td><td>1999</td><td>1</td></tr>\n",
       "<tr><td>158000</td><td>189700</td><td>153000</td><td>374800</td><td>90400</td><td>284500</td><td>182900</td><td>182900</td><td>180000</td><td>338900</td><td>143</td><td>170300</td><td>Illinois</td><td>2005-01-31 00:00:00</td><td>2005</td><td>1</td></tr>\n",
       "<tr><td>167800</td><td>207100</td><td>163200</td><td>408800</td><td>99500</td><td>303800</td><td>200200</td><td>200200</td><td>197500</td><td>361900</td><td>156</td><td>184500</td><td>Illinois</td><td>2008-01-31 00:00:00</td><td>2008</td><td>1</td></tr>\n",
       "</table>\n",
       "only showing top 20 rows\n"
      ],
      "text/plain": [
       "+-------------+--------------+-------------+-------------------+---------------+-------------+-------------+---------------+--------------------------+------------+--------------------+-------------+-------------+-------------------+----+----+\n",
       "|ZHVI_1bedroom|ZHVI_CondoCoop|ZHVI_2bedroom|ZHVI_5BedroomOrMore|ZHVI_BottomTier|ZHVI_4bedroom|ZHVI_AllHomes|ZHVI_MiddleTier|ZHVI_SingleFamilyResidence|ZHVI_TopTier|ZHVIPerSqft_AllHomes|ZHVI_3bedroom|   RegionName|               Date|year|rank|\n",
       "+-------------+--------------+-------------+-------------------+---------------+-------------+-------------+---------------+--------------------------+------------+--------------------+-------------+-------------+-------------------+----+----+\n",
       "|       140600|        168000|       174800|             394800|         140000|       328200|       235900|         235900|                    247000|      420900|                 147|       232100|     Colorado|2014-01-31 00:00:00|2014|   1|\n",
       "|       124900|        172300|       131800|             247300|         114700|       208000|       169100|         169100|                    169100|      289100|                 107|       162800|        Idaho|2016-01-31 00:00:00|2016|   1|\n",
       "|        96200|        123300|        91500|             319100|          77700|       249400|       142100|         142100|                    143600|      278200|                  91|       139800|NorthCarolina|2015-01-31 00:00:00|2015|   1|\n",
       "|       206100|        243200|       228100|             432900|         168200|       360900|       273500|         273500|                    277400|      469700|                 170|       271800|   Washington|2009-01-31 00:00:00|2009|   1|\n",
       "|       105500|        148100|       119800|             250500|         100600|       213300|       161300|         161300|                    162800|      270900|                 109|       161000|    Wisconsin|2017-01-31 00:00:00|2017|   1|\n",
       "|        93400|        140800|        70500|             337200|          61300|       236400|       120600|         120600|                    120100|      237100|                  74|       123300|      Alabama|2016-01-31 00:00:00|2016|   1|\n",
       "|       148600|        186600|       189400|             443600|         189600|       346700|       265300|         265300|                    276200|      377700|                 184|       270100|       Alaska|2009-01-31 00:00:00|2009|   1|\n",
       "|        78000|        114400|        81900|             256000|          70700|       200900|       121300|         121300|                    122200|      217900|                  77|       120000|NorthCarolina|2002-01-31 00:00:00|2002|   1|\n",
       "|       160400|        159500|       178200|             350600|         139000|       302700|       223000|         223000|                    227100|      372000|                 145|       218900|       Oregon|2014-01-31 00:00:00|2014|   1|\n",
       "|        77700|        118200|        95300|             229000|          67400|       196300|       116400|         116400|                    115900|      204700|                  84|       121900|     Kentucky|2007-01-31 00:00:00|2007|   1|\n",
       "|       104400|        156500|       160700|             331200|         129400|       292900|       207500|         207500|                    221800|      329800|                 127|       221000| NewHampshire|2014-01-31 00:00:00|2014|   1|\n",
       "|       203100|        243200|       229500|             512400|         185600|       389200|       299400|         299400|                    303000|      504600|                 180|       281500|    NewJersey|2010-01-31 00:00:00|2010|   1|\n",
       "|        75900|        129000|        64500|             278300|          53800|       194200|       102300|         102300|                    101200|      181800|                  63|       105100|      Alabama|2004-01-31 00:00:00|2004|   1|\n",
       "|       105200|        133200|       133300|             273100|         141800|       217700|       181900|         181900|                    189000|      238500|                 121|       179400|       Alaska|1998-07-31 00:00:00|1998|   1|\n",
       "|        81800|        103800|        74500|             283500|          61100|       183900|       113000|         113000|                    113500|      226900|                  66|       101400|      Georgia|2012-01-31 00:00:00|2012|   1|\n",
       "|       134100|        171800|       146900|             300700|         135000|       240800|       196000|         196000|                    196800|      329700|                 126|       188500|        Idaho|2008-01-31 00:00:00|2008|   1|\n",
       "|        87000|        134800|       135200|             268300|         102300|       246300|       169200|         169200|                    180400|      272400|                 108|       182800| NewHampshire|2002-01-31 00:00:00|2002|   1|\n",
       "|        67100|         88700|       103500|             347500|          89200|       220800|       145000|         145000|                    154800|      266800|                  94|       143000|  Connecticut|1999-01-31 00:00:00|1999|   1|\n",
       "|       158000|        189700|       153000|             374800|          90400|       284500|       182900|         182900|                    180000|      338900|                 143|       170300|     Illinois|2005-01-31 00:00:00|2005|   1|\n",
       "|       167800|        207100|       163200|             408800|          99500|       303800|       200200|         200200|                    197500|      361900|                 156|       184500|     Illinois|2008-01-31 00:00:00|2008|   1|\n",
       "+-------------+--------------+-------------+-------------------+---------------+-------------+-------------+---------------+--------------------------+------------+--------------------+-------------+-------------+-------------------+----+----+\n",
       "only showing top 20 rows"
      ]
     },
     "execution_count": 26,
     "metadata": {},
     "output_type": "execute_result"
    }
   ],
   "source": [
    "State_time_series3"
   ]
  },
  {
   "cell_type": "code",
   "execution_count": 28,
   "metadata": {},
   "outputs": [],
   "source": [
    "State_time_series3.createOrReplaceTempView(\"State_time_series3\")"
   ]
  },
  {
   "cell_type": "code",
   "execution_count": 30,
   "metadata": {
    "scrolled": true
   },
   "outputs": [
    {
     "data": {
      "text/html": [
       "<table border='1'>\n",
       "<tr><th>ZHVI_1bedroom</th><th>ZHVI_CondoCoop</th><th>ZHVI_2bedroom</th><th>ZHVI_5BedroomOrMore</th><th>ZHVI_BottomTier</th><th>ZHVI_4bedroom</th><th>ZHVI_AllHomes</th><th>ZHVI_MiddleTier</th><th>ZHVI_SingleFamilyResidence</th><th>ZHVI_TopTier</th><th>ZHVIPerSqft_AllHomes</th><th>ZHVI_3bedroom</th><th>RegionName</th><th>Date</th><th>year</th><th>rank</th><th>code</th></tr>\n",
       "<tr><td>140600</td><td>168000</td><td>174800</td><td>394800</td><td>140000</td><td>328200</td><td>235900</td><td>235900</td><td>247000</td><td>420900</td><td>147</td><td>232100</td><td>Colorado</td><td>2014-01-31 00:00:00</td><td>2014</td><td>1</td><td>CO</td></tr>\n",
       "<tr><td>124900</td><td>172300</td><td>131800</td><td>247300</td><td>114700</td><td>208000</td><td>169100</td><td>169100</td><td>169100</td><td>289100</td><td>107</td><td>162800</td><td>Idaho</td><td>2016-01-31 00:00:00</td><td>2016</td><td>1</td><td>ID</td></tr>\n",
       "<tr><td>96200</td><td>123300</td><td>91500</td><td>319100</td><td>77700</td><td>249400</td><td>142100</td><td>142100</td><td>143600</td><td>278200</td><td>91</td><td>139800</td><td>NorthCarolina</td><td>2015-01-31 00:00:00</td><td>2015</td><td>1</td><td>NC</td></tr>\n",
       "<tr><td>206100</td><td>243200</td><td>228100</td><td>432900</td><td>168200</td><td>360900</td><td>273500</td><td>273500</td><td>277400</td><td>469700</td><td>170</td><td>271800</td><td>Washington</td><td>2009-01-31 00:00:00</td><td>2009</td><td>1</td><td>WA</td></tr>\n",
       "<tr><td>105500</td><td>148100</td><td>119800</td><td>250500</td><td>100600</td><td>213300</td><td>161300</td><td>161300</td><td>162800</td><td>270900</td><td>109</td><td>161000</td><td>Wisconsin</td><td>2017-01-31 00:00:00</td><td>2017</td><td>1</td><td>WI</td></tr>\n",
       "<tr><td>93400</td><td>140800</td><td>70500</td><td>337200</td><td>61300</td><td>236400</td><td>120600</td><td>120600</td><td>120100</td><td>237100</td><td>74</td><td>123300</td><td>Alabama</td><td>2016-01-31 00:00:00</td><td>2016</td><td>1</td><td>AL</td></tr>\n",
       "<tr><td>148600</td><td>186600</td><td>189400</td><td>443600</td><td>189600</td><td>346700</td><td>265300</td><td>265300</td><td>276200</td><td>377700</td><td>184</td><td>270100</td><td>Alaska</td><td>2009-01-31 00:00:00</td><td>2009</td><td>1</td><td>AK</td></tr>\n",
       "<tr><td>78000</td><td>114400</td><td>81900</td><td>256000</td><td>70700</td><td>200900</td><td>121300</td><td>121300</td><td>122200</td><td>217900</td><td>77</td><td>120000</td><td>NorthCarolina</td><td>2002-01-31 00:00:00</td><td>2002</td><td>1</td><td>NC</td></tr>\n",
       "<tr><td>160400</td><td>159500</td><td>178200</td><td>350600</td><td>139000</td><td>302700</td><td>223000</td><td>223000</td><td>227100</td><td>372000</td><td>145</td><td>218900</td><td>Oregon</td><td>2014-01-31 00:00:00</td><td>2014</td><td>1</td><td>OR</td></tr>\n",
       "<tr><td>77700</td><td>118200</td><td>95300</td><td>229000</td><td>67400</td><td>196300</td><td>116400</td><td>116400</td><td>115900</td><td>204700</td><td>84</td><td>121900</td><td>Kentucky</td><td>2007-01-31 00:00:00</td><td>2007</td><td>1</td><td>KY</td></tr>\n",
       "<tr><td>104400</td><td>156500</td><td>160700</td><td>331200</td><td>129400</td><td>292900</td><td>207500</td><td>207500</td><td>221800</td><td>329800</td><td>127</td><td>221000</td><td>NewHampshire</td><td>2014-01-31 00:00:00</td><td>2014</td><td>1</td><td>NH</td></tr>\n",
       "<tr><td>203100</td><td>243200</td><td>229500</td><td>512400</td><td>185600</td><td>389200</td><td>299400</td><td>299400</td><td>303000</td><td>504600</td><td>180</td><td>281500</td><td>NewJersey</td><td>2010-01-31 00:00:00</td><td>2010</td><td>1</td><td>NJ</td></tr>\n",
       "<tr><td>75900</td><td>129000</td><td>64500</td><td>278300</td><td>53800</td><td>194200</td><td>102300</td><td>102300</td><td>101200</td><td>181800</td><td>63</td><td>105100</td><td>Alabama</td><td>2004-01-31 00:00:00</td><td>2004</td><td>1</td><td>AL</td></tr>\n",
       "<tr><td>105200</td><td>133200</td><td>133300</td><td>273100</td><td>141800</td><td>217700</td><td>181900</td><td>181900</td><td>189000</td><td>238500</td><td>121</td><td>179400</td><td>Alaska</td><td>1998-07-31 00:00:00</td><td>1998</td><td>1</td><td>AK</td></tr>\n",
       "<tr><td>81800</td><td>103800</td><td>74500</td><td>283500</td><td>61100</td><td>183900</td><td>113000</td><td>113000</td><td>113500</td><td>226900</td><td>66</td><td>101400</td><td>Georgia</td><td>2012-01-31 00:00:00</td><td>2012</td><td>1</td><td>GA</td></tr>\n",
       "<tr><td>134100</td><td>171800</td><td>146900</td><td>300700</td><td>135000</td><td>240800</td><td>196000</td><td>196000</td><td>196800</td><td>329700</td><td>126</td><td>188500</td><td>Idaho</td><td>2008-01-31 00:00:00</td><td>2008</td><td>1</td><td>ID</td></tr>\n",
       "<tr><td>87000</td><td>134800</td><td>135200</td><td>268300</td><td>102300</td><td>246300</td><td>169200</td><td>169200</td><td>180400</td><td>272400</td><td>108</td><td>182800</td><td>NewHampshire</td><td>2002-01-31 00:00:00</td><td>2002</td><td>1</td><td>NH</td></tr>\n",
       "<tr><td>67100</td><td>88700</td><td>103500</td><td>347500</td><td>89200</td><td>220800</td><td>145000</td><td>145000</td><td>154800</td><td>266800</td><td>94</td><td>143000</td><td>Connecticut</td><td>1999-01-31 00:00:00</td><td>1999</td><td>1</td><td>CT</td></tr>\n",
       "<tr><td>158000</td><td>189700</td><td>153000</td><td>374800</td><td>90400</td><td>284500</td><td>182900</td><td>182900</td><td>180000</td><td>338900</td><td>143</td><td>170300</td><td>Illinois</td><td>2005-01-31 00:00:00</td><td>2005</td><td>1</td><td>IL</td></tr>\n",
       "<tr><td>167800</td><td>207100</td><td>163200</td><td>408800</td><td>99500</td><td>303800</td><td>200200</td><td>200200</td><td>197500</td><td>361900</td><td>156</td><td>184500</td><td>Illinois</td><td>2008-01-31 00:00:00</td><td>2008</td><td>1</td><td>IL</td></tr>\n",
       "</table>\n",
       "only showing top 20 rows\n"
      ],
      "text/plain": [
       "+-------------+--------------+-------------+-------------------+---------------+-------------+-------------+---------------+--------------------------+------------+--------------------+-------------+-------------+-------------------+----+----+----+\n",
       "|ZHVI_1bedroom|ZHVI_CondoCoop|ZHVI_2bedroom|ZHVI_5BedroomOrMore|ZHVI_BottomTier|ZHVI_4bedroom|ZHVI_AllHomes|ZHVI_MiddleTier|ZHVI_SingleFamilyResidence|ZHVI_TopTier|ZHVIPerSqft_AllHomes|ZHVI_3bedroom|   RegionName|               Date|year|rank|code|\n",
       "+-------------+--------------+-------------+-------------------+---------------+-------------+-------------+---------------+--------------------------+------------+--------------------+-------------+-------------+-------------------+----+----+----+\n",
       "|       140600|        168000|       174800|             394800|         140000|       328200|       235900|         235900|                    247000|      420900|                 147|       232100|     Colorado|2014-01-31 00:00:00|2014|   1|  CO|\n",
       "|       124900|        172300|       131800|             247300|         114700|       208000|       169100|         169100|                    169100|      289100|                 107|       162800|        Idaho|2016-01-31 00:00:00|2016|   1|  ID|\n",
       "|        96200|        123300|        91500|             319100|          77700|       249400|       142100|         142100|                    143600|      278200|                  91|       139800|NorthCarolina|2015-01-31 00:00:00|2015|   1|  NC|\n",
       "|       206100|        243200|       228100|             432900|         168200|       360900|       273500|         273500|                    277400|      469700|                 170|       271800|   Washington|2009-01-31 00:00:00|2009|   1|  WA|\n",
       "|       105500|        148100|       119800|             250500|         100600|       213300|       161300|         161300|                    162800|      270900|                 109|       161000|    Wisconsin|2017-01-31 00:00:00|2017|   1|  WI|\n",
       "|        93400|        140800|        70500|             337200|          61300|       236400|       120600|         120600|                    120100|      237100|                  74|       123300|      Alabama|2016-01-31 00:00:00|2016|   1|  AL|\n",
       "|       148600|        186600|       189400|             443600|         189600|       346700|       265300|         265300|                    276200|      377700|                 184|       270100|       Alaska|2009-01-31 00:00:00|2009|   1|  AK|\n",
       "|        78000|        114400|        81900|             256000|          70700|       200900|       121300|         121300|                    122200|      217900|                  77|       120000|NorthCarolina|2002-01-31 00:00:00|2002|   1|  NC|\n",
       "|       160400|        159500|       178200|             350600|         139000|       302700|       223000|         223000|                    227100|      372000|                 145|       218900|       Oregon|2014-01-31 00:00:00|2014|   1|  OR|\n",
       "|        77700|        118200|        95300|             229000|          67400|       196300|       116400|         116400|                    115900|      204700|                  84|       121900|     Kentucky|2007-01-31 00:00:00|2007|   1|  KY|\n",
       "|       104400|        156500|       160700|             331200|         129400|       292900|       207500|         207500|                    221800|      329800|                 127|       221000| NewHampshire|2014-01-31 00:00:00|2014|   1|  NH|\n",
       "|       203100|        243200|       229500|             512400|         185600|       389200|       299400|         299400|                    303000|      504600|                 180|       281500|    NewJersey|2010-01-31 00:00:00|2010|   1|  NJ|\n",
       "|        75900|        129000|        64500|             278300|          53800|       194200|       102300|         102300|                    101200|      181800|                  63|       105100|      Alabama|2004-01-31 00:00:00|2004|   1|  AL|\n",
       "|       105200|        133200|       133300|             273100|         141800|       217700|       181900|         181900|                    189000|      238500|                 121|       179400|       Alaska|1998-07-31 00:00:00|1998|   1|  AK|\n",
       "|        81800|        103800|        74500|             283500|          61100|       183900|       113000|         113000|                    113500|      226900|                  66|       101400|      Georgia|2012-01-31 00:00:00|2012|   1|  GA|\n",
       "|       134100|        171800|       146900|             300700|         135000|       240800|       196000|         196000|                    196800|      329700|                 126|       188500|        Idaho|2008-01-31 00:00:00|2008|   1|  ID|\n",
       "|        87000|        134800|       135200|             268300|         102300|       246300|       169200|         169200|                    180400|      272400|                 108|       182800| NewHampshire|2002-01-31 00:00:00|2002|   1|  NH|\n",
       "|        67100|         88700|       103500|             347500|          89200|       220800|       145000|         145000|                    154800|      266800|                  94|       143000|  Connecticut|1999-01-31 00:00:00|1999|   1|  CT|\n",
       "|       158000|        189700|       153000|             374800|          90400|       284500|       182900|         182900|                    180000|      338900|                 143|       170300|     Illinois|2005-01-31 00:00:00|2005|   1|  IL|\n",
       "|       167800|        207100|       163200|             408800|          99500|       303800|       200200|         200200|                    197500|      361900|                 156|       184500|     Illinois|2008-01-31 00:00:00|2008|   1|  IL|\n",
       "+-------------+--------------+-------------+-------------------+---------------+-------------+-------------+---------------+--------------------------+------------+--------------------+-------------+-------------+-------------------+----+----+----+\n",
       "only showing top 20 rows"
      ]
     },
     "execution_count": 30,
     "metadata": {},
     "output_type": "execute_result"
    }
   ],
   "source": [
    "q = \"\"\"\n",
    "select a.*, b.code \n",
    "from State_time_series3 a \n",
    "left join states b \n",
    "on replace(a.RegionName, ' ', '') = replace(b.name, ' ', '') \n",
    "\"\"\"\n",
    "State_time_series4 = spark.sql(q)\n",
    "State_time_series4"
   ]
  },
  {
   "cell_type": "code",
   "execution_count": 31,
   "metadata": {},
   "outputs": [
    {
     "data": {
      "text/plain": [
       "792"
      ]
     },
     "execution_count": 31,
     "metadata": {},
     "output_type": "execute_result"
    }
   ],
   "source": [
    "State_time_series4.count()"
   ]
  },
  {
   "cell_type": "markdown",
   "metadata": {},
   "source": [
    "## Merge all tables together"
   ]
  },
  {
   "cell_type": "code",
   "execution_count": null,
   "metadata": {},
   "outputs": [],
   "source": []
  },
  {
   "cell_type": "markdown",
   "metadata": {},
   "source": [
    "## Modeling"
   ]
  },
  {
   "cell_type": "code",
   "execution_count": 56,
   "metadata": {},
   "outputs": [],
   "source": [
    "## Import Data"
   ]
  },
  {
   "cell_type": "markdown",
   "metadata": {},
   "source": [
    "### Feature Exploration"
   ]
  },
  {
   "cell_type": "code",
   "execution_count": null,
   "metadata": {},
   "outputs": [],
   "source": [
    "# look at describe() function. Drop variables with low variablility.\n",
    "\n",
    "# stats = clean.describe().T\n",
    "# stats[\"std\"] = stats[\"std\"].round(2)\n",
    "# stats[\"99%\"] = clean.quantile(.99)\n",
    "# stats = stats.sort_values(by=['std'])\n",
    "# stats\n",
    "\n",
    "## where std dev is close to 0, and 99 percentile = minimum (this means the highest value and lowest value are the same)"
   ]
  },
  {
   "cell_type": "markdown",
   "metadata": {},
   "source": [
    "### Feature Correlation"
   ]
  },
  {
   "cell_type": "code",
   "execution_count": 57,
   "metadata": {},
   "outputs": [],
   "source": [
    "## check variables that correlate well with the target variable\n",
    "# remove variables that have high correlation with each other, or keep only 1"
   ]
  },
  {
   "cell_type": "markdown",
   "metadata": {},
   "source": [
    "### Train/Test Split"
   ]
  },
  {
   "cell_type": "code",
   "execution_count": null,
   "metadata": {},
   "outputs": [],
   "source": [
    "predictors = []"
   ]
  },
  {
   "cell_type": "code",
   "execution_count": null,
   "metadata": {},
   "outputs": [],
   "source": [
    "#create input vector for modeling in pyspark\n",
    "vectorAssembler = VectorAssembler(inputCols = predictors, outputCol = 'features')\n",
    "vinput_data = vectorAssembler.transform(input_data)\n",
    "vinput_data = vinput_data.select(['features', 'sales_price'])\n",
    "vinput_data.show(1)"
   ]
  },
  {
   "cell_type": "code",
   "execution_count": null,
   "metadata": {},
   "outputs": [],
   "source": [
    "# Train/Test Split\n",
    "train_df, test_df = vinput_data.randomSplit([.7,.3],seed=1234)\n",
    "train_df.show(10, truncate = True)"
   ]
  },
  {
   "cell_type": "code",
   "execution_count": 58,
   "metadata": {},
   "outputs": [],
   "source": [
    "# Linear Regression\n",
    "# Decision Tree\n",
    "# Random Forest\n",
    "# SVM maybe?\n",
    "# Gradient Boosting\n",
    "# KNNeighbors"
   ]
  },
  {
   "cell_type": "markdown",
   "metadata": {},
   "source": [
    "### Linear Regression"
   ]
  },
  {
   "cell_type": "code",
   "execution_count": null,
   "metadata": {},
   "outputs": [],
   "source": [
    "lr = LinearRegression(featuresCol = 'features', labelCol='MV', maxIter=10, regParam=0.3, elasticNetParam=0.8)\n",
    "lr_model = lr.fit(train_df)\n",
    "print(\"Coefficients: \" + str(lr_model.coefficients))\n",
    "print(\"Intercept: \" + str(lr_model.intercept))"
   ]
  },
  {
   "cell_type": "code",
   "execution_count": null,
   "metadata": {},
   "outputs": [],
   "source": [
    "trainingSummary = lr_model.summary\n",
    "print(\"RMSE: %f\" % trainingSummary.rootMeanSquaredError)\n",
    "print(\"r2: %f\" % trainingSummary.r2)\n",
    "print(\"p-Values: %f\" % trainingSummary.pValues)"
   ]
  },
  {
   "cell_type": "code",
   "execution_count": null,
   "metadata": {},
   "outputs": [],
   "source": [
    "lr_predictions = lr_model.transform(test_df)\n",
    "lr_predictions.select(\"prediction\",\"MV\",\"features\").show(5)\n",
    "from pyspark.ml.evaluation import RegressionEvaluator\n",
    "lr_evaluator = RegressionEvaluator(predictionCol=\"prediction\", \\\n",
    "                 labelCol=\"MV\",metricName=\"r2\")\n",
    "print(\"R Squared (R2) on test data = %g\" % lr_evaluator.evaluate(lr_predictions))"
   ]
  },
  {
   "cell_type": "markdown",
   "metadata": {},
   "source": [
    "### Random Forest"
   ]
  },
  {
   "cell_type": "code",
   "execution_count": null,
   "metadata": {},
   "outputs": [],
   "source": [
    "#https://www.silect.is/blog/random-forest-models-in-spark-ml/"
   ]
  },
  {
   "cell_type": "code",
   "execution_count": null,
   "metadata": {},
   "outputs": [],
   "source": [
    "rf = RandomForestRegressor(labelCol=\"label\", featuresCol=\"features\")"
   ]
  },
  {
   "cell_type": "code",
   "execution_count": null,
   "metadata": {},
   "outputs": [],
   "source": [
    "paramGrid = ParamGridBuilder() \\\n",
    "    .addGrid(rf.numTrees, [int(x) for x in np.linspace(start = 10, stop = 50, num = 3)]) \\\n",
    "    .addGrid(rf.maxDepth, [int(x) for x in np.linspace(start = 5, stop = 25, num = 3)]) \\\n",
    "    .build()"
   ]
  },
  {
   "cell_type": "code",
   "execution_count": null,
   "metadata": {},
   "outputs": [],
   "source": []
  },
  {
   "cell_type": "markdown",
   "metadata": {},
   "source": [
    "### Gradient Boosting"
   ]
  },
  {
   "cell_type": "code",
   "execution_count": null,
   "metadata": {},
   "outputs": [],
   "source": [
    "gbt = GBTRegressor(featuresCol = 'features', labelCol = 'MV', maxIter=10)\n",
    "gbt_model = gbt.fit(train_df)\n",
    "gbt_predictions = gbt_model.transform(test_df)\n",
    "gbt_predictions.select('prediction', 'MV', 'features').show(5)"
   ]
  },
  {
   "cell_type": "code",
   "execution_count": null,
   "metadata": {},
   "outputs": [],
   "source": [
    "gbt_evaluator = RegressionEvaluator(\n",
    "    labelCol=\"MV\", predictionCol=\"prediction\", metricName=\"rmse\")\n",
    "rmse = gbt_evaluator.evaluate(gbt_predictions)\n",
    "print(\"Root Mean Squared Error (RMSE) on test data = %g\" % rmse)"
   ]
  },
  {
   "cell_type": "code",
   "execution_count": null,
   "metadata": {},
   "outputs": [],
   "source": []
  },
  {
   "cell_type": "markdown",
   "metadata": {},
   "source": [
    "### KNearestNeighbor"
   ]
  },
  {
   "cell_type": "code",
   "execution_count": null,
   "metadata": {},
   "outputs": [],
   "source": []
  },
  {
   "cell_type": "markdown",
   "metadata": {},
   "source": [
    "### Final Model Summary"
   ]
  },
  {
   "cell_type": "code",
   "execution_count": 64,
   "metadata": {},
   "outputs": [
    {
     "name": "stdout",
     "output_type": "stream",
     "text": [
      "Rsquared\n"
     ]
    },
    {
     "data": {
      "text/html": [
       "<div>\n",
       "<style scoped>\n",
       "    .dataframe tbody tr th:only-of-type {\n",
       "        vertical-align: middle;\n",
       "    }\n",
       "\n",
       "    .dataframe tbody tr th {\n",
       "        vertical-align: top;\n",
       "    }\n",
       "\n",
       "    .dataframe thead th {\n",
       "        text-align: right;\n",
       "    }\n",
       "</style>\n",
       "<table border=\"1\" class=\"dataframe\">\n",
       "  <thead>\n",
       "    <tr style=\"text-align: right;\">\n",
       "      <th></th>\n",
       "      <th>Model</th>\n",
       "      <th>Train</th>\n",
       "      <th>Test</th>\n",
       "    </tr>\n",
       "  </thead>\n",
       "  <tbody>\n",
       "    <tr>\n",
       "      <th>0</th>\n",
       "      <td>Linear Regression</td>\n",
       "      <td>1</td>\n",
       "      <td>2</td>\n",
       "    </tr>\n",
       "  </tbody>\n",
       "</table>\n",
       "</div>"
      ],
      "text/plain": [
       "               Model  Train  Test\n",
       "0  Linear Regression      1     2"
      ]
     },
     "execution_count": 64,
     "metadata": {},
     "output_type": "execute_result"
    }
   ],
   "source": [
    "#models\n",
    "#lr_model\n",
    "\n",
    "print(\"Rsquared\")\n",
    "d = {\"Model\" : [\"Linear Regression\"], \"Train\" : [1], \"Test\" : [2]}\n",
    "pd.DataFrame(d)"
   ]
  }
 ],
 "metadata": {
  "kernelspec": {
   "display_name": "pySpark",
   "language": "python",
   "name": "pyspark"
  },
  "language_info": {
   "codemirror_mode": {
    "name": "ipython",
    "version": 3
   },
   "file_extension": ".py",
   "mimetype": "text/x-python",
   "name": "python",
   "nbconvert_exporter": "python",
   "pygments_lexer": "ipython3",
   "version": "3.6.8"
  }
 },
 "nbformat": 4,
 "nbformat_minor": 2
}
