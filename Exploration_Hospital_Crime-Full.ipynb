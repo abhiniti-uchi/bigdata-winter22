{
 "cells": [
  {
   "cell_type": "code",
   "execution_count": 23,
   "metadata": {},
   "outputs": [
    {
     "name": "stdout",
     "output_type": "stream",
     "text": [
      "WARNING: log4j.properties is not found. HADOOP_CONF_DIR may be incomplete.\n",
      "Java HotSpot(TM) 64-Bit Server VM warning: ignoring option MaxPermSize=512M; support was removed in 8.0\n",
      "Found 2 items\n",
      "-rw-r--r--   3 qiongli2 efischbein    2631315 2022-02-27 15:17 /user/efischbein/data/group_project/hospital/Hospital_General_Information.csv\n",
      "-rw-r--r--   3 qiongli2 efischbein    3665709 2022-02-27 15:15 /user/efischbein/data/group_project/hospital/hospitals.csv\n"
     ]
    }
   ],
   "source": [
    "!hdfs dfs -ls /user/efischbein/data/group_project/hospital"
   ]
  },
  {
   "cell_type": "code",
   "execution_count": 12,
   "metadata": {},
   "outputs": [
    {
     "name": "stdout",
     "output_type": "stream",
     "text": [
      "WARNING: log4j.properties is not found. HADOOP_CONF_DIR may be incomplete.\n",
      "Java HotSpot(TM) 64-Bit Server VM warning: ignoring option MaxPermSize=512M; support was removed in 8.0\n"
     ]
    }
   ],
   "source": [
    "!hdfs dfs -mkdir /user/efischbein/data/group_project/hospital"
   ]
  },
  {
   "cell_type": "code",
   "execution_count": null,
   "metadata": {},
   "outputs": [],
   "source": []
  },
  {
   "cell_type": "code",
   "execution_count": 19,
   "metadata": {},
   "outputs": [
    {
     "name": "stdout",
     "output_type": "stream",
     "text": [
      "WARNING: log4j.properties is not found. HADOOP_CONF_DIR may be incomplete.\n",
      "Java HotSpot(TM) 64-Bit Server VM warning: ignoring option MaxPermSize=512M; support was removed in 8.0\n",
      "Found 1 items\n",
      "-rw-r--r--   3 qiongli2 efischbein    3665709 2022-02-27 15:15 /user/efischbein/data/group_project/hospital/hospitals.csv\n"
     ]
    }
   ],
   "source": [
    "!hdfs dfs -ls /user/efischbein/data/group_project/hospital\n",
    "\n"
   ]
  },
  {
   "cell_type": "code",
   "execution_count": 18,
   "metadata": {},
   "outputs": [
    {
     "name": "stdout",
     "output_type": "stream",
     "text": [
      "WARNING: log4j.properties is not found. HADOOP_CONF_DIR may be incomplete.\n",
      "Java HotSpot(TM) 64-Bit Server VM warning: ignoring option MaxPermSize=512M; support was removed in 8.0\n"
     ]
    }
   ],
   "source": [
    "!hdfs dfs -put /home/qiongli2/data/hospitals.csv /user/efischbein/data/group_project/hospital\n"
   ]
  },
  {
   "cell_type": "code",
   "execution_count": 129,
   "metadata": {},
   "outputs": [
    {
     "name": "stdout",
     "output_type": "stream",
     "text": [
      "WARNING: log4j.properties is not found. HADOOP_CONF_DIR may be incomplete.\n",
      "Java HotSpot(TM) 64-Bit Server VM warning: ignoring option MaxPermSize=512M; support was removed in 8.0\n"
     ]
    }
   ],
   "source": [
    "!hdfs dfs -put /home/qiongli2/data/crime_data_w_population_and_crime_rate.csv /user/efischbein/data/group_project/"
   ]
  },
  {
   "cell_type": "code",
   "execution_count": 20,
   "metadata": {},
   "outputs": [
    {
     "name": "stdout",
     "output_type": "stream",
     "text": [
      "WARNING: log4j.properties is not found. HADOOP_CONF_DIR may be incomplete.\n",
      "Java HotSpot(TM) 64-Bit Server VM warning: ignoring option MaxPermSize=512M; support was removed in 8.0\n"
     ]
    }
   ],
   "source": [
    "!hdfs dfs -put /home/qiongli2/data/Hospital_General_Information.csv /user/efischbein/data/group_project/hospital\n",
    "\n"
   ]
  },
  {
   "cell_type": "markdown",
   "metadata": {},
   "source": [
    "### 1. Build Connection "
   ]
  },
  {
   "cell_type": "code",
   "execution_count": 1,
   "metadata": {},
   "outputs": [],
   "source": [
    "from pyspark.sql import SparkSession\n",
    "from pyspark.sql import functions as F\n",
    "import seaborn as sns\n",
    "\n",
    "import matplotlib.pyplot as plt\n",
    "%matplotlib inline"
   ]
  },
  {
   "cell_type": "code",
   "execution_count": 2,
   "metadata": {},
   "outputs": [
    {
     "data": {
      "text/plain": [
       "[('spark.eventLog.enabled', 'true'),\n",
       " ('spark.yarn.jars',\n",
       "  'local:/opt/cloudera/parcels/CDH-6.3.0-1.cdh6.3.0.p0.1279813/lib/spark/jars/*,local:/opt/cloudera/parcels/CDH-6.3.0-1.cdh6.3.0.p0.1279813/lib/spark/hive/*'),\n",
       " ('spark.yarn.appMasterEnv.MKL_NUM_THREADS', '1'),\n",
       " ('spark.sql.queryExecutionListeners',\n",
       "  'com.cloudera.spark.lineage.NavigatorQueryListener'),\n",
       " ('spark.lineage.log.dir', '/var/log/spark/lineage'),\n",
       " ('spark.org.apache.hadoop.yarn.server.webproxy.amfilter.AmIpFilter.param.PROXY_HOSTS',\n",
       "  'md01.rcc.local,md02.rcc.local'),\n",
       " ('spark.serializer', 'org.apache.spark.serializer.KryoSerializer'),\n",
       " ('spark.executorEnv.PYTHONPATH',\n",
       "  '/opt/cloudera/parcels/CDH/lib/spark/python/lib/py4j-0.10.7-src.zip:/opt/cloudera/parcels/CDH/lib/spark/python/lib/pyspark.zip<CPS>/opt/cloudera/parcels/CDH-6.3.0-1.cdh6.3.0.p0.1279813/lib/spark/python/lib/py4j-0.10.7-src.zip<CPS>/opt/cloudera/parcels/CDH-6.3.0-1.cdh6.3.0.p0.1279813/lib/spark/python/lib/pyspark.zip'),\n",
       " ('spark.yarn.historyServer.address', 'http://hd01.rcc.local:18088'),\n",
       " ('spark.app.id', 'application_1643652317966_7013'),\n",
       " ('spark.ui.filters',\n",
       "  'org.apache.hadoop.yarn.server.webproxy.amfilter.AmIpFilter'),\n",
       " ('spark.network.crypto.enabled', 'false'),\n",
       " ('spark.executorEnv.MKL_NUM_THREADS', '1'),\n",
       " ('spark.executor.memory', '4g'),\n",
       " ('spark.ui.enabled', 'true'),\n",
       " ('spark.executor.id', 'driver'),\n",
       " ('spark.executor.extraLibraryPath',\n",
       "  '/opt/cloudera/parcels/CDH-6.3.0-1.cdh6.3.0.p0.1279813/lib/hadoop/lib/native'),\n",
       " ('spark.org.apache.hadoop.yarn.server.webproxy.amfilter.AmIpFilter.param.PROXY_URI_BASES',\n",
       "  'http://md01.rcc.local:8088/proxy/application_1643652317966_7013,http://md02.rcc.local:8088/proxy/application_1643652317966_7013'),\n",
       " ('spark.dynamicAllocation.schedulerBacklogTimeout', '1'),\n",
       " ('spark.yarn.config.gatewayPath', '/opt/cloudera/parcels'),\n",
       " ('spark.extraListeners', 'com.cloudera.spark.lineage.NavigatorAppListener'),\n",
       " ('spark.port.maxRetries', '60'),\n",
       " ('spark.sql.warehouse.dir', '/user/hive/warehouse'),\n",
       " ('spark.app.name', 'Spark Updated Conf'),\n",
       " ('spark.sql.catalogImplementation', 'hive'),\n",
       " ('spark.driver.log.persistToDfs.enabled', 'true'),\n",
       " ('spark.yarn.config.replacementPath', '{{HADOOP_COMMON_HOME}}/../../..'),\n",
       " ('spark.executorEnv.OPENBLAS_NUM_THREADS', '1'),\n",
       " ('spark.driver.extraLibraryPath',\n",
       "  '/opt/cloudera/parcels/CDH-6.3.0-1.cdh6.3.0.p0.1279813/lib/hadoop/lib/native'),\n",
       " ('spark.driver.memory', '4g'),\n",
       " ('spark.ui.killEnabled', 'true'),\n",
       " ('spark.cores.max', '4'),\n",
       " ('spark.eventLog.dir', 'hdfs://nameservice1/user/spark/applicationHistory'),\n",
       " ('spark.dynamicAllocation.executorIdleTimeout', '60'),\n",
       " ('spark.executor.cores', '4'),\n",
       " ('spark.driver.port', '42454'),\n",
       " ('spark.io.encryption.enabled', 'false'),\n",
       " ('spark.authenticate', 'false'),\n",
       " ('spark.serializer.objectStreamReset', '100'),\n",
       " ('spark.submit.deployMode', 'client'),\n",
       " ('spark.org.apache.hadoop.yarn.server.webproxy.amfilter.AmIpFilter.param.RM_HA_URLS',\n",
       "  'md01.rcc.local:8088,md02.rcc.local:8088'),\n",
       " ('spark.shuffle.service.enabled', 'true'),\n",
       " ('spark.yarn.historyServer.allowTracking', 'true'),\n",
       " ('spark.yarn.appMasterEnv.OPENBLAS_NUM_THREADS', '1'),\n",
       " ('spark.shuffle.service.port', '7337'),\n",
       " ('spark.lineage.enabled', 'true'),\n",
       " ('spark.ui.proxyBase', '/proxy/application_1643652317966_7013'),\n",
       " ('spark.master', 'yarn'),\n",
       " ('spark.driver.host', 'md01.rcc.local'),\n",
       " ('spark.rdd.compress', 'True'),\n",
       " ('spark.yarn.am.extraLibraryPath',\n",
       "  '/opt/cloudera/parcels/CDH-6.3.0-1.cdh6.3.0.p0.1279813/lib/hadoop/lib/native'),\n",
       " ('spark.dynamicAllocation.minExecutors', '0'),\n",
       " ('spark.yarn.isPython', 'true'),\n",
       " ('spark.dynamicAllocation.enabled', 'true'),\n",
       " ('spark.driver.appUIAddress', 'http://md01.rcc.local:4058'),\n",
       " ('spark.ui.showConsoleProgress', 'true'),\n",
       " ('spark.driver.log.dfsDir', '/user/spark/driverLogs')]"
      ]
     },
     "execution_count": 2,
     "metadata": {},
     "output_type": "execute_result"
    }
   ],
   "source": [
    "spark = SparkSession.builder.appName('HouseSales').getOrCreate()\n",
    "\n",
    "#change configuration settings on Spark \n",
    "conf = spark.sparkContext._conf.setAll([('spark.executor.memory', '4g'), ('spark.app.name', 'Spark Updated Conf'), ('spark.executor.cores', '4'), ('spark.cores.max', '4'), ('spark.driver.memory','4g')])\n",
    "\n",
    "#print spark configuration settings\n",
    "spark.sparkContext.getConf().getAll()"
   ]
  },
  {
   "cell_type": "code",
   "execution_count": 135,
   "metadata": {},
   "outputs": [
    {
     "name": "stdout",
     "output_type": "stream",
     "text": [
      "WARNING: log4j.properties is not found. HADOOP_CONF_DIR may be incomplete.\n",
      "Java HotSpot(TM) 64-Bit Server VM warning: ignoring option MaxPermSize=512M; support was removed in 8.0\n",
      "Found 9 items\n",
      "-rwxrwxrwx   3 efischbein efischbein  689627012 2022-02-07 18:31 /user/efischbein/data/group_project/zillow_econ/City_time_series.csv\n",
      "-rwxrwxrwx   3 efischbein efischbein     232467 2022-02-07 18:32 /user/efischbein/data/group_project/zillow_econ/CountyCrossWalk_Zillow.csv\n",
      "-rwxrwxrwx   3 efischbein efischbein  112778579 2022-02-07 18:31 /user/efischbein/data/group_project/zillow_econ/County_time_series.csv\n",
      "-rwxrwxrwx   3 efischbein efischbein       4668 2022-02-07 18:32 /user/efischbein/data/group_project/zillow_econ/DataDictionary.csv\n",
      "-rwxrwxrwx   3 efischbein efischbein   56232114 2022-02-07 18:31 /user/efischbein/data/group_project/zillow_econ/Metro_time_series.csv\n",
      "-rwxrwxrwx   3 efischbein efischbein  265790699 2022-02-07 18:32 /user/efischbein/data/group_project/zillow_econ/Neighborhood_time_series.csv\n",
      "-rwxrwxrwx   3 efischbein efischbein    4742679 2022-02-07 18:31 /user/efischbein/data/group_project/zillow_econ/State_time_series.csv\n",
      "-rwxrwxrwx   3 efischbein efischbein  782137407 2022-02-07 18:31 /user/efischbein/data/group_project/zillow_econ/Zip_time_series.csv\n",
      "-rwxrwxrwx   3 efischbein efischbein    1074309 2022-02-07 18:32 /user/efischbein/data/group_project/zillow_econ/cities_crosswalk.csv\n"
     ]
    }
   ],
   "source": [
    "!hdfs dfs -ls /user/efischbein/data/group_project/zillow_econ/CountyCrossWalk_Zillow.csv"
   ]
  },
  {
   "cell_type": "markdown",
   "metadata": {},
   "source": [
    "### 2 Preprocess Data"
   ]
  },
  {
   "cell_type": "code",
   "execution_count": 7,
   "metadata": {},
   "outputs": [],
   "source": [
    "import pandas as pd"
   ]
  },
  {
   "cell_type": "code",
   "execution_count": 8,
   "metadata": {},
   "outputs": [],
   "source": [
    "dat = spark.read.csv('/user/efischbein/data/group_project/us_housing_prices', header = True)"
   ]
  },
  {
   "cell_type": "code",
   "execution_count": 9,
   "metadata": {},
   "outputs": [],
   "source": [
    "hospital_ratings= spark.read.csv('/user/efischbein/data/group_project/hospital/Hospital_General_Information.csv', header = True)"
   ]
  },
  {
   "cell_type": "code",
   "execution_count": 10,
   "metadata": {},
   "outputs": [],
   "source": [
    "hospital = spark.read.csv('/user/efischbein/data/group_project/hospital/hospitals.csv', header = True)"
   ]
  },
  {
   "cell_type": "code",
   "execution_count": 189,
   "metadata": {},
   "outputs": [],
   "source": [
    "crime = spark.read.csv('/user/efischbein/data/group_project/crime_data_w_population_and_crime_rate.csv',header = True)"
   ]
  },
  {
   "cell_type": "code",
   "execution_count": 12,
   "metadata": {},
   "outputs": [],
   "source": [
    "CountyCrossWalk_Zillow = spark.read.csv('/user/efischbein/data/group_project/zillow_econ/CountyCrossWalk_Zillow.csv',header = True)"
   ]
  },
  {
   "cell_type": "code",
   "execution_count": 13,
   "metadata": {},
   "outputs": [
    {
     "name": "stdout",
     "output_type": "stream",
     "text": [
      "+-----+-----+--------------------+--------+-----------+-----------+--------------------+--------------------+----------+-----------+----------+---------+----------+--------------------+----+----+\n",
      "|state| zip5|    physical_address|    city|     county|property_id|           sale_date|       property_type|sale_price|seller_name|buyer_name|num_units|year_built|          source_url|book|page|\n",
      "+-----+-----+--------------------+--------+-----------+-----------+--------------------+--------------------+----------+-----------+----------+---------+----------+--------------------+----+----+\n",
      "|   CA|92220|   1050 THOMPSON AVE| BANNING|  RIVERSIDE|  408144009|1988-05-25 00:00:...|SINGLE FAMILY DWE...|         0|       null|      null|        1|      1965|https://ca-rivers...|null|null|\n",
      "|   CA|92220|   1050 THOMPSON AVE| BANNING|  RIVERSIDE|  408144009|1989-03-17 00:00:...|SINGLE FAMILY DWE...|         0|       null|      null|        1|      1965|https://ca-rivers...|null|null|\n",
      "|   CA|92220|   1050 THOMPSON AVE| BANNING|  RIVERSIDE|  408144009|1991-06-18 00:00:...|SINGLE FAMILY DWE...|         0|       null|      null|        1|      1965|https://ca-rivers...|null|null|\n",
      "|   CA|92220|   1050 THOMPSON AVE| BANNING|  RIVERSIDE|  408144009|1994-12-12 00:00:...|SINGLE FAMILY DWE...|         0|       null|      null|        1|      1965|https://ca-rivers...|null|null|\n",
      "|   CA|92220|   1050 THOMPSON AVE| BANNING|  RIVERSIDE|  408144009|2003-02-28 00:00:...|SINGLE FAMILY DWE...|         0|       null|      null|        1|      1965|https://ca-rivers...|null|null|\n",
      "|   CA|92220|   1050 THOMPSON AVE| BANNING|  RIVERSIDE|  408144009|2003-08-25 00:00:...|SINGLE FAMILY DWE...|         0|       null|      null|        1|      1965|https://ca-rivers...|null|null|\n",
      "|   CA|92220|   1050 THOMPSON AVE| BANNING|  RIVERSIDE|  408144009|2018-08-24 00:00:...|SINGLE FAMILY DWE...|     59000|       null|      null|        1|      1965|https://ca-rivers...|null|null|\n",
      "|   CA|92220|   1050 THOMPSON AVE| BANNING|  RIVERSIDE|  408144009|2021-07-29 00:00:...|SINGLE FAMILY DWE...|    280000|       null|      null|        1|      1965|https://ca-rivers...|null|null|\n",
      "|   CA|91206|   1050 THORNWOOD ST|GLENDALE|LOS ANGELES| 5660037036|1988-01-08 00:00:...|SINGLE FAMILY RES...|    381591|       null|      null|        1|      1987|https://portal.as...|null|null|\n",
      "|   CA|91206|   1050 THORNWOOD ST|GLENDALE|LOS ANGELES| 5660037036|1989-01-24 00:00:...|SINGLE FAMILY RES...|    592000|       null|      null|        1|      1987|https://portal.as...|null|null|\n",
      "|   CA|91206|   1050 THORNWOOD ST|GLENDALE|LOS ANGELES| 5660037036|1991-01-25 00:00:...|SINGLE FAMILY RES...|    585000|       null|      null|        1|      1987|https://portal.as...|null|null|\n",
      "|   CA|91206|   1050 THORNWOOD ST|GLENDALE|LOS ANGELES| 5660037036|1995-04-24 00:00:...|SINGLE FAMILY RES...|    458000|       null|      null|        1|      1987|https://portal.as...|null|null|\n",
      "|   CA|92543|1050 TIERRA LINDA DR|   HEMET|  RIVERSIDE|  442353016|1974-04-01 00:00:...|MH LOT WITH MH ON...|         0|       null|      null|     null|      1976|https://ca-rivers...|null|null|\n",
      "|   CA|92543|1050 TIERRA LINDA DR|   HEMET|  RIVERSIDE|  442353016|1975-01-06 00:00:...|MH LOT WITH MH ON...|      8500|       null|      null|     null|      1976|https://ca-rivers...|null|null|\n",
      "|   CA|92543|1050 TIERRA LINDA DR|   HEMET|  RIVERSIDE|  442353016|2010-12-06 00:00:...|MH LOT WITH MH ON...|         0|       null|      null|     null|      1976|https://ca-rivers...|null|null|\n",
      "|   CA|92543|1050 TIERRA LINDA DR|   HEMET|  RIVERSIDE|  442353016|2012-01-01 00:00:...|MH LOT WITH MH ON...|         0|       null|      null|     null|      1976|https://ca-rivers...|null|null|\n",
      "|   CA|91789|    1050 TIERRA LUNA|  WALNUT|LOS ANGELES| 8762025005|1989-01-13 00:00:...|SINGLE FAMILY RES...|    288000|       null|      null|        1|      1979|https://portal.as...|null|null|\n",
      "|   CA|91789|    1050 TIERRA LUNA|  WALNUT|LOS ANGELES| 8762025005|2011-03-29 00:00:...|SINGLE FAMILY RES...|    517005|       null|      null|        1|      1979|https://portal.as...|null|null|\n",
      "|   CA|92881|   1050 TRAILVIEW LN|  CORONA|  RIVERSIDE|  120461005|1999-07-28 00:00:...|SINGLE FAMILY DWE...|         0|       null|      null|        1|      2000|https://ca-rivers...|null|null|\n",
      "|   CA|92881|   1050 TRAILVIEW LN|  CORONA|  RIVERSIDE|  120461005|2000-10-06 00:00:...|SINGLE FAMILY DWE...|    282000|       null|      null|        1|      2000|https://ca-rivers...|null|null|\n",
      "+-----+-----+--------------------+--------+-----------+-----------+--------------------+--------------------+----------+-----------+----------+---------+----------+--------------------+----+----+\n",
      "only showing top 20 rows\n",
      "\n"
     ]
    }
   ],
   "source": [
    "dat.show()"
   ]
  },
  {
   "cell_type": "code",
   "execution_count": 8,
   "metadata": {},
   "outputs": [
    {
     "name": "stdout",
     "output_type": "stream",
     "text": [
      "root\n",
      " |-- state: string (nullable = true)\n",
      " |-- zip5: string (nullable = true)\n",
      " |-- physical_address: string (nullable = true)\n",
      " |-- city: string (nullable = true)\n",
      " |-- county: string (nullable = true)\n",
      " |-- property_id: string (nullable = true)\n",
      " |-- sale_date: string (nullable = true)\n",
      " |-- property_type: string (nullable = true)\n",
      " |-- sale_price: string (nullable = true)\n",
      " |-- seller_name: string (nullable = true)\n",
      " |-- buyer_name: string (nullable = true)\n",
      " |-- num_units: string (nullable = true)\n",
      " |-- year_built: string (nullable = true)\n",
      " |-- source_url: string (nullable = true)\n",
      " |-- book: string (nullable = true)\n",
      " |-- page: string (nullable = true)\n",
      "\n"
     ]
    }
   ],
   "source": [
    "dat.printSchema()"
   ]
  },
  {
   "cell_type": "code",
   "execution_count": 9,
   "metadata": {},
   "outputs": [
    {
     "name": "stdout",
     "output_type": "stream",
     "text": [
      "+-------+--------------------+--------------------+--------------------+--------------------+--------------------+-----------+-----------------+--------------------+-----------------+--------------------+--------------------+--------------------+--------------------+--------------------+--------------------+--------------------+\n",
      "|summary|               state|                zip5|    physical_address|                city|              county|property_id|        sale_date|       property_type|       sale_price|         seller_name|          buyer_name|           num_units|          year_built|          source_url|                book|                page|\n",
      "+-------+--------------------+--------------------+--------------------+--------------------+--------------------+-----------+-----------------+--------------------+-----------------+--------------------+--------------------+--------------------+--------------------+--------------------+--------------------+--------------------+\n",
      "|  count|            51328085|            35861327|            51327950|            42150268|            48486228|   49879290|         51327968|            28416933|         51327930|            17229213|            23124420|            15713143|            24400785|            48783347|            22986603|            22660339|\n",
      "|   mean|                null|   51002.16934475346|2.911071394435676E14|   6789.028503562945|  2559.8571428571427|   Infinity|501.5416666666667|1.3099749627166666E8|412720.1994319304|4.503502888489845E14|6.027727570517653E22|   13.24954378476187|  1970.3144324043185|  1932.5555555555557|  10474.499562614132|  1850.4412681222977|\n",
      "| stddev|                null|  32125.217395022984|1.363472283121427...|   34900.68761185284|  3759.6648348396257|        NaN|523.8225702897189|1.0253577710787233E9|6207786.301761571|1.077291061932018...|2.004615931083747E24|   309.6157961823399|  32.922496248089885|   28.53117203652485|   946538.5323935403|  121640.41285582374|\n",
      "|    min|  & NICOLA S RUTSCH\"| DELGADO CLAUDIA ...|    !1329 KESLO ROAD|               AMERY|    COUNTY OF OCONTO|     53081\"|              105|\"\"\"\"\"\"\"510 GLENWO...|               -1|     !2 VENTURES LLC|               ACTI\"|             A CORP\"| BY ALBERT R. \"\"J...|                III\"|                   1|                -115|\n",
      "|    max|_________________...|             Wyoming|Ý908-910 VINE STREET|https://www.polkp...|https://www.polkp...|        nan|           WILSON|                   `|      VANCANT LOT|¿RP¿ST,WILLIS D &...|{OSTOL RONALD E+J...|WELLSFARGO FINANC...|      WILLIAM J.GRAY|https://www1.nyc....|https://www.reven...|https://www.reven...|\n",
      "+-------+--------------------+--------------------+--------------------+--------------------+--------------------+-----------+-----------------+--------------------+-----------------+--------------------+--------------------+--------------------+--------------------+--------------------+--------------------+--------------------+\n",
      "\n"
     ]
    }
   ],
   "source": [
    "dat.describe().show()"
   ]
  },
  {
   "cell_type": "markdown",
   "metadata": {},
   "source": [
    "#### Hospital Preprocessing"
   ]
  },
  {
   "cell_type": "code",
   "execution_count": 14,
   "metadata": {},
   "outputs": [],
   "source": [
    "hospital_ratings = hospital_ratings.select('Hospital Name', 'Hospital overall rating')"
   ]
  },
  {
   "cell_type": "code",
   "execution_count": 15,
   "metadata": {},
   "outputs": [
    {
     "name": "stdout",
     "output_type": "stream",
     "text": [
      "root\n",
      " |-- Hospital Name: string (nullable = true)\n",
      " |-- Hospital overall rating: string (nullable = true)\n",
      "\n"
     ]
    }
   ],
   "source": [
    "\n",
    "hospital_ratings.dropna()\n",
    "hospital_ratings.printSchema()"
   ]
  },
  {
   "cell_type": "code",
   "execution_count": 16,
   "metadata": {},
   "outputs": [
    {
     "name": "stdout",
     "output_type": "stream",
     "text": [
      "+-----------------------+\n",
      "|Hospital overall rating|\n",
      "+-----------------------+\n",
      "|                      3|\n",
      "|                      5|\n",
      "|                      1|\n",
      "|                      4|\n",
      "|          Not Available|\n",
      "|                      2|\n",
      "+-----------------------+\n",
      "\n"
     ]
    }
   ],
   "source": [
    "hospital_ratings.select('Hospital overall rating').distinct().show()"
   ]
  },
  {
   "cell_type": "code",
   "execution_count": 17,
   "metadata": {},
   "outputs": [
    {
     "name": "stdout",
     "output_type": "stream",
     "text": [
      "+-----------------------+-----+\n",
      "|Hospital overall rating|count|\n",
      "+-----------------------+-----+\n",
      "|                      3| 1761|\n",
      "|                      5|   82|\n",
      "|                      1|  107|\n",
      "|                      4|  939|\n",
      "|          Not Available| 1245|\n",
      "|                      2|  678|\n",
      "+-----------------------+-----+\n",
      "\n"
     ]
    }
   ],
   "source": [
    "hospital_ratings.groupBy('Hospital overall rating').count().show()"
   ]
  },
  {
   "cell_type": "code",
   "execution_count": 18,
   "metadata": {},
   "outputs": [],
   "source": [
    "hospital_ratings = hospital_ratings.where(hospital_ratings['Hospital overall rating'] != 'Not Available')"
   ]
  },
  {
   "cell_type": "code",
   "execution_count": 19,
   "metadata": {},
   "outputs": [
    {
     "name": "stdout",
     "output_type": "stream",
     "text": [
      "+-----------------------+-----+\n",
      "|Hospital overall rating|count|\n",
      "+-----------------------+-----+\n",
      "|                      3| 1761|\n",
      "|                      5|   82|\n",
      "|                      1|  107|\n",
      "|                      4|  939|\n",
      "|                      2|  678|\n",
      "+-----------------------+-----+\n",
      "\n"
     ]
    }
   ],
   "source": [
    "hospital_ratings.groupBy('Hospital overall rating').count().show()"
   ]
  },
  {
   "cell_type": "code",
   "execution_count": null,
   "metadata": {},
   "outputs": [],
   "source": [
    "#fillna need the same data type, if it is string and fill integer 0 will be wrong.  have to fill '0'"
   ]
  },
  {
   "cell_type": "code",
   "execution_count": 20,
   "metadata": {},
   "outputs": [],
   "source": [
    "#RENAME THE COLUMN FOR JOIN \n",
    "hospital = hospital.withColumn('Hospital Name',hospital.NAME)\n",
    "       "
   ]
  },
  {
   "cell_type": "code",
   "execution_count": 21,
   "metadata": {},
   "outputs": [],
   "source": [
    "hospitals_with_ratings =hospital.join(hospital_ratings,['Hospital Name'],'left').na.fill('0',subset = ['Hospital overall rating'])\n"
   ]
  },
  {
   "cell_type": "code",
   "execution_count": 47,
   "metadata": {},
   "outputs": [
    {
     "name": "stdout",
     "output_type": "stream",
     "text": [
      "+------------------+-----+\n",
      "|              TYPE|count|\n",
      "+------------------+-----+\n",
      "|GENERAL ACUTE CARE| 4868|\n",
      "|   CRITICAL ACCESS| 1143|\n",
      "|       PSYCHIATRIC|  743|\n",
      "|    LONG TERM CARE|  431|\n",
      "|    REHABILITATION|  365|\n",
      "|          MILITARY|  218|\n",
      "|          CHILDREN|  127|\n",
      "|           SPECIAL|  122|\n",
      "|             WOMEN|   19|\n",
      "|   CHRONIC DISEASE|    9|\n",
      "+------------------+-----+\n",
      "\n"
     ]
    }
   ],
   "source": [
    "hospitals_with_ratings.groupBy('TYPE').count().orderBy('count',ascending = [0]).show()"
   ]
  },
  {
   "cell_type": "code",
   "execution_count": 48,
   "metadata": {},
   "outputs": [
    {
     "name": "stdout",
     "output_type": "stream",
     "text": [
      "+--------------------+-----+\n",
      "|               OWNER|count|\n",
      "+--------------------+-----+\n",
      "|          NON-PROFIT| 3820|\n",
      "|         PROPRIETARY| 2140|\n",
      "|GOVERNMENT - DIST...|  590|\n",
      "|  GOVERNMENT - LOCAL|  552|\n",
      "|       NOT AVAILABLE|  385|\n",
      "|  GOVERNMENT - STATE|  295|\n",
      "|GOVERNMENT - FEDERAL|  261|\n",
      "|      REHABILITATION|    1|\n",
      "|                null|    1|\n",
      "+--------------------+-----+\n",
      "\n"
     ]
    }
   ],
   "source": [
    "hospitals_with_ratings.groupBy('OWNER').count().orderBy('count',ascending = [0]).show()"
   ]
  },
  {
   "cell_type": "code",
   "execution_count": 51,
   "metadata": {},
   "outputs": [
    {
     "name": "stdout",
     "output_type": "stream",
     "text": [
      "+------+-----+\n",
      "|STATUS|count|\n",
      "+------+-----+\n",
      "|  OPEN| 7671|\n",
      "|CLOSED|  374|\n",
      "+------+-----+\n",
      "\n"
     ]
    }
   ],
   "source": [
    "hospitals_with_ratings.groupBy('STATUS').count().orderBy('count',ascending = [0]).show()"
   ]
  },
  {
   "cell_type": "code",
   "execution_count": 49,
   "metadata": {},
   "outputs": [
    {
     "name": "stdout",
     "output_type": "stream",
     "text": [
      "+-------------------+-------+\n",
      "|             county|  count|\n",
      "+-------------------+-------+\n",
      "|          RIVERSIDE|5097590|\n",
      "|        LOS ANGELES|4137292|\n",
      "|               null|2841857|\n",
      "|            Volusia|2700287|\n",
      "|        POLK COUNTY|2214934|\n",
      "|        KING COUNTY|2056066|\n",
      "|HILLSBOROUGH COUNTY|2040200|\n",
      "|        COOK COUNTY|1880067|\n",
      "|    PINELLAS COUNTY|1474337|\n",
      "|            BREVARD|1413255|\n",
      "|             HARRIS|1405041|\n",
      "|       PASCO COUNTY|1295988|\n",
      "|       PHILADELPHIA|1118751|\n",
      "|           HARTFORD| 914778|\n",
      "|    OKLAHOMA COUNTY| 873409|\n",
      "|         MIAMI-DADE| 850622|\n",
      "|          MIDDLESEX| 785874|\n",
      "|              ESSEX| 737635|\n",
      "|         PALM BEACH| 602158|\n",
      "|       ADAMS COUNTY| 600713|\n",
      "+-------------------+-------+\n",
      "only showing top 20 rows\n",
      "\n"
     ]
    }
   ],
   "source": [
    "dat.groupBy('county').count().orderBy('count',ascending = [0]).show()"
   ]
  },
  {
   "cell_type": "code",
   "execution_count": 57,
   "metadata": {},
   "outputs": [
    {
     "name": "stdout",
     "output_type": "stream",
     "text": [
      "+-----+------------+-----+---------+------------------+-----------------------+--------------------+------+-----+\n",
      "|  ZIP|        CITY|STATE|   COUNTY|              TYPE|Hospital overall rating|               OWNER|STATUS|count|\n",
      "+-----+------------+-----+---------+------------------+-----------------------+--------------------+------+-----+\n",
      "|46947|  LOGANSPORT|   IN|     CASS|GENERAL ACUTE CARE|                      3|  GOVERNMENT - LOCAL|  OPEN|    7|\n",
      "|62226|  BELLEVILLE|   IL|ST. CLAIR|GENERAL ACUTE CARE|                      3|          NON-PROFIT|  OPEN|    7|\n",
      "|79360|    SEMINOLE|   TX|   GAINES|   CRITICAL ACCESS|                      3|GOVERNMENT - DIST...|  OPEN|    7|\n",
      "| 3860|NORTH CONWAY|   NH|  CARROLL|GENERAL ACUTE CARE|                      3|  GOVERNMENT - LOCAL|  OPEN|    7|\n",
      "|62233|     CHESTER|   IL| RANDOLPH|   CRITICAL ACCESS|                      3|       NOT AVAILABLE|  OPEN|    7|\n",
      "|74960|    STILWELL|   OK|    ADAIR|GENERAL ACUTE CARE|                      3|         PROPRIETARY|  OPEN|    7|\n",
      "|68434|      SEWARD|   NE|   SEWARD|   CRITICAL ACCESS|                      3|          NON-PROFIT|  OPEN|    7|\n",
      "|68818|      AURORA|   NE| HAMILTON|   CRITICAL ACCESS|                      3|          NON-PROFIT|  OPEN|    7|\n",
      "|67410|     ABILENE|   KS|DICKINSON|   CRITICAL ACCESS|                      3|GOVERNMENT - DIST...|  OPEN|    7|\n",
      "|43420|     FREMONT|   OH| SANDUSKY|GENERAL ACUTE CARE|                      3|          NON-PROFIT|  OPEN|    7|\n",
      "|79029|       DUMAS|   TX|    MOORE|GENERAL ACUTE CARE|                      3|GOVERNMENT - DIST...|  OPEN|    7|\n",
      "|78629|   GRAPEVINE|   TX| GONZALES|GENERAL ACUTE CARE|                      3|GOVERNMENT - DIST...|  OPEN|    7|\n",
      "|45220|  CINCINNATI|   OH| HAMILTON|GENERAL ACUTE CARE|                      3|          NON-PROFIT|  OPEN|    4|\n",
      "|68818|      AURORA|   NE| HAMILTON|   CRITICAL ACCESS|                      4|          NON-PROFIT|  OPEN|    4|\n",
      "|43701|  ZANESVILLE|   OH|MUSKINGUM|GENERAL ACUTE CARE|                      3|          NON-PROFIT|CLOSED|    4|\n",
      "|74960|    STILWELL|   OK|    ADAIR|GENERAL ACUTE CARE|                      4|         PROPRIETARY|  OPEN|    4|\n",
      "|46947|  LOGANSPORT|   IN|     CASS|GENERAL ACUTE CARE|                      4|  GOVERNMENT - LOCAL|  OPEN|    4|\n",
      "|77030|     HOUSTON|   TX|   HARRIS|GENERAL ACUTE CARE|                      0|          NON-PROFIT|  OPEN|    4|\n",
      "|79029|       DUMAS|   TX|    MOORE|GENERAL ACUTE CARE|                      4|GOVERNMENT - DIST...|  OPEN|    4|\n",
      "|45504| SPRINGFIELD|   OH|    CLARK|GENERAL ACUTE CARE|                      3|          NON-PROFIT|CLOSED|    4|\n",
      "+-----+------------+-----+---------+------------------+-----------------------+--------------------+------+-----+\n",
      "only showing top 20 rows\n",
      "\n"
     ]
    }
   ],
   "source": [
    "hospitals_with_ratings.groupBy(['ZIP', 'CITY','STATE','COUNTY','TYPE','Hospital overall rating','OWNER','STATUS']).count().orderBy('count',ascending = [0]).show()"
   ]
  },
  {
   "cell_type": "code",
   "execution_count": 98,
   "metadata": {},
   "outputs": [],
   "source": [
    "hospital_final = hospitals_with_ratings.groupBy(['ZIP', 'CITY','STATE','COUNTY','TYPE','Hospital overall rating','OWNER','STATUS']).count().orderBy('count',ascending = [0])"
   ]
  },
  {
   "cell_type": "code",
   "execution_count": 147,
   "metadata": {},
   "outputs": [],
   "source": [
    "hos1 = hospital_final.groupBy('ZIP').agg(F.sum('count'),F.avg('Hospital overall rating')).orderBy('sum(count)', ascending = [0])"
   ]
  },
  {
   "cell_type": "code",
   "execution_count": null,
   "metadata": {},
   "outputs": [],
   "source": []
  },
  {
   "cell_type": "code",
   "execution_count": 148,
   "metadata": {},
   "outputs": [],
   "source": [
    "hos2 = hospital_final.groupBy('ZIP').pivot('TYPE').agg(F.sum('count').alias(\"CNT\")\n",
    "                                                    ,F.avg('Hospital overall rating').alias('RATE'))\n",
    "\n",
    "hos2 = hos2.na.fill(0)\n",
    "hos3 = hospital_final.groupBy('ZIP').pivot('OWNER').agg(F.sum('count').alias(\"CNT\")\n",
    "                                                    ,F.avg('Hospital overall rating').alias('RATE'))\n",
    "\n",
    "\n",
    "hos3 = hos3.na.fill(0)"
   ]
  },
  {
   "cell_type": "code",
   "execution_count": 149,
   "metadata": {},
   "outputs": [],
   "source": [
    "hos3 = hos3.drop('REHABILITATION_CNT','REHABILITATION_RATE')"
   ]
  },
  {
   "cell_type": "code",
   "execution_count": 150,
   "metadata": {},
   "outputs": [],
   "source": [
    "#b.groupBy(\"Add\").pivot(\"Name\").sum(\"ID\").show()\n",
    "#hos3 = hospital_final.groupBy('ZIP').pivot('TYPE').avg('Hospital overall rating').na.fill(0)\n",
    "#hos4 = hospital_final.groupBy('ZIP').pivot('TYPE').sum('count').alias(\"CNT\").na.fill(0)\n",
    "#hos5 = hospital_final.groupBy('ZIP').pivot('OWNER').avg('Hospital overall rating').na.fill(0)\n",
    "#hos6 = hospital_final.groupBy('ZIP').pivot('OWNER').sum('count').na.fill(0)"
   ]
  },
  {
   "cell_type": "code",
   "execution_count": 151,
   "metadata": {},
   "outputs": [],
   "source": [
    "#hospitals_with_ratings =hospital.join(hospital_ratings,['Hospital Name'],'left').na.fill('0',subset = ['Hospital overall rating'])\n",
    "hos1 = hos1.join(hos2,['ZIP'], 'left')\n",
    "hos1 = hos1.join(hos3,['ZIP'], 'left')\n"
   ]
  },
  {
   "cell_type": "code",
   "execution_count": 152,
   "metadata": {},
   "outputs": [
    {
     "name": "stdout",
     "output_type": "stream",
     "text": [
      "(5615, 39)\n"
     ]
    }
   ],
   "source": [
    "print((hos1.count(), len(hos1.columns)))"
   ]
  },
  {
   "cell_type": "code",
   "execution_count": 153,
   "metadata": {},
   "outputs": [],
   "source": [
    "hos1  = hos1.withColumn('ZIP5', hos1.ZIP).drop('ZIP')"
   ]
  },
  {
   "cell_type": "code",
   "execution_count": 154,
   "metadata": {},
   "outputs": [],
   "source": [
    "hos1 = hos1.drop('null','NOT AVAILABLE')"
   ]
  },
  {
   "cell_type": "code",
   "execution_count": 155,
   "metadata": {},
   "outputs": [
    {
     "name": "stdout",
     "output_type": "stream",
     "text": [
      "root\n",
      " |-- sum(count): long (nullable = true)\n",
      " |-- avg(Hospital overall rating): double (nullable = true)\n",
      " |-- CHILDREN_CNT: long (nullable = true)\n",
      " |-- CHILDREN_RATE: double (nullable = true)\n",
      " |-- CHRONIC DISEASE_CNT: long (nullable = true)\n",
      " |-- CHRONIC DISEASE_RATE: double (nullable = true)\n",
      " |-- CRITICAL ACCESS_CNT: long (nullable = true)\n",
      " |-- CRITICAL ACCESS_RATE: double (nullable = true)\n",
      " |-- GENERAL ACUTE CARE_CNT: long (nullable = true)\n",
      " |-- GENERAL ACUTE CARE_RATE: double (nullable = true)\n",
      " |-- LONG TERM CARE_CNT: long (nullable = true)\n",
      " |-- LONG TERM CARE_RATE: double (nullable = true)\n",
      " |-- MILITARY_CNT: long (nullable = true)\n",
      " |-- MILITARY_RATE: double (nullable = true)\n",
      " |-- PSYCHIATRIC_CNT: long (nullable = true)\n",
      " |-- PSYCHIATRIC_RATE: double (nullable = true)\n",
      " |-- REHABILITATION_CNT: long (nullable = true)\n",
      " |-- REHABILITATION_RATE: double (nullable = true)\n",
      " |-- SPECIAL_CNT: long (nullable = true)\n",
      " |-- SPECIAL_RATE: double (nullable = true)\n",
      " |-- WOMEN_CNT: long (nullable = true)\n",
      " |-- WOMEN_RATE: double (nullable = true)\n",
      " |-- null_CNT: long (nullable = true)\n",
      " |-- null_RATE: double (nullable = true)\n",
      " |-- GOVERNMENT - DISTRICT/AUTHORITY_CNT: long (nullable = true)\n",
      " |-- GOVERNMENT - DISTRICT/AUTHORITY_RATE: double (nullable = true)\n",
      " |-- GOVERNMENT - FEDERAL_CNT: long (nullable = true)\n",
      " |-- GOVERNMENT - FEDERAL_RATE: double (nullable = true)\n",
      " |-- GOVERNMENT - LOCAL_CNT: long (nullable = true)\n",
      " |-- GOVERNMENT - LOCAL_RATE: double (nullable = true)\n",
      " |-- GOVERNMENT - STATE_CNT: long (nullable = true)\n",
      " |-- GOVERNMENT - STATE_RATE: double (nullable = true)\n",
      " |-- NON-PROFIT_CNT: long (nullable = true)\n",
      " |-- NON-PROFIT_RATE: double (nullable = true)\n",
      " |-- NOT AVAILABLE_CNT: long (nullable = true)\n",
      " |-- NOT AVAILABLE_RATE: double (nullable = true)\n",
      " |-- PROPRIETARY_CNT: long (nullable = true)\n",
      " |-- PROPRIETARY_RATE: double (nullable = true)\n",
      " |-- ZIP5: string (nullable = true)\n",
      "\n"
     ]
    }
   ],
   "source": [
    "hos1.printSchema()"
   ]
  },
  {
   "cell_type": "code",
   "execution_count": 156,
   "metadata": {},
   "outputs": [],
   "source": [
    "### Join dat"
   ]
  },
  {
   "cell_type": "code",
   "execution_count": 157,
   "metadata": {},
   "outputs": [],
   "source": [
    "dat = dat.join(hos1, 'ZIP5','left').na.fill(0)"
   ]
  },
  {
   "cell_type": "code",
   "execution_count": 158,
   "metadata": {},
   "outputs": [
    {
     "name": "stdout",
     "output_type": "stream",
     "text": [
      "(51328085, 54)\n"
     ]
    }
   ],
   "source": [
    "print((dat.count(), len(dat.columns)))"
   ]
  },
  {
   "cell_type": "code",
   "execution_count": null,
   "metadata": {},
   "outputs": [],
   "source": []
  },
  {
   "cell_type": "code",
   "execution_count": null,
   "metadata": {},
   "outputs": [],
   "source": []
  },
  {
   "cell_type": "markdown",
   "metadata": {},
   "source": [
    "#### Exploration "
   ]
  },
  {
   "cell_type": "code",
   "execution_count": 45,
   "metadata": {},
   "outputs": [
    {
     "name": "stdout",
     "output_type": "stream",
     "text": [
      "+----+\n",
      "|zip4|\n",
      "+----+\n",
      "|1914|\n",
      "|4470|\n",
      "|1899|\n",
      "|2999|\n",
      "|4069|\n",
      "|2088|\n",
      "|9070|\n",
      "|2010|\n",
      "|1890|\n",
      "|3198|\n",
      "+----+\n",
      "only showing top 10 rows\n",
      "\n"
     ]
    }
   ],
   "source": [
    "hospitals_with_ratings.select('zip4').filter(\"zip4 not like '%NOT AVAILABLE%'\").show(10)"
   ]
  },
  {
   "cell_type": "code",
   "execution_count": 101,
   "metadata": {},
   "outputs": [
    {
     "name": "stdout",
     "output_type": "stream",
     "text": [
      "+-----------------------+-----+\n",
      "|Hospital overall rating|count|\n",
      "+-----------------------+-----+\n",
      "|                      3| 1485|\n",
      "|                      0| 4995|\n",
      "|                      5|   67|\n",
      "|                      1|   90|\n",
      "|                      4|  822|\n",
      "|                      2|  586|\n",
      "+-----------------------+-----+\n",
      "\n"
     ]
    }
   ],
   "source": [
    "hospitals_with_ratings.groupBy('Hospital overall rating').count().show()"
   ]
  },
  {
   "cell_type": "code",
   "execution_count": 24,
   "metadata": {},
   "outputs": [],
   "source": [
    "#change the data type \n",
    "\n",
    "hospitals_with_ratings = hospitals_with_ratings.withColumn('Hospital overall rating', hospitals_with_ratings['Hospital overall rating'].cast('int'))"
   ]
  },
  {
   "cell_type": "code",
   "execution_count": 25,
   "metadata": {},
   "outputs": [],
   "source": [
    "subset_hos1 = hospitals_with_ratings.select('STATE').groupBy('STATE').count().orderBy('count',ascending = [0])"
   ]
  },
  {
   "cell_type": "code",
   "execution_count": 28,
   "metadata": {},
   "outputs": [],
   "source": [
    "subset_hos2 = hospitals_with_ratings.select('STATE','Hospital overall rating').dropna()"
   ]
  },
  {
   "cell_type": "code",
   "execution_count": 29,
   "metadata": {},
   "outputs": [
    {
     "name": "stdout",
     "output_type": "stream",
     "text": [
      "root\n",
      " |-- STATE: string (nullable = true)\n",
      " |-- Hospital overall rating: integer (nullable = true)\n",
      "\n"
     ]
    }
   ],
   "source": [
    "subset_hos2.printSchema()"
   ]
  },
  {
   "cell_type": "code",
   "execution_count": 30,
   "metadata": {},
   "outputs": [
    {
     "name": "stdout",
     "output_type": "stream",
     "text": [
      "+-----+----------------------------+\n",
      "|STATE|avg(Hospital overall rating)|\n",
      "+-----+----------------------------+\n",
      "|   SC|           1.146788990825688|\n",
      "|   AZ|          0.7692307692307693|\n",
      "|   LA|          0.7453183520599251|\n",
      "|   MN|          1.3121019108280254|\n",
      "|   NJ|          0.7402597402597403|\n",
      "|   DC|                      0.5625|\n",
      "|   OR|          1.9523809523809523|\n",
      "|   VA|          1.2027972027972027|\n",
      "|   RI|                        1.55|\n",
      "|   WY|                        1.25|\n",
      "|   KY|           1.492537313432836|\n",
      "|   NH|          2.4150943396226414|\n",
      "|   MI|                    1.671875|\n",
      "|   NV|          0.6842105263157895|\n",
      "|   WI|          0.6608187134502924|\n",
      "|   ID|          0.7090909090909091|\n",
      "|   CA|          0.8353765323992994|\n",
      "|   NE|          1.7762237762237763|\n",
      "|   CT|          1.6829268292682926|\n",
      "|   MT|          0.7714285714285715|\n",
      "+-----+----------------------------+\n",
      "only showing top 20 rows\n",
      "\n"
     ]
    }
   ],
   "source": [
    "hospitals_with_ratings.groupBy('STATE').agg(F.avg('Hospital overall rating')).show()"
   ]
  },
  {
   "cell_type": "code",
   "execution_count": 31,
   "metadata": {},
   "outputs": [],
   "source": [
    "subset_hos2 = hospitals_with_ratings.groupBy('STATE').agg(F.avg('Hospital overall rating')).orderBy('avg(Hospital overall rating)',ascending =[0])"
   ]
  },
  {
   "cell_type": "code",
   "execution_count": 32,
   "metadata": {},
   "outputs": [],
   "source": [
    "psubset_hos1 = subset_hos1.toPandas()"
   ]
  },
  {
   "cell_type": "code",
   "execution_count": 33,
   "metadata": {},
   "outputs": [],
   "source": [
    "psubset_hos2 = subset_hos2.toPandas()"
   ]
  },
  {
   "cell_type": "code",
   "execution_count": 34,
   "metadata": {},
   "outputs": [
    {
     "data": {
      "text/html": [
       "<div>\n",
       "<style scoped>\n",
       "    .dataframe tbody tr th:only-of-type {\n",
       "        vertical-align: middle;\n",
       "    }\n",
       "\n",
       "    .dataframe tbody tr th {\n",
       "        vertical-align: top;\n",
       "    }\n",
       "\n",
       "    .dataframe thead th {\n",
       "        text-align: right;\n",
       "    }\n",
       "</style>\n",
       "<table border=\"1\" class=\"dataframe\">\n",
       "  <thead>\n",
       "    <tr style=\"text-align: right;\">\n",
       "      <th></th>\n",
       "      <th>STATE</th>\n",
       "      <th>count</th>\n",
       "    </tr>\n",
       "  </thead>\n",
       "  <tbody>\n",
       "    <tr>\n",
       "      <th>0</th>\n",
       "      <td>TX</td>\n",
       "      <td>848</td>\n",
       "    </tr>\n",
       "    <tr>\n",
       "      <th>1</th>\n",
       "      <td>CA</td>\n",
       "      <td>571</td>\n",
       "    </tr>\n",
       "    <tr>\n",
       "      <th>2</th>\n",
       "      <td>FL</td>\n",
       "      <td>370</td>\n",
       "    </tr>\n",
       "    <tr>\n",
       "      <th>3</th>\n",
       "      <td>OH</td>\n",
       "      <td>340</td>\n",
       "    </tr>\n",
       "    <tr>\n",
       "      <th>4</th>\n",
       "      <td>NY</td>\n",
       "      <td>290</td>\n",
       "    </tr>\n",
       "  </tbody>\n",
       "</table>\n",
       "</div>"
      ],
      "text/plain": [
       "  STATE  count\n",
       "0    TX    848\n",
       "1    CA    571\n",
       "2    FL    370\n",
       "3    OH    340\n",
       "4    NY    290"
      ]
     },
     "execution_count": 34,
     "metadata": {},
     "output_type": "execute_result"
    }
   ],
   "source": [
    "psubset_hos1.head()"
   ]
  },
  {
   "cell_type": "code",
   "execution_count": 35,
   "metadata": {},
   "outputs": [
    {
     "data": {
      "image/png": "[encoded data removed]",
      "text/plain": [
       "<Figure size 1440x720 with 1 Axes>"
      ]
     },
     "metadata": {},
     "output_type": "display_data"
    }
   ],
   "source": [
    "#sns.set_theme(style=\"whitegrid\")\n",
    "plt.figure(figsize=(20, 10))\n",
    "ax = sns.barplot(x=\"STATE\", y=\"count\", data=psubset_hos1)"
   ]
  },
  {
   "cell_type": "code",
   "execution_count": 36,
   "metadata": {},
   "outputs": [
    {
     "data": {
      "image/png": "[encoded data removed]",
      "text/plain": [
       "<Figure size 1440x720 with 1 Axes>"
      ]
     },
     "metadata": {},
     "output_type": "display_data"
    }
   ],
   "source": [
    "#sns.set_theme(style=\"whitegrid\")\n",
    "plt.figure(figsize=(20, 10))\n",
    "ax = sns.barplot(x=\"STATE\", y=\"avg(Hospital overall rating)\", data=psubset_hos2)"
   ]
  },
  {
   "cell_type": "code",
   "execution_count": null,
   "metadata": {},
   "outputs": [],
   "source": [
    "### hospital level could be 'county','zipcode','state'"
   ]
  },
  {
   "cell_type": "code",
   "execution_count": null,
   "metadata": {},
   "outputs": [],
   "source": [
    "CountyCrossWalk_Zillow"
   ]
  },
  {
   "cell_type": "markdown",
   "metadata": {},
   "source": [
    "### Crime Exploration"
   ]
  },
  {
   "cell_type": "code",
   "execution_count": 190,
   "metadata": {},
   "outputs": [
    {
     "name": "stdout",
     "output_type": "stream",
     "text": [
      "+--------------------+---------------------+------+-------+----+----+--------+--------+--------+------+-------+-------+-------+------+----+-------+-------+-------+-------+-------+-----+----------+-------+--------+\n",
      "|         county_name|crime_rate_per_100000|index2|EDITION|PART|IDNO|CPOPARST|CPOPCRIM|AG_ARRST|AG_OFF| COVIND|INDEX11|MODINDX|MURDER|RAPE|ROBBERY|AGASSLT|BURGLRY|LARCENY|MVTHEFT|ARSON|population|FIPS_ST|FIPS_CTY|\n",
      "+--------------------+---------------------+------+-------+----+----+--------+--------+--------+------+-------+-------+-------+------+----+-------+-------+-------+-------+-------+-----+----------+-------+--------+\n",
      "|  St. Louis city, MO|          1791.995377|     1|      1|   4|1612|  318667|  318667|      15|    15|    100|   5706|  22329|   119| 200|   1778|   3609|   4995|  13791|   3543|  464|    318416|     29|     510|\n",
      "|Crittenden County...|          1754.914968|     2|      1|   4| 130|   50717|   50717|       4|     4|    100|    873|   3424|     8|  38|    165|    662|   1482|   1753|    189|   28|     49746|      5|      35|\n",
      "|Alexander County, IL|          1664.700485|     3|      1|   4| 604|    8040|    8040|       2|     2|    100|    127|    278|     1|   2|      5|    119|     82|    184|     12|    2|      7629|     17|       3|\n",
      "|   Kenedy County, TX|           1456.31068|     4|      1|   4|2681|     444|     444|       1|     1|    100|      6|     13|     0|   3|      1|      2|      5|      4|      4|    0|       412|     48|     261|\n",
      "|  De Soto Parish, LA|           1447.40243|     5|      1|   4|1137|   26971|   26971|       3|     3|    100|    392|    703|     3|   4|     17|    368|    149|    494|     60|    0|     27083|     22|      31|\n",
      "|  Baltimore city, MD|          1419.537569|     6|      1|   4|1227|  625474|  625474|       9|     9|    100|   8831|  29868|   216| 317|   3638|   4660|   7804|  18055|   4009|  251|    622104|     24|     510|\n",
      "|   Shelby County, TN|          1315.003752|     7|      1|   4|2534|  942807|  942807|      15|    14|    100|  12354|  47864|   135| 483|   3512|   8224|  14011|  30620|   3233|  435|    939465|     47|     157|\n",
      "| Marlboro County, SC|          1253.437132|     8|      1|   4|2377|   28780|   28780|       9|     8|    100|    351|   1549|     3|  20|     32|    296|    408|   1074|     67|    5|     28003|     45|      69|\n",
      "|   Storey County, NV|          1217.656012|     9|      1|   4|1778|    3947|    3947|       1|     1|    100|     48|     86|     0|   7|      2|     39|     23|     55|      8|    2|      3942|     32|      29|\n",
      "|District of Colum...|          1216.801325|    10|      1|   4| 325|  632323|  632323|       2|     1|    100|   7866|  30757|    88| 236|   4037|   3505|   3519|  23575|   3663|   51|    646449|     11|       1|\n",
      "|   Dillon County, SC|          1165.583272|    11|      1|   4|2359|   32060|   32060|       9|     8|    100|    364|   1906|     8|  17|     48|    291|    595|   1206|    105|   12|     31229|     45|      33|\n",
      "|    Scott County, MO|          1163.145839|    12|      1|   4|1597|   40941|   40941|       7|     8|    100|    457|   1277|     2|   7|     26|    422|    236|   1002|     39|    8|     39290|     29|     201|\n",
      "|Philadelphia Coun...|           1150.29633|    13|      1|   4|2320| 1538957| 1538957|       6|     5|    100|  17866|  57000|   332| 881|   7984|   8669|  12004|  38595|   6401|    0|   1553165|     42|     101|\n",
      "| Pershing County, NV|          1148.756725|    14|      1|   4|1777|    6822|    6822|       2|     2|    100|     79|     75|     0|   3|      1|     75|     27|     43|      5|    0|      6877|     32|      27|\n",
      "|Greenwood County, SC|          1140.226324|    15|      1|   4|2366|   71009|   70499|      10|     8|    100|    795|   3651|     7|  39|     73|    676|    965|   2564|    122|   12|     69723|     45|      47|\n",
      "|  Madison County, TN|           1138.42383|    16|      1|   4|2512|   98988|   99067|       4|     5|    100|   1124|   4084|    13|  33|    196|    882|   1300|   2604|    180|   27|     98733|     47|     113|\n",
      "| Davidson County, TN|          1129.513728|    17|      1|   4|2474|  635244|  635244|      10|    10|    100|   7439|  27666|    65| 312|   1753|   5309|   5875|  20373|   1418|  100|    658602|     47|      37|\n",
      "|   Marion County, IN|          1083.508119|    18|      1|   4| 753|  911521|  867596|      11|     9|    100|  10058|  49004|   102| 453|   3486|   6017|  15125|  29122|   4757|  414|    928281|     18|      97|\n",
      "|    Wayne County, MI|          1065.188284|    19|      1|   4|1324| 1800769| 1793982|      47|    47|99.6046|  18910|  69839|   433| 803|   5879|  11795|  19882|  34706|  15251|  766|   1775273|     26|     163|\n",
      "|  Jackson County, MO|          1026.623686|    20|      1|   4|1545|  839561|  837636|      19|    23|    100|   6981|  40642|   116| 358|   1913|   4594|   9695|  25994|   4953|  318|    679996|     29|      95|\n",
      "+--------------------+---------------------+------+-------+----+----+--------+--------+--------+------+-------+-------+-------+------+----+-------+-------+-------+-------+-------+-----+----------+-------+--------+\n",
      "only showing top 20 rows\n",
      "\n"
     ]
    }
   ],
   "source": [
    "crime.show()"
   ]
  },
  {
   "cell_type": "code",
   "execution_count": 205,
   "metadata": {},
   "outputs": [],
   "source": [
    "state = crime.withColumn('ColCommasRemoved',F.split(crime.county_name,',')).select('county_name',F.rtrim(F.col('ColCommasRemoved')[1]))\n"
   ]
  },
  {
   "cell_type": "code",
   "execution_count": 206,
   "metadata": {},
   "outputs": [],
   "source": [
    "state = state.withColumn('state',state['rtrim(ColCommasRemoved[1])']).drop('rtrim(ColCommasRemoved[1])')"
   ]
  },
  {
   "cell_type": "code",
   "execution_count": 209,
   "metadata": {},
   "outputs": [
    {
     "name": "stdout",
     "output_type": "stream",
     "text": [
      "+--------------------+-----+\n",
      "|         county_name|state|\n",
      "+--------------------+-----+\n",
      "|  St. Louis city, MO|   MO|\n",
      "|Crittenden County...|   AR|\n",
      "|Alexander County, IL|   IL|\n",
      "|   Kenedy County, TX|   TX|\n",
      "|  De Soto Parish, LA|   LA|\n",
      "|  Baltimore city, MD|   MD|\n",
      "|   Shelby County, TN|   TN|\n",
      "| Marlboro County, SC|   SC|\n",
      "|   Storey County, NV|   NV|\n",
      "|District of Colum...|   DC|\n",
      "|   Dillon County, SC|   SC|\n",
      "|    Scott County, MO|   MO|\n",
      "|Philadelphia Coun...|   PA|\n",
      "| Pershing County, NV|   NV|\n",
      "|Greenwood County, SC|   SC|\n",
      "|  Madison County, TN|   TN|\n",
      "| Davidson County, TN|   TN|\n",
      "|   Marion County, IN|   IN|\n",
      "|    Wayne County, MI|   MI|\n",
      "|  Jackson County, MO|   MO|\n",
      "+--------------------+-----+\n",
      "only showing top 20 rows\n",
      "\n"
     ]
    }
   ],
   "source": [
    "state.show()\n",
    "crime = crime.join(state, 'county_name','left')"
   ]
  },
  {
   "cell_type": "code",
   "execution_count": 211,
   "metadata": {},
   "outputs": [
    {
     "name": "stdout",
     "output_type": "stream",
     "text": [
      "+--------------------+---------------------+------+-------+----+----+--------+--------+--------+------+-------+-------+-------+------+----+-------+-------+-------+-------+-------+-----+----------+-------+--------+-----+\n",
      "|         county_name|crime_rate_per_100000|index2|EDITION|PART|IDNO|CPOPARST|CPOPCRIM|AG_ARRST|AG_OFF| COVIND|INDEX11|MODINDX|MURDER|RAPE|ROBBERY|AGASSLT|BURGLRY|LARCENY|MVTHEFT|ARSON|population|FIPS_ST|FIPS_CTY|state|\n",
      "+--------------------+---------------------+------+-------+----+----+--------+--------+--------+------+-------+-------+-------+------+----+-------+-------+-------+-------+-------+-----+----------+-------+--------+-----+\n",
      "|  St. Louis city, MO|          1791.995377|     1|      1|   4|1612|  318667|  318667|      15|    15|    100|   5706|  22329|   119| 200|   1778|   3609|   4995|  13791|   3543|  464|    318416|     29|     510|   MO|\n",
      "|Crittenden County...|          1754.914968|     2|      1|   4| 130|   50717|   50717|       4|     4|    100|    873|   3424|     8|  38|    165|    662|   1482|   1753|    189|   28|     49746|      5|      35|   AR|\n",
      "|Alexander County, IL|          1664.700485|     3|      1|   4| 604|    8040|    8040|       2|     2|    100|    127|    278|     1|   2|      5|    119|     82|    184|     12|    2|      7629|     17|       3|   IL|\n",
      "|   Kenedy County, TX|           1456.31068|     4|      1|   4|2681|     444|     444|       1|     1|    100|      6|     13|     0|   3|      1|      2|      5|      4|      4|    0|       412|     48|     261|   TX|\n",
      "|  De Soto Parish, LA|           1447.40243|     5|      1|   4|1137|   26971|   26971|       3|     3|    100|    392|    703|     3|   4|     17|    368|    149|    494|     60|    0|     27083|     22|      31|   LA|\n",
      "|  Baltimore city, MD|          1419.537569|     6|      1|   4|1227|  625474|  625474|       9|     9|    100|   8831|  29868|   216| 317|   3638|   4660|   7804|  18055|   4009|  251|    622104|     24|     510|   MD|\n",
      "|   Shelby County, TN|          1315.003752|     7|      1|   4|2534|  942807|  942807|      15|    14|    100|  12354|  47864|   135| 483|   3512|   8224|  14011|  30620|   3233|  435|    939465|     47|     157|   TN|\n",
      "| Marlboro County, SC|          1253.437132|     8|      1|   4|2377|   28780|   28780|       9|     8|    100|    351|   1549|     3|  20|     32|    296|    408|   1074|     67|    5|     28003|     45|      69|   SC|\n",
      "|   Storey County, NV|          1217.656012|     9|      1|   4|1778|    3947|    3947|       1|     1|    100|     48|     86|     0|   7|      2|     39|     23|     55|      8|    2|      3942|     32|      29|   NV|\n",
      "|District of Colum...|          1216.801325|    10|      1|   4| 325|  632323|  632323|       2|     1|    100|   7866|  30757|    88| 236|   4037|   3505|   3519|  23575|   3663|   51|    646449|     11|       1|   DC|\n",
      "|   Dillon County, SC|          1165.583272|    11|      1|   4|2359|   32060|   32060|       9|     8|    100|    364|   1906|     8|  17|     48|    291|    595|   1206|    105|   12|     31229|     45|      33|   SC|\n",
      "|    Scott County, MO|          1163.145839|    12|      1|   4|1597|   40941|   40941|       7|     8|    100|    457|   1277|     2|   7|     26|    422|    236|   1002|     39|    8|     39290|     29|     201|   MO|\n",
      "|Philadelphia Coun...|           1150.29633|    13|      1|   4|2320| 1538957| 1538957|       6|     5|    100|  17866|  57000|   332| 881|   7984|   8669|  12004|  38595|   6401|    0|   1553165|     42|     101|   PA|\n",
      "| Pershing County, NV|          1148.756725|    14|      1|   4|1777|    6822|    6822|       2|     2|    100|     79|     75|     0|   3|      1|     75|     27|     43|      5|    0|      6877|     32|      27|   NV|\n",
      "|Greenwood County, SC|          1140.226324|    15|      1|   4|2366|   71009|   70499|      10|     8|    100|    795|   3651|     7|  39|     73|    676|    965|   2564|    122|   12|     69723|     45|      47|   SC|\n",
      "|  Madison County, TN|           1138.42383|    16|      1|   4|2512|   98988|   99067|       4|     5|    100|   1124|   4084|    13|  33|    196|    882|   1300|   2604|    180|   27|     98733|     47|     113|   TN|\n",
      "| Davidson County, TN|          1129.513728|    17|      1|   4|2474|  635244|  635244|      10|    10|    100|   7439|  27666|    65| 312|   1753|   5309|   5875|  20373|   1418|  100|    658602|     47|      37|   TN|\n",
      "|   Marion County, IN|          1083.508119|    18|      1|   4| 753|  911521|  867596|      11|     9|    100|  10058|  49004|   102| 453|   3486|   6017|  15125|  29122|   4757|  414|    928281|     18|      97|   IN|\n",
      "|    Wayne County, MI|          1065.188284|    19|      1|   4|1324| 1800769| 1793982|      47|    47|99.6046|  18910|  69839|   433| 803|   5879|  11795|  19882|  34706|  15251|  766|   1775273|     26|     163|   MI|\n",
      "|  Jackson County, MO|          1026.623686|    20|      1|   4|1545|  839561|  837636|      19|    23|    100|   6981|  40642|   116| 358|   1913|   4594|   9695|  25994|   4953|  318|    679996|     29|      95|   MO|\n",
      "+--------------------+---------------------+------+-------+----+----+--------+--------+--------+------+-------+-------+-------+------+----+-------+-------+-------+-------+-------+-----+----------+-------+--------+-----+\n",
      "only showing top 20 rows\n",
      "\n"
     ]
    }
   ],
   "source": [
    "crime.show()"
   ]
  },
  {
   "cell_type": "code",
   "execution_count": 168,
   "metadata": {},
   "outputs": [],
   "source": [
    "#Crime_rates[\"FIPS\"] = Crime_rates[\"FIPS\"].astype(\"int64\")"
   ]
  },
  {
   "cell_type": "code",
   "execution_count": 166,
   "metadata": {},
   "outputs": [],
   "source": [
    "subset_crime = crime.groupBy(['county_name','crime_rate_per_100000']).agg(F.avg('crime_rate_per_100000')).orderBy('avg(crime_rate_per_100000)',ascending = [0])"
   ]
  },
  {
   "cell_type": "code",
   "execution_count": 169,
   "metadata": {},
   "outputs": [],
   "source": [
    "psubset_crime = subset_crime.toPandas()"
   ]
  },
  {
   "cell_type": "code",
   "execution_count": 144,
   "metadata": {},
   "outputs": [
    {
     "name": "stdout",
     "output_type": "stream",
     "text": [
      "+-------+--------+-----+\n",
      "|FIPS_ST|FIPS_CTY|count|\n",
      "+-------+--------+-----+\n",
      "|     20|      29|    1|\n",
      "|      1|      41|    1|\n",
      "|     37|      45|    1|\n",
      "|      2|     100|    1|\n",
      "|     18|     159|    1|\n",
      "|     30|      87|    1|\n",
      "|     56|      33|    1|\n",
      "|     55|      41|    1|\n",
      "|     31|       3|    1|\n",
      "|     49|      17|    1|\n",
      "|     41|      31|    1|\n",
      "|     29|      95|    1|\n",
      "|      5|     139|    1|\n",
      "|     26|     153|    1|\n",
      "|     45|      35|    1|\n",
      "|     30|      95|    1|\n",
      "|     54|      19|    1|\n",
      "|     20|     181|    1|\n",
      "|     49|      33|    1|\n",
      "|     29|      65|    1|\n",
      "+-------+--------+-----+\n",
      "only showing top 20 rows\n",
      "\n"
     ]
    }
   ],
   "source": [
    "crime.groupBy('FIPS_ST','FIPS_CTY').count().orderBy('count',ascending = [0]).show()"
   ]
  },
  {
   "cell_type": "code",
   "execution_count": 161,
   "metadata": {},
   "outputs": [],
   "source": [
    "CountyCrossWalk_Zillow = CountyCrossWalk_Zillow.withColumn('FIPS_ST',CountyCrossWalk_Zillow['StateFIPS'])\\\n",
    "                                                .withColumn('FIPS_CTY',CountyCrossWalk_Zillow['CountyFIPS'])"
   ]
  },
  {
   "cell_type": "code",
   "execution_count": 162,
   "metadata": {},
   "outputs": [
    {
     "name": "stdout",
     "output_type": "stream",
     "text": [
      "root\n",
      " |-- CountyName: string (nullable = true)\n",
      " |-- StateName: string (nullable = true)\n",
      " |-- StateFIPS: string (nullable = true)\n",
      " |-- CountyFIPS: string (nullable = true)\n",
      " |-- MetroName_Zillow: string (nullable = true)\n",
      " |-- CBSAName: string (nullable = true)\n",
      " |-- CountyRegionID_Zillow: string (nullable = true)\n",
      " |-- MetroRegionID_Zillow: string (nullable = true)\n",
      " |-- FIPS: string (nullable = true)\n",
      " |-- CBSACode: string (nullable = true)\n",
      " |-- FIPS_ST: string (nullable = true)\n",
      " |-- FIPS_CTY: string (nullable = true)\n",
      "\n"
     ]
    }
   ],
   "source": [
    "CountyCrossWalk_Zillow.printSchema()"
   ]
  },
  {
   "cell_type": "code",
   "execution_count": 227,
   "metadata": {},
   "outputs": [
    {
     "name": "stdout",
     "output_type": "stream",
     "text": [
      "+-----+---------------------+-------+------+----+-------+-------+-------+-------+-------+-----+----------+-------+\n",
      "|state|crime_rate_per_100000|MODINDX|MURDER|RAPE|ROBBERY|AGASSLT|BURGLRY|LARCENY|MVTHEFT|ARSON|population| county|\n",
      "+-----+---------------------+-------+------+----+-------+-------+-------+-------+-------+-----+----------+-------+\n",
      "|   GA|          78.83770695|    120|     0|   0|      2|      5|     42|     70|      8|    0|      8879|HANCOCK|\n",
      "+-----+---------------------+-------+------+----+-------+-------+-------+-------+-------+-----+----------+-------+\n",
      "\n"
     ]
    }
   ],
   "source": [
    "crime.filter(\"upper(county) like 'HANCOCK'\").show()"
   ]
  },
  {
   "cell_type": "code",
   "execution_count": 212,
   "metadata": {},
   "outputs": [],
   "source": [
    "crime = crime.join(CountyCrossWalk_Zillow,['FIPS_ST','FIPS_CTY'],'left')\n"
   ]
  },
  {
   "cell_type": "code",
   "execution_count": 213,
   "metadata": {},
   "outputs": [
    {
     "name": "stdout",
     "output_type": "stream",
     "text": [
      "root\n",
      " |-- FIPS_ST: string (nullable = true)\n",
      " |-- FIPS_CTY: string (nullable = true)\n",
      " |-- county_name: string (nullable = true)\n",
      " |-- crime_rate_per_100000: string (nullable = true)\n",
      " |-- index2: string (nullable = true)\n",
      " |-- EDITION: string (nullable = true)\n",
      " |-- PART: string (nullable = true)\n",
      " |-- IDNO: string (nullable = true)\n",
      " |-- CPOPARST: string (nullable = true)\n",
      " |-- CPOPCRIM: string (nullable = true)\n",
      " |-- AG_ARRST: string (nullable = true)\n",
      " |-- AG_OFF: string (nullable = true)\n",
      " |-- COVIND: string (nullable = true)\n",
      " |-- INDEX11: string (nullable = true)\n",
      " |-- MODINDX: string (nullable = true)\n",
      " |-- MURDER: string (nullable = true)\n",
      " |-- RAPE: string (nullable = true)\n",
      " |-- ROBBERY: string (nullable = true)\n",
      " |-- AGASSLT: string (nullable = true)\n",
      " |-- BURGLRY: string (nullable = true)\n",
      " |-- LARCENY: string (nullable = true)\n",
      " |-- MVTHEFT: string (nullable = true)\n",
      " |-- ARSON: string (nullable = true)\n",
      " |-- population: string (nullable = true)\n",
      " |-- state: string (nullable = true)\n",
      " |-- CountyName: string (nullable = true)\n",
      " |-- StateName: string (nullable = true)\n",
      " |-- StateFIPS: string (nullable = true)\n",
      " |-- CountyFIPS: string (nullable = true)\n",
      " |-- MetroName_Zillow: string (nullable = true)\n",
      " |-- CBSAName: string (nullable = true)\n",
      " |-- CountyRegionID_Zillow: string (nullable = true)\n",
      " |-- MetroRegionID_Zillow: string (nullable = true)\n",
      " |-- FIPS: string (nullable = true)\n",
      " |-- CBSACode: string (nullable = true)\n",
      "\n"
     ]
    }
   ],
   "source": [
    "crime.printSchema()"
   ]
  },
  {
   "cell_type": "code",
   "execution_count": 214,
   "metadata": {},
   "outputs": [],
   "source": [
    "\n",
    "crime = crime.select(['CountyName','state','crime_rate_per_100000'\n",
    "        ,'MURDER','RAPE','ROBBERY','AGASSLT','BURGLRY','LARCENY','MVTHEFT','ARSON','population'])\n",
    "crime = crime.dropna()"
   ]
  },
  {
   "cell_type": "code",
   "execution_count": 237,
   "metadata": {},
   "outputs": [],
   "source": [
    "crime = crime.groupBy('state').agg(F.count('MURDER'),F.count('RAPE'),F.count('ROBBERY')\n",
    "                            ,F.count('AGASSLT'),F.count('BURGLRY'),F.count('MVTHEFT'),F.count('ARSON')\n",
    "                            ,F.sum('population')\n",
    "                            ,F.avg('crime_rate_per_100000'))"
   ]
  },
  {
   "cell_type": "code",
   "execution_count": 218,
   "metadata": {},
   "outputs": [],
   "source": [
    "#crime = crime.withColumn('county',F.upper(crime.CountyName))\n",
    "        "
   ]
  },
  {
   "cell_type": "code",
   "execution_count": 219,
   "metadata": {},
   "outputs": [],
   "source": [
    "#crime = crime.drop('CountyName')"
   ]
  },
  {
   "cell_type": "code",
   "execution_count": 238,
   "metadata": {},
   "outputs": [
    {
     "name": "stdout",
     "output_type": "stream",
     "text": [
      "28 10\n"
     ]
    }
   ],
   "source": [
    "print(crime.count(), len(crime.columns))"
   ]
  },
  {
   "cell_type": "code",
   "execution_count": 225,
   "metadata": {},
   "outputs": [
    {
     "name": "stdout",
     "output_type": "stream",
     "text": [
      "+-----+---------------------+-------+------+----+-------+-------+-------+-------+-------+-----+----------+----------------+\n",
      "|state|crime_rate_per_100000|MODINDX|MURDER|RAPE|ROBBERY|AGASSLT|BURGLRY|LARCENY|MVTHEFT|ARSON|population|          county|\n",
      "+-----+---------------------+-------+------+----+-------+-------+-------+-------+-------+-----+----------+----------------+\n",
      "|   MO|          1791.995377|  22329|   119| 200|   1778|   3609|   4995|  13791|   3543|  464|    318416|SAINT LOUIS CITY|\n",
      "|   TX|           1456.31068|     13|     0|   3|      1|      2|      5|      4|      4|    0|       412|          KENEDY|\n",
      "|   MD|          1419.537569|  29868|   216| 317|   3638|   4660|   7804|  18055|   4009|  251|    622104|  BALTIMORE CITY|\n",
      "|   TN|          1315.003752|  47864|   135| 483|   3512|   8224|  14011|  30620|   3233|  435|    939465|          SHELBY|\n",
      "|   MO|          1163.145839|   1277|     2|   7|     26|    422|    236|   1002|     39|    8|     39290|           SCOTT|\n",
      "|   PA|           1150.29633|  57000|   332| 881|   7984|   8669|  12004|  38595|   6401|    0|   1553165|    PHILADELPHIA|\n",
      "|   TN|           1138.42383|   4084|    13|  33|    196|    882|   1300|   2604|    180|   27|     98733|         MADISON|\n",
      "|   MI|          1065.188284|  69839|   433| 803|   5879|  11795|  19882|  34706|  15251|  766|   1775273|           WAYNE|\n",
      "|   MO|          998.7095326|    678|     0|   6|     21|    151|    192|    463|     23|    2|     17823|        PEMISCOT|\n",
      "|   OK|          954.4400666|   2344|     3|  34|     41|    593|    878|   1324|    142|   23|     70303|        MUSKOGEE|\n",
      "|   LA|          952.8593755|   7162|    11|  64|    185|    935|   2683|   4262|    218|    1|    125412|      TANGIPAHOA|\n",
      "|   MN|          892.8571429|     64|     0|   0|      0|     85|      9|     52|      3|    0|      9520|            ROCK|\n",
      "|   IA|          873.5225606|   5016|     1|  79|     83|    647|   1166|   3283|    567|   55|     92728|   POTTAWATTAMIE|\n",
      "|   TX|          871.1844118|    507|     0|  27|     10|     94|    143|    345|     19|    1|     15037|           NOLAN|\n",
      "|   IL|          854.9331535|  10787|    15| 196|    553|   1721|   2939|   7356|    492|  101|    290666|       WINNEBAGO|\n",
      "|   MI|           828.830479|   4681|    29| 126|    242|   1232|   1751|   2707|    223|   56|    196542|         SAGINAW|\n",
      "|   GA|          826.1767583|  49806|   123| 216|   3365|   4428|  11091|  31070|   7645|  135|    984293|          FULTON|\n",
      "|   IL|          817.9969369|   9256|    40| 160|    318|   1110|   2104|   6278|    875|   76|    199145|        SANGAMON|\n",
      "|   NC|          809.8427036|   7958|    13|  32|    273|    775|   2937|   4637|    385|   69|    134841|         ROBESON|\n",
      "|   KS|          805.8945429|     28|     0|   1|      0|     34|      5|     23|      0|    0|      4343|           MEADE|\n",
      "+-----+---------------------+-------+------+----+-------+-------+-------+-------+-------+-----+----------+----------------+\n",
      "only showing top 20 rows\n",
      "\n"
     ]
    }
   ],
   "source": [
    "crime.show()\n"
   ]
  },
  {
   "cell_type": "code",
   "execution_count": 245,
   "metadata": {},
   "outputs": [],
   "source": [
    "final_dat = dat.join(crime,'state','left').na.fill(0)"
   ]
  },
  {
   "cell_type": "code",
   "execution_count": 246,
   "metadata": {},
   "outputs": [
    {
     "name": "stdout",
     "output_type": "stream",
     "text": [
      "root\n",
      " |-- state: string (nullable = true)\n",
      " |-- zip5: string (nullable = true)\n",
      " |-- physical_address: string (nullable = true)\n",
      " |-- city: string (nullable = true)\n",
      " |-- county: string (nullable = true)\n",
      " |-- property_id: string (nullable = true)\n",
      " |-- sale_date: string (nullable = true)\n",
      " |-- property_type: string (nullable = true)\n",
      " |-- sale_price: string (nullable = true)\n",
      " |-- seller_name: string (nullable = true)\n",
      " |-- buyer_name: string (nullable = true)\n",
      " |-- num_units: string (nullable = true)\n",
      " |-- year_built: string (nullable = true)\n",
      " |-- source_url: string (nullable = true)\n",
      " |-- book: string (nullable = true)\n",
      " |-- page: string (nullable = true)\n",
      " |-- sum(count): long (nullable = true)\n",
      " |-- avg(Hospital overall rating): double (nullable = false)\n",
      " |-- CHILDREN_CNT: long (nullable = true)\n",
      " |-- CHILDREN_RATE: double (nullable = false)\n",
      " |-- CHRONIC DISEASE_CNT: long (nullable = true)\n",
      " |-- CHRONIC DISEASE_RATE: double (nullable = false)\n",
      " |-- CRITICAL ACCESS_CNT: long (nullable = true)\n",
      " |-- CRITICAL ACCESS_RATE: double (nullable = false)\n",
      " |-- GENERAL ACUTE CARE_CNT: long (nullable = true)\n",
      " |-- GENERAL ACUTE CARE_RATE: double (nullable = false)\n",
      " |-- LONG TERM CARE_CNT: long (nullable = true)\n",
      " |-- LONG TERM CARE_RATE: double (nullable = false)\n",
      " |-- MILITARY_CNT: long (nullable = true)\n",
      " |-- MILITARY_RATE: double (nullable = false)\n",
      " |-- PSYCHIATRIC_CNT: long (nullable = true)\n",
      " |-- PSYCHIATRIC_RATE: double (nullable = false)\n",
      " |-- REHABILITATION_CNT: long (nullable = true)\n",
      " |-- REHABILITATION_RATE: double (nullable = false)\n",
      " |-- SPECIAL_CNT: long (nullable = true)\n",
      " |-- SPECIAL_RATE: double (nullable = false)\n",
      " |-- WOMEN_CNT: long (nullable = true)\n",
      " |-- WOMEN_RATE: double (nullable = false)\n",
      " |-- null_CNT: long (nullable = true)\n",
      " |-- null_RATE: double (nullable = false)\n",
      " |-- GOVERNMENT - DISTRICT/AUTHORITY_CNT: long (nullable = true)\n",
      " |-- GOVERNMENT - DISTRICT/AUTHORITY_RATE: double (nullable = false)\n",
      " |-- GOVERNMENT - FEDERAL_CNT: long (nullable = true)\n",
      " |-- GOVERNMENT - FEDERAL_RATE: double (nullable = false)\n",
      " |-- GOVERNMENT - LOCAL_CNT: long (nullable = true)\n",
      " |-- GOVERNMENT - LOCAL_RATE: double (nullable = false)\n",
      " |-- GOVERNMENT - STATE_CNT: long (nullable = true)\n",
      " |-- GOVERNMENT - STATE_RATE: double (nullable = false)\n",
      " |-- NON-PROFIT_CNT: long (nullable = true)\n",
      " |-- NON-PROFIT_RATE: double (nullable = false)\n",
      " |-- NOT AVAILABLE_CNT: long (nullable = true)\n",
      " |-- NOT AVAILABLE_RATE: double (nullable = false)\n",
      " |-- PROPRIETARY_CNT: long (nullable = true)\n",
      " |-- PROPRIETARY_RATE: double (nullable = false)\n",
      " |-- count(MURDER): long (nullable = true)\n",
      " |-- count(RAPE): long (nullable = true)\n",
      " |-- count(ROBBERY): long (nullable = true)\n",
      " |-- count(AGASSLT): long (nullable = true)\n",
      " |-- count(BURGLRY): long (nullable = true)\n",
      " |-- count(MVTHEFT): long (nullable = true)\n",
      " |-- count(ARSON): long (nullable = true)\n",
      " |-- sum(population): double (nullable = false)\n",
      " |-- avg(crime_rate_per_100000): double (nullable = false)\n",
      "\n"
     ]
    }
   ],
   "source": [
    "final_dat.printSchema()"
   ]
  },
  {
   "cell_type": "code",
   "execution_count": 159,
   "metadata": {},
   "outputs": [],
   "source": [
    "subset_crime = crime.groupBy('StateName').agg(F.avg('crime_rate_per_100000')).orderBy('avg(crime_rate_per_100000)',ascending = [0])"
   ]
  },
  {
   "cell_type": "code",
   "execution_count": 173,
   "metadata": {},
   "outputs": [
    {
     "data": {
      "text/html": [
       "<div>\n",
       "<style scoped>\n",
       "    .dataframe tbody tr th:only-of-type {\n",
       "        vertical-align: middle;\n",
       "    }\n",
       "\n",
       "    .dataframe tbody tr th {\n",
       "        vertical-align: top;\n",
       "    }\n",
       "\n",
       "    .dataframe thead th {\n",
       "        text-align: right;\n",
       "    }\n",
       "</style>\n",
       "<table border=\"1\" class=\"dataframe\">\n",
       "  <thead>\n",
       "    <tr style=\"text-align: right;\">\n",
       "      <th></th>\n",
       "      <th>county_name</th>\n",
       "      <th>crime_rate_per_100000</th>\n",
       "      <th>avg(crime_rate_per_100000)</th>\n",
       "    </tr>\n",
       "  </thead>\n",
       "  <tbody>\n",
       "    <tr>\n",
       "      <th>0</th>\n",
       "      <td>St. Louis city, MO</td>\n",
       "      <td>1791.995377</td>\n",
       "      <td>1791.995377</td>\n",
       "    </tr>\n",
       "    <tr>\n",
       "      <th>1</th>\n",
       "      <td>Crittenden County, AR</td>\n",
       "      <td>1754.914968</td>\n",
       "      <td>1754.914968</td>\n",
       "    </tr>\n",
       "    <tr>\n",
       "      <th>2</th>\n",
       "      <td>Alexander County, IL</td>\n",
       "      <td>1664.700485</td>\n",
       "      <td>1664.700485</td>\n",
       "    </tr>\n",
       "    <tr>\n",
       "      <th>3</th>\n",
       "      <td>Kenedy County, TX</td>\n",
       "      <td>1456.31068</td>\n",
       "      <td>1456.310680</td>\n",
       "    </tr>\n",
       "    <tr>\n",
       "      <th>4</th>\n",
       "      <td>De Soto Parish, LA</td>\n",
       "      <td>1447.40243</td>\n",
       "      <td>1447.402430</td>\n",
       "    </tr>\n",
       "    <tr>\n",
       "      <th>5</th>\n",
       "      <td>Baltimore city, MD</td>\n",
       "      <td>1419.537569</td>\n",
       "      <td>1419.537569</td>\n",
       "    </tr>\n",
       "    <tr>\n",
       "      <th>6</th>\n",
       "      <td>Shelby County, TN</td>\n",
       "      <td>1315.003752</td>\n",
       "      <td>1315.003752</td>\n",
       "    </tr>\n",
       "    <tr>\n",
       "      <th>7</th>\n",
       "      <td>Marlboro County, SC</td>\n",
       "      <td>1253.437132</td>\n",
       "      <td>1253.437132</td>\n",
       "    </tr>\n",
       "    <tr>\n",
       "      <th>8</th>\n",
       "      <td>Storey County, NV</td>\n",
       "      <td>1217.656012</td>\n",
       "      <td>1217.656012</td>\n",
       "    </tr>\n",
       "    <tr>\n",
       "      <th>9</th>\n",
       "      <td>District of Columbia, DC</td>\n",
       "      <td>1216.801325</td>\n",
       "      <td>1216.801325</td>\n",
       "    </tr>\n",
       "    <tr>\n",
       "      <th>10</th>\n",
       "      <td>Dillon County, SC</td>\n",
       "      <td>1165.583272</td>\n",
       "      <td>1165.583272</td>\n",
       "    </tr>\n",
       "  </tbody>\n",
       "</table>\n",
       "</div>"
      ],
      "text/plain": [
       "                 county_name crime_rate_per_100000  avg(crime_rate_per_100000)\n",
       "0         St. Louis city, MO           1791.995377                 1791.995377\n",
       "1      Crittenden County, AR           1754.914968                 1754.914968\n",
       "2       Alexander County, IL           1664.700485                 1664.700485\n",
       "3          Kenedy County, TX            1456.31068                 1456.310680\n",
       "4         De Soto Parish, LA            1447.40243                 1447.402430\n",
       "5         Baltimore city, MD           1419.537569                 1419.537569\n",
       "6          Shelby County, TN           1315.003752                 1315.003752\n",
       "7        Marlboro County, SC           1253.437132                 1253.437132\n",
       "8          Storey County, NV           1217.656012                 1217.656012\n",
       "9   District of Columbia, DC           1216.801325                 1216.801325\n",
       "10         Dillon County, SC           1165.583272                 1165.583272"
      ]
     },
     "execution_count": 173,
     "metadata": {},
     "output_type": "execute_result"
    }
   ],
   "source": [
    "psubset_crime.loc[:10]"
   ]
  },
  {
   "cell_type": "code",
   "execution_count": 177,
   "metadata": {},
   "outputs": [
    {
     "data": {
      "text/plain": [
       "(array([ 0,  1,  2,  3,  4,  5,  6,  7,  8,  9, 10, 11, 12, 13, 14, 15, 16,\n",
       "        17, 18, 19, 20]), <a list of 21 Text xticklabel objects>)"
      ]
     },
     "execution_count": 177,
     "metadata": {},
     "output_type": "execute_result"
    },
    {
     "data": {
      "image/png": "[encoded data removed]",
      "text/plain": [
       "<Figure size 1440x720 with 1 Axes>"
      ]
     },
     "metadata": {},
     "output_type": "display_data"
    }
   ],
   "source": [
    "#sns.set_theme(style=\"whitegrid\")\n",
    "plt.figure(figsize=(20, 10))\n",
    "ax = sns.barplot(x=\"county_name\", y=\"avg(crime_rate_per_100000)\", data=psubset_crime.loc[:20])\n",
    "plt.xticks(rotation = 45)"
   ]
  },
  {
   "cell_type": "code",
   "execution_count": null,
   "metadata": {},
   "outputs": [],
   "source": []
  }
 ],
 "metadata": {
  "kernelspec": {
   "display_name": "pySpark",
   "language": "python",
   "name": "pyspark"
  },
  "language_info": {
   "codemirror_mode": {
    "name": "ipython",
    "version": 3
   },
   "file_extension": ".py",
   "mimetype": "text/x-python",
   "name": "python",
   "nbconvert_exporter": "python",
   "pygments_lexer": "ipython3",
   "version": "3.6.8"
  }
 },
 "nbformat": 4,
 "nbformat_minor": 2
}
