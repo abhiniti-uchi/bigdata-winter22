{
 "cells": [
  {
   "cell_type": "code",
   "execution_count": 23,
   "metadata": {},
   "outputs": [],
   "source": [
    "from pyspark.sql import SparkSession\n",
    "from pyspark.sql import functions as F\n",
    "from pyspark.sql.types import StringType,BooleanType,DateType, IntegerType\n",
    "from pyspark.sql.functions import to_timestamp, upper, col\n",
    "from pyspark.sql.functions import rank\n",
    "from pyspark.sql.window import Window\n",
    "from pyspark.sql.functions import *\n",
    "from pyspark.ml.feature import StringIndexer, OneHotEncoder, Tokenizer, StopWordsRemover, Word2Vec, VectorAssembler\n",
    "from pyspark.ml import Pipeline\n",
    "from pyspark.sql.types import StringType, DoubleType \n",
    "from pyspark.ml.linalg import Vectors\n",
    "\n",
    "from pyspark.ml.evaluation import RegressionEvaluator, BinaryClassificationEvaluator\n",
    "\n",
    "from pyspark.ml.clustering import KMeans\n",
    "\n",
    "import pandas as pd\n",
    "import matplotlib.pyplot as plt\n",
    "%matplotlib inline"
   ]
  },
  {
   "cell_type": "code",
   "execution_count": 4,
   "metadata": {},
   "outputs": [],
   "source": [
    "spark = SparkSession.builder.appName('BigDataProject').getOrCreate()\n",
    "\n",
    "#change configuration settings on Spark \n",
    "conf = spark.sparkContext._conf.setAll([('spark.executor.memory', '4g'), ('spark.app.name', 'Spark Updated Conf'), ('spark.executor.cores', '4'), ('spark.cores.max', '4'), ('spark.driver.memory','4g')])\n",
    "spark.conf.set(\"spark.sql.repl.eagerEval.enabled\", True)"
   ]
  },
  {
   "cell_type": "code",
   "execution_count": 5,
   "metadata": {},
   "outputs": [],
   "source": [
    "raw_df = spark.read.csv(\"/user/abhiniti/project/mod_df_3.9.csv\", inferSchema=True, header=True)"
   ]
  },
  {
   "cell_type": "code",
   "execution_count": 6,
   "metadata": {},
   "outputs": [],
   "source": [
    "df = raw_df"
   ]
  },
  {
   "cell_type": "code",
   "execution_count": 7,
   "metadata": {
    "scrolled": true
   },
   "outputs": [
    {
     "name": "stdout",
     "output_type": "stream",
     "text": [
      "city\n",
      "state\n",
      "zip5\n"
     ]
    }
   ],
   "source": [
    "# Convert city, state and zip to numeric categorical\n",
    "for y in ['city', 'state', 'zip5']:\n",
    "    print(y)\n",
    "    indexer = StringIndexer(inputCol=str(y), outputCol=str(y)+\"Index\")\n",
    "    ohe = OneHotEncoder(inputCol = str(y)+\"Index\", outputCol = str(y)+\"Vector\")\n",
    "    df = indexer.fit(df).transform(df)\n",
    "    df = ohe.transform(df)"
   ]
  },
  {
   "cell_type": "code",
   "execution_count": 47,
   "metadata": {
    "scrolled": true
   },
   "outputs": [
    {
     "name": "stdout",
     "output_type": "stream",
     "text": [
      "root\n",
      " |-- city: string (nullable = true)\n",
      " |-- state: string (nullable = true)\n",
      " |-- physical_address: string (nullable = true)\n",
      " |-- zip5: integer (nullable = true)\n",
      " |-- property_type: string (nullable = true)\n",
      " |-- rank: integer (nullable = true)\n",
      " |-- sale_date: timestamp (nullable = true)\n",
      " |-- sale_price: double (nullable = true)\n",
      " |-- num_units: integer (nullable = true)\n",
      " |-- year_built: integer (nullable = true)\n",
      " |-- num_sales: integer (nullable = true)\n",
      " |-- zip_num_schools: integer (nullable = true)\n",
      " |-- city_num_schools: integer (nullable = true)\n",
      " |-- zip_st_ratio: double (nullable = true)\n",
      " |-- city_st_ratio: double (nullable = true)\n",
      " |-- CPIHOSNS: double (nullable = true)\n",
      " |-- ZVHI: double (nullable = true)\n",
      " |-- Median_Income: double (nullable = true)\n",
      " |-- sum(count): integer (nullable = true)\n",
      " |-- avg(Hospital overall rating): double (nullable = true)\n",
      " |-- CHILDREN_CNT: integer (nullable = true)\n",
      " |-- CHILDREN_RATE: double (nullable = true)\n",
      " |-- CHRONIC DISEASE_CNT: integer (nullable = true)\n",
      " |-- CHRONIC DISEASE_RATE: double (nullable = true)\n",
      " |-- CRITICAL ACCESS_CNT: integer (nullable = true)\n",
      " |-- CRITICAL ACCESS_RATE: double (nullable = true)\n",
      " |-- GENERAL ACUTE CARE_CNT: integer (nullable = true)\n",
      " |-- GENERAL ACUTE CARE_RATE: double (nullable = true)\n",
      " |-- LONG TERM CARE_CNT: integer (nullable = true)\n",
      " |-- LONG TERM CARE_RATE: double (nullable = true)\n",
      " |-- MILITARY_CNT: integer (nullable = true)\n",
      " |-- MILITARY_RATE: double (nullable = true)\n",
      " |-- PSYCHIATRIC_CNT: integer (nullable = true)\n",
      " |-- PSYCHIATRIC_RATE: double (nullable = true)\n",
      " |-- REHABILITATION_CNT: integer (nullable = true)\n",
      " |-- REHABILITATION_RATE: double (nullable = true)\n",
      " |-- SPECIAL_CNT: integer (nullable = true)\n",
      " |-- SPECIAL_RATE: double (nullable = true)\n",
      " |-- WOMEN_CNT: integer (nullable = true)\n",
      " |-- WOMEN_RATE: double (nullable = true)\n",
      " |-- null_CNT: integer (nullable = true)\n",
      " |-- null_RATE: double (nullable = true)\n",
      " |-- GOVERNMENT - DISTRICT/AUTHORITY_CNT: integer (nullable = true)\n",
      " |-- GOVERNMENT - DISTRICT/AUTHORITY_RATE: double (nullable = true)\n",
      " |-- GOVERNMENT - FEDERAL_CNT: integer (nullable = true)\n",
      " |-- GOVERNMENT - FEDERAL_RATE: double (nullable = true)\n",
      " |-- GOVERNMENT - LOCAL_CNT: integer (nullable = true)\n",
      " |-- GOVERNMENT - LOCAL_RATE: double (nullable = true)\n",
      " |-- GOVERNMENT - STATE_CNT: integer (nullable = true)\n",
      " |-- GOVERNMENT - STATE_RATE: double (nullable = true)\n",
      " |-- NON-PROFIT_CNT: integer (nullable = true)\n",
      " |-- NON-PROFIT_RATE: double (nullable = true)\n",
      " |-- NOT AVAILABLE_CNT: integer (nullable = true)\n",
      " |-- NOT AVAILABLE_RATE: double (nullable = true)\n",
      " |-- PROPRIETARY_CNT: integer (nullable = true)\n",
      " |-- PROPRIETARY_RATE: double (nullable = true)\n",
      " |-- count(MURDER): integer (nullable = true)\n",
      " |-- count(RAPE): integer (nullable = true)\n",
      " |-- count(ROBBERY): integer (nullable = true)\n",
      " |-- count(AGASSLT): integer (nullable = true)\n",
      " |-- count(BURGLRY): integer (nullable = true)\n",
      " |-- count(MVTHEFT): integer (nullable = true)\n",
      " |-- count(ARSON): integer (nullable = true)\n",
      " |-- sum(population): double (nullable = true)\n",
      " |-- avg(crime_rate_per_100000): double (nullable = true)\n",
      " |-- prev_sale_date: timestamp (nullable = true)\n",
      " |-- prev_sale_price: double (nullable = true)\n",
      " |-- sale_month: integer (nullable = true)\n",
      " |-- sale_day: integer (nullable = true)\n",
      " |-- sale_year: integer (nullable = true)\n",
      " |-- prev_sale_month: integer (nullable = true)\n",
      " |-- prev_sale_day: integer (nullable = true)\n",
      " |-- prev_sale_year: integer (nullable = true)\n",
      " |-- cityIndex: double (nullable = false)\n",
      " |-- cityVector: vector (nullable = true)\n",
      " |-- stateIndex: double (nullable = false)\n",
      " |-- stateVector: vector (nullable = true)\n",
      " |-- zip5Index: double (nullable = false)\n",
      " |-- zip5Vector: vector (nullable = true)\n",
      "\n"
     ]
    }
   ],
   "source": [
    "df.printSchema()"
   ]
  },
  {
   "cell_type": "markdown",
   "metadata": {},
   "source": [
    "### Modeling"
   ]
  },
  {
   "cell_type": "code",
   "execution_count": 13,
   "metadata": {},
   "outputs": [],
   "source": [
    "## create flag var\n",
    "df = df.withColumn(\n",
    "    'price_flag',\n",
    "    F.when(F.col(\"sale_price\") > F.col(\"prev_sale_price\"), 1)\\\n",
    "    .otherwise(0)\n",
    ")"
   ]
  },
  {
   "cell_type": "code",
   "execution_count": 8,
   "metadata": {},
   "outputs": [],
   "source": [
    "from pyspark.ml.feature import VectorAssembler"
   ]
  },
  {
   "cell_type": "code",
   "execution_count": 15,
   "metadata": {},
   "outputs": [],
   "source": [
    "lin_reg_df = df.filter(df['prev_sale_price'] > 0).na.fill(0)\n",
    "lin_reg_df = lin_reg_df.withColumn('last_sale_days', datediff('sale_date',col(\"prev_sale_date\")))\n",
    "lin_reg_df = lin_reg_df.withColumn('last_sale_days', datediff('sale_date',col(\"prev_sale_date\")))\n",
    "lin_reg_df = lin_reg_df.withColumn('year_built', F.regexp_replace('year_built', ',', '').cast('decimal(12,2)'))\n",
    "lin_reg_df = lin_reg_df.withColumn('sale_price', F.regexp_replace('sale_price', ',', '').cast('decimal(12,2)')).na.fill(0)\n",
    "lin_reg_df = lin_reg_df.filter(col('sale_price') <= 1000000).filter(col('sale_price') >= 100000)"
   ]
  },
  {
   "cell_type": "code",
   "execution_count": 53,
   "metadata": {
    "scrolled": true
   },
   "outputs": [
    {
     "name": "stdout",
     "output_type": "stream",
     "text": [
      "root\n",
      " |-- city: string (nullable = true)\n",
      " |-- state: string (nullable = true)\n",
      " |-- physical_address: string (nullable = true)\n",
      " |-- zip5: integer (nullable = true)\n",
      " |-- property_type: string (nullable = true)\n",
      " |-- rank: integer (nullable = true)\n",
      " |-- sale_date: timestamp (nullable = true)\n",
      " |-- sale_price: decimal(12,2) (nullable = true)\n",
      " |-- num_units: integer (nullable = true)\n",
      " |-- year_built: decimal(12,2) (nullable = true)\n",
      " |-- num_sales: integer (nullable = true)\n",
      " |-- zip_num_schools: integer (nullable = true)\n",
      " |-- city_num_schools: integer (nullable = true)\n",
      " |-- zip_st_ratio: double (nullable = false)\n",
      " |-- city_st_ratio: double (nullable = false)\n",
      " |-- CPIHOSNS: double (nullable = false)\n",
      " |-- ZVHI: double (nullable = false)\n",
      " |-- Median_Income: double (nullable = false)\n",
      " |-- sum(count): integer (nullable = true)\n",
      " |-- avg(Hospital overall rating): double (nullable = false)\n",
      " |-- CHILDREN_CNT: integer (nullable = true)\n",
      " |-- CHILDREN_RATE: double (nullable = false)\n",
      " |-- CHRONIC DISEASE_CNT: integer (nullable = true)\n",
      " |-- CHRONIC DISEASE_RATE: double (nullable = false)\n",
      " |-- CRITICAL ACCESS_CNT: integer (nullable = true)\n",
      " |-- CRITICAL ACCESS_RATE: double (nullable = false)\n",
      " |-- GENERAL ACUTE CARE_CNT: integer (nullable = true)\n",
      " |-- GENERAL ACUTE CARE_RATE: double (nullable = false)\n",
      " |-- LONG TERM CARE_CNT: integer (nullable = true)\n",
      " |-- LONG TERM CARE_RATE: double (nullable = false)\n",
      " |-- MILITARY_CNT: integer (nullable = true)\n",
      " |-- MILITARY_RATE: double (nullable = false)\n",
      " |-- PSYCHIATRIC_CNT: integer (nullable = true)\n",
      " |-- PSYCHIATRIC_RATE: double (nullable = false)\n",
      " |-- REHABILITATION_CNT: integer (nullable = true)\n",
      " |-- REHABILITATION_RATE: double (nullable = false)\n",
      " |-- SPECIAL_CNT: integer (nullable = true)\n",
      " |-- SPECIAL_RATE: double (nullable = false)\n",
      " |-- WOMEN_CNT: integer (nullable = true)\n",
      " |-- WOMEN_RATE: double (nullable = false)\n",
      " |-- null_CNT: integer (nullable = true)\n",
      " |-- null_RATE: double (nullable = false)\n",
      " |-- GOVERNMENT - DISTRICT/AUTHORITY_CNT: integer (nullable = true)\n",
      " |-- GOVERNMENT - DISTRICT/AUTHORITY_RATE: double (nullable = false)\n",
      " |-- GOVERNMENT - FEDERAL_CNT: integer (nullable = true)\n",
      " |-- GOVERNMENT - FEDERAL_RATE: double (nullable = false)\n",
      " |-- GOVERNMENT - LOCAL_CNT: integer (nullable = true)\n",
      " |-- GOVERNMENT - LOCAL_RATE: double (nullable = false)\n",
      " |-- GOVERNMENT - STATE_CNT: integer (nullable = true)\n",
      " |-- GOVERNMENT - STATE_RATE: double (nullable = false)\n",
      " |-- NON-PROFIT_CNT: integer (nullable = true)\n",
      " |-- NON-PROFIT_RATE: double (nullable = false)\n",
      " |-- NOT AVAILABLE_CNT: integer (nullable = true)\n",
      " |-- NOT AVAILABLE_RATE: double (nullable = false)\n",
      " |-- PROPRIETARY_CNT: integer (nullable = true)\n",
      " |-- PROPRIETARY_RATE: double (nullable = false)\n",
      " |-- count(MURDER): integer (nullable = true)\n",
      " |-- count(RAPE): integer (nullable = true)\n",
      " |-- count(ROBBERY): integer (nullable = true)\n",
      " |-- count(AGASSLT): integer (nullable = true)\n",
      " |-- count(BURGLRY): integer (nullable = true)\n",
      " |-- count(MVTHEFT): integer (nullable = true)\n",
      " |-- count(ARSON): integer (nullable = true)\n",
      " |-- sum(population): double (nullable = false)\n",
      " |-- avg(crime_rate_per_100000): double (nullable = false)\n",
      " |-- prev_sale_date: timestamp (nullable = true)\n",
      " |-- prev_sale_price: double (nullable = false)\n",
      " |-- sale_month: integer (nullable = true)\n",
      " |-- sale_day: integer (nullable = true)\n",
      " |-- sale_year: integer (nullable = true)\n",
      " |-- prev_sale_month: integer (nullable = true)\n",
      " |-- prev_sale_day: integer (nullable = true)\n",
      " |-- prev_sale_year: integer (nullable = true)\n",
      " |-- cityIndex: double (nullable = false)\n",
      " |-- cityVector: vector (nullable = true)\n",
      " |-- stateIndex: double (nullable = false)\n",
      " |-- stateVector: vector (nullable = true)\n",
      " |-- zip5Index: double (nullable = false)\n",
      " |-- zip5Vector: vector (nullable = true)\n",
      " |-- last_sale_days: integer (nullable = true)\n",
      "\n"
     ]
    }
   ],
   "source": [
    "lin_reg_df.printSchema()"
   ]
  },
  {
   "cell_type": "code",
   "execution_count": 10,
   "metadata": {},
   "outputs": [],
   "source": [
    "predictors = ['year_built', 'prev_sale_price', 'last_sale_days', 'CPIHOSNS', 'cityVector', 'stateVector', 'zip5Vector']\n",
    "# lin_reg_df = lin_reg_df.select(predictors).printSchema()\n",
    "# lin_reg_df.select(predictors).show(1,vertical=True)"
   ]
  },
  {
   "cell_type": "code",
   "execution_count": 54,
   "metadata": {
    "scrolled": true
   },
   "outputs": [
    {
     "name": "stdout",
     "output_type": "stream",
     "text": [
      "+--------------------+----------+\n",
      "|            features|sale_price|\n",
      "+--------------------+----------+\n",
      "|(1530,[0,1,2,3,11...| 358000.00|\n",
      "+--------------------+----------+\n",
      "only showing top 1 row\n",
      "\n"
     ]
    }
   ],
   "source": [
    "# price_flag, sale_price\n",
    "y_var = 'sale_price'\n",
    "# predictors = ['year_built', 'prev_sale_price', 'last_sale_days', 'CPIHOSNS']\n",
    "vectorAssembler = VectorAssembler(inputCols = predictors, outputCol = 'features')\n",
    "vinput_data = vectorAssembler.transform(lin_reg_df)\n",
    "vinput_data = vinput_data.select(['features', y_var])\n",
    "vinput_data.show(1)"
   ]
  },
  {
   "cell_type": "code",
   "execution_count": 55,
   "metadata": {},
   "outputs": [],
   "source": [
    "# Train/Test Split\n",
    "train_df, test_df = vinput_data.randomSplit([.7,.3],seed=1234)"
   ]
  },
  {
   "cell_type": "markdown",
   "metadata": {},
   "source": [
    "### Gradient Boost Regressor"
   ]
  },
  {
   "cell_type": "code",
   "execution_count": 56,
   "metadata": {},
   "outputs": [],
   "source": [
    "from pyspark.ml.regression import GBTRegressor\n",
    "gbt = GBTRegressor(featuresCol = 'features', labelCol = 'sale_price', maxIter=5)\n",
    "gbt_model = gbt.fit(train_df)"
   ]
  },
  {
   "cell_type": "code",
   "execution_count": 57,
   "metadata": {},
   "outputs": [],
   "source": [
    "gbt_predictions_train = gbt_model.transform(train_df)\n",
    "gbt_predictions_test = gbt_model.transform(test_df)"
   ]
  },
  {
   "cell_type": "code",
   "execution_count": 59,
   "metadata": {},
   "outputs": [
    {
     "name": "stdout",
     "output_type": "stream",
     "text": [
      "Root Mean Squared Error (RMSE) on train data = 130769\n",
      "R Squared (R2) on train data = 0.577343\n"
     ]
    }
   ],
   "source": [
    "## Train data\n",
    "gbt_evaluator = RegressionEvaluator(\n",
    "    labelCol=\"sale_price\", predictionCol=\"prediction\", metricName=\"rmse\")\n",
    "rmse = gbt_evaluator.evaluate(gbt_predictions_train)\n",
    "print(\"Root Mean Squared Error (RMSE) on train data = %g\" % rmse)\n",
    "\n",
    "gbt_evaluator = RegressionEvaluator(\n",
    "    labelCol=\"sale_price\", predictionCol=\"prediction\", metricName=\"r2\")\n",
    "rmse = gbt_evaluator.evaluate(gbt_predictions_train)\n",
    "print(\"R Squared (R2) on train data = %g\" % rmse)"
   ]
  },
  {
   "cell_type": "code",
   "execution_count": 91,
   "metadata": {},
   "outputs": [
    {
     "name": "stdout",
     "output_type": "stream",
     "text": [
      "Mean Absolute Error (MAE) on train data = 92808.5\n",
      "Mean Squared Error (MSE) on train data = 1.71214e+10\n"
     ]
    }
   ],
   "source": [
    "## Train data\n",
    "gbt_evaluator = RegressionEvaluator(\n",
    "    labelCol=\"sale_price\", predictionCol=\"prediction\", metricName=\"mae\")\n",
    "rmse = gbt_evaluator.evaluate(gbt_predictions_train)\n",
    "print(\"Mean Absolute Error (MAE) on train data = %g\" % rmse)\n",
    "\n",
    "gbt_evaluator = RegressionEvaluator(\n",
    "    labelCol=\"sale_price\", predictionCol=\"prediction\", metricName=\"mse\")\n",
    "rmse = gbt_evaluator.evaluate(gbt_predictions_train)\n",
    "print(\"Mean Squared Error (MSE) on train data = %g\" % rmse)"
   ]
  },
  {
   "cell_type": "code",
   "execution_count": 58,
   "metadata": {},
   "outputs": [
    {
     "name": "stdout",
     "output_type": "stream",
     "text": [
      "Root Mean Squared Error (RMSE) on test data = 132454\n",
      "R Squared (R2) on test data = 0.566935\n"
     ]
    }
   ],
   "source": [
    "## Test data\n",
    "gbt_evaluator = RegressionEvaluator(\n",
    "    labelCol=\"sale_price\", predictionCol=\"prediction\", metricName=\"rmse\")\n",
    "rmse = gbt_evaluator.evaluate(gbt_predictions_test)\n",
    "print(\"Root Mean Squared Error (RMSE) on test data = %g\" % rmse)\n",
    "\n",
    "gbt_evaluator = RegressionEvaluator(\n",
    "    labelCol=\"sale_price\", predictionCol=\"prediction\", metricName=\"r2\")\n",
    "rmse = gbt_evaluator.evaluate(gbt_predictions_test)\n",
    "print(\"R Squared (R2) on test data = %g\" % rmse)"
   ]
  },
  {
   "cell_type": "code",
   "execution_count": 59,
   "metadata": {},
   "outputs": [
    {
     "name": "stdout",
     "output_type": "stream",
     "text": [
      "Mean Absolute Error (MAE) on test data = 94337.3\n",
      "Mean Squared Error (MSE) on test data = 1.75441e+10\n"
     ]
    }
   ],
   "source": [
    "## test data\n",
    "gbt_evaluator = RegressionEvaluator(\n",
    "    labelCol=\"sale_price\", predictionCol=\"prediction\", metricName=\"mae\")\n",
    "rmse = gbt_evaluator.evaluate(gbt_predictions_test)\n",
    "print(\"Mean Absolute Error (MAE) on test data = %g\" % rmse)\n",
    "\n",
    "gbt_evaluator = RegressionEvaluator(\n",
    "    labelCol=\"sale_price\", predictionCol=\"prediction\", metricName=\"mse\")\n",
    "rmse = gbt_evaluator.evaluate(gbt_predictions_test)\n",
    "print(\"Mean Squared Error (MSE) on test data = %g\" % rmse)"
   ]
  },
  {
   "cell_type": "code",
   "execution_count": 61,
   "metadata": {
    "scrolled": true
   },
   "outputs": [
    {
     "data": {
      "text/plain": [
       "['__class__',\n",
       " '__del__',\n",
       " '__delattr__',\n",
       " '__dict__',\n",
       " '__dir__',\n",
       " '__doc__',\n",
       " '__eq__',\n",
       " '__format__',\n",
       " '__ge__',\n",
       " '__getattribute__',\n",
       " '__gt__',\n",
       " '__hash__',\n",
       " '__init__',\n",
       " '__init_subclass__',\n",
       " '__le__',\n",
       " '__lt__',\n",
       " '__metaclass__',\n",
       " '__module__',\n",
       " '__ne__',\n",
       " '__new__',\n",
       " '__reduce__',\n",
       " '__reduce_ex__',\n",
       " '__repr__',\n",
       " '__setattr__',\n",
       " '__sizeof__',\n",
       " '__str__',\n",
       " '__subclasshook__',\n",
       " '__weakref__',\n",
       " '_call_java',\n",
       " '_clear',\n",
       " '_copyValues',\n",
       " '_copy_params',\n",
       " '_create_from_java_class',\n",
       " '_create_params_from_java',\n",
       " '_defaultParamMap',\n",
       " '_dummy',\n",
       " '_empty_java_param_map',\n",
       " '_from_java',\n",
       " '_java_obj',\n",
       " '_make_java_param_pair',\n",
       " '_new_java_array',\n",
       " '_new_java_obj',\n",
       " '_paramMap',\n",
       " '_params',\n",
       " '_randomUID',\n",
       " '_resetUid',\n",
       " '_resolveParam',\n",
       " '_set',\n",
       " '_setDefault',\n",
       " '_shouldOwn',\n",
       " '_to_java',\n",
       " '_transfer_param_map_from_java',\n",
       " '_transfer_param_map_to_java',\n",
       " '_transfer_params_from_java',\n",
       " '_transfer_params_to_java',\n",
       " '_transform',\n",
       " 'cacheNodeIds',\n",
       " 'checkpointInterval',\n",
       " 'copy',\n",
       " 'evaluateEachIteration',\n",
       " 'explainParam',\n",
       " 'explainParams',\n",
       " 'extractParamMap',\n",
       " 'featureImportances',\n",
       " 'featureSubsetStrategy',\n",
       " 'featuresCol',\n",
       " 'getNumTrees',\n",
       " 'getOrDefault',\n",
       " 'getParam',\n",
       " 'hasDefault',\n",
       " 'hasParam',\n",
       " 'impurity',\n",
       " 'isDefined',\n",
       " 'isSet',\n",
       " 'labelCol',\n",
       " 'load',\n",
       " 'lossType',\n",
       " 'maxBins',\n",
       " 'maxDepth',\n",
       " 'maxIter',\n",
       " 'maxMemoryInMB',\n",
       " 'minInfoGain',\n",
       " 'minInstancesPerNode',\n",
       " 'numFeatures',\n",
       " 'params',\n",
       " 'predictionCol',\n",
       " 'read',\n",
       " 'save',\n",
       " 'seed',\n",
       " 'set',\n",
       " 'stepSize',\n",
       " 'subsamplingRate',\n",
       " 'toDebugString',\n",
       " 'totalNumNodes',\n",
       " 'transform',\n",
       " 'treeWeights',\n",
       " 'trees',\n",
       " 'uid',\n",
       " 'validationIndicatorCol',\n",
       " 'validationTol',\n",
       " 'write']"
      ]
     },
     "execution_count": 61,
     "metadata": {},
     "output_type": "execute_result"
    }
   ],
   "source": [
    "dir(gbt_model)"
   ]
  },
  {
   "cell_type": "code",
   "execution_count": 62,
   "metadata": {},
   "outputs": [],
   "source": [
    "# gbt_model.featureImportances\n",
    "# gbt_model.stages[-1].featureImportances"
   ]
  },
  {
   "cell_type": "code",
   "execution_count": 60,
   "metadata": {},
   "outputs": [],
   "source": [
    "def ExtractFeatureImp(featureImp, dataset, featuresCol):\n",
    "    list_extract = []\n",
    "    for i in dataset.schema[featuresCol].metadata[\"ml_attr\"][\"attrs\"]:\n",
    "        list_extract = list_extract + dataset.schema[featuresCol].metadata[\"ml_attr\"][\"attrs\"][i]\n",
    "    varlist = pd.DataFrame(list_extract)\n",
    "    varlist['score'] = varlist['idx'].apply(lambda x: featureImp[x])\n",
    "    return(varlist.sort_values('score', ascending = False))\n"
   ]
  },
  {
   "cell_type": "code",
   "execution_count": 62,
   "metadata": {
    "scrolled": true
   },
   "outputs": [],
   "source": [
    "feature_imp = ExtractFeatureImp(gbt_model.featureImportances, train_df, \"features\")"
   ]
  },
  {
   "cell_type": "code",
   "execution_count": 63,
   "metadata": {},
   "outputs": [
    {
     "data": {
      "text/plain": [
       "Text(0,0.5,'Feature Importance')"
      ]
     },
     "execution_count": 63,
     "metadata": {},
     "output_type": "execute_result"
    },
    {
     "data": {
      "image/png": "[encoded data removed]",
      "text/plain": [
       "<Figure size 432x288 with 1 Axes>"
      ]
     },
     "metadata": {},
     "output_type": "display_data"
    }
   ],
   "source": [
    "ax = feature_imp.sort_values(by='score', ascending=True).tail(10).plot(kind='barh', x = 'name', y = 'score')\\\n",
    "\n",
    "ax.set_xlabel(\"Variables\")\n",
    "ax.set_ylabel(\"Feature Importance\")"
   ]
  },
  {
   "cell_type": "markdown",
   "metadata": {},
   "source": [
    "### Linear Regression"
   ]
  },
  {
   "cell_type": "code",
   "execution_count": 82,
   "metadata": {},
   "outputs": [],
   "source": [
    "train_df_lin = train_df.withColumnRenamed('sale_price', 'label')"
   ]
  },
  {
   "cell_type": "code",
   "execution_count": 83,
   "metadata": {
    "scrolled": true
   },
   "outputs": [],
   "source": [
    "from pyspark.ml.regression import GeneralizedLinearRegression\n",
    "glr = GeneralizedLinearRegression(family=\"gaussian\", link=\"identity\", maxIter=10, \n",
    "regParam=0.0)\n",
    "model = glr.fit(train_df_lin)"
   ]
  },
  {
   "cell_type": "code",
   "execution_count": 84,
   "metadata": {
    "scrolled": true
   },
   "outputs": [],
   "source": [
    "# summary = model.summary\n",
    "# print(\"Coefficients: \" + str(model.coefficients))\n",
    "# print(\"P Values: \" + str(summary.pValues))\n",
    "# dir(model.summary)"
   ]
  },
  {
   "cell_type": "code",
   "execution_count": 85,
   "metadata": {
    "scrolled": true
   },
   "outputs": [
    {
     "data": {
      "text/plain": [
       "[2.903939311238446e-10, 0.0, 0.0, 0.0, 2.234500584563648e-08]"
      ]
     },
     "execution_count": 85,
     "metadata": {},
     "output_type": "execute_result"
    }
   ],
   "source": [
    "model.summary.pValues"
   ]
  },
  {
   "cell_type": "code",
   "execution_count": 87,
   "metadata": {},
   "outputs": [],
   "source": [
    "linreg_predictions_train = model.transform(train_df)\n",
    "linreg_predictions_test = model.transform(test_df)"
   ]
  },
  {
   "cell_type": "code",
   "execution_count": null,
   "metadata": {},
   "outputs": [],
   "source": [
    "## with city, state, zip"
   ]
  },
  {
   "cell_type": "code",
   "execution_count": 74,
   "metadata": {},
   "outputs": [
    {
     "name": "stdout",
     "output_type": "stream",
     "text": [
      "Root Mean Squared Error (RMSE) on train data = 140034\n",
      "R Squared (R2) on train data = 0.515326\n"
     ]
    }
   ],
   "source": [
    "## Train data\n",
    "linreg_evaluator = RegressionEvaluator(\n",
    "    labelCol=\"sale_price\", predictionCol=\"prediction\", metricName=\"rmse\")\n",
    "rmse = linreg_evaluator.evaluate(linreg_predictions_train)\n",
    "print(\"Root Mean Squared Error (RMSE) on train data = %g\" % rmse)\n",
    "\n",
    "linreg_evaluator = RegressionEvaluator(\n",
    "    labelCol=\"sale_price\", predictionCol=\"prediction\", metricName=\"r2\")\n",
    "rmse = linreg_evaluator.evaluate(linreg_predictions_train)\n",
    "print(\"R Squared (R2) on train data = %g\" % rmse)"
   ]
  },
  {
   "cell_type": "code",
   "execution_count": 75,
   "metadata": {},
   "outputs": [
    {
     "name": "stdout",
     "output_type": "stream",
     "text": [
      "Root Mean Squared Error (RMSE) on test data = 140339\n",
      "R Squared (R2) on test data = 0.51542\n"
     ]
    }
   ],
   "source": [
    "## Test data\n",
    "linreg_evaluator = RegressionEvaluator(\n",
    "    labelCol=\"sale_price\", predictionCol=\"prediction\", metricName=\"rmse\")\n",
    "rmse = linreg_evaluator.evaluate(linreg_predictions_test)\n",
    "print(\"Root Mean Squared Error (RMSE) on test data = %g\" % rmse)\n",
    "\n",
    "linreg_evaluator = RegressionEvaluator(\n",
    "    labelCol=\"sale_price\", predictionCol=\"prediction\", metricName=\"r2\")\n",
    "rmse = linreg_evaluator.evaluate(linreg_predictions_test)\n",
    "print(\"R Squared (R2) on test data = %g\" % rmse)"
   ]
  },
  {
   "cell_type": "code",
   "execution_count": 86,
   "metadata": {},
   "outputs": [],
   "source": [
    "### without city, state, zip"
   ]
  },
  {
   "cell_type": "code",
   "execution_count": 88,
   "metadata": {},
   "outputs": [
    {
     "name": "stdout",
     "output_type": "stream",
     "text": [
      "Root Mean Squared Error (RMSE) on train data = 187996\n",
      "R Squared (R2) on train data = 0.127233\n"
     ]
    }
   ],
   "source": [
    "## Train data\n",
    "linreg_evaluator = RegressionEvaluator(\n",
    "    labelCol=\"sale_price\", predictionCol=\"prediction\", metricName=\"rmse\")\n",
    "rmse = linreg_evaluator.evaluate(linreg_predictions_train)\n",
    "print(\"Root Mean Squared Error (RMSE) on train data = %g\" % rmse)\n",
    "\n",
    "linreg_evaluator = RegressionEvaluator(\n",
    "    labelCol=\"sale_price\", predictionCol=\"prediction\", metricName=\"r2\")\n",
    "rmse = linreg_evaluator.evaluate(linreg_predictions_train)\n",
    "print(\"R Squared (R2) on train data = %g\" % rmse)"
   ]
  },
  {
   "cell_type": "code",
   "execution_count": 89,
   "metadata": {},
   "outputs": [
    {
     "name": "stdout",
     "output_type": "stream",
     "text": [
      "Root Mean Squared Error (RMSE) on test data = 187625\n",
      "R Squared (R2) on test data = 0.128691\n"
     ]
    }
   ],
   "source": [
    "## Test data\n",
    "linreg_evaluator = RegressionEvaluator(\n",
    "    labelCol=\"sale_price\", predictionCol=\"prediction\", metricName=\"rmse\")\n",
    "rmse = linreg_evaluator.evaluate(linreg_predictions_test)\n",
    "print(\"Root Mean Squared Error (RMSE) on test data = %g\" % rmse)\n",
    "\n",
    "linreg_evaluator = RegressionEvaluator(\n",
    "    labelCol=\"sale_price\", predictionCol=\"prediction\", metricName=\"r2\")\n",
    "rmse = linreg_evaluator.evaluate(linreg_predictions_test)\n",
    "print(\"R Squared (R2) on test data = %g\" % rmse)"
   ]
  },
  {
   "cell_type": "markdown",
   "metadata": {},
   "source": [
    "### Gradient Boost Classifier"
   ]
  },
  {
   "cell_type": "code",
   "execution_count": 21,
   "metadata": {},
   "outputs": [],
   "source": [
    "from pyspark.ml.classification import GBTClassifier\n",
    "gbt = GBTClassifier(labelCol=y_var, featuresCol=\"features\", maxIter=5)\n",
    "gbt_model = gbt.fit(train_df)"
   ]
  },
  {
   "cell_type": "code",
   "execution_count": 27,
   "metadata": {},
   "outputs": [],
   "source": [
    "gbt_predictions_train = gbt_model.transform(train_df)\n",
    "gbt_predictions_test = gbt_model.transform(test_df)"
   ]
  },
  {
   "cell_type": "code",
   "execution_count": 28,
   "metadata": {},
   "outputs": [
    {
     "data": {
      "text/plain": [
       "['features', 'price_flag', 'rawPrediction', 'probability', 'prediction']"
      ]
     },
     "execution_count": 28,
     "metadata": {},
     "output_type": "execute_result"
    }
   ],
   "source": [
    "gbt_predictions_train.columns"
   ]
  },
  {
   "cell_type": "code",
   "execution_count": 25,
   "metadata": {
    "scrolled": true
   },
   "outputs": [
    {
     "data": {
      "text/plain": [
       "['__class__',\n",
       " '__del__',\n",
       " '__delattr__',\n",
       " '__dict__',\n",
       " '__dir__',\n",
       " '__doc__',\n",
       " '__eq__',\n",
       " '__format__',\n",
       " '__ge__',\n",
       " '__getattribute__',\n",
       " '__gt__',\n",
       " '__hash__',\n",
       " '__init__',\n",
       " '__init_subclass__',\n",
       " '__le__',\n",
       " '__lt__',\n",
       " '__metaclass__',\n",
       " '__module__',\n",
       " '__ne__',\n",
       " '__new__',\n",
       " '__reduce__',\n",
       " '__reduce_ex__',\n",
       " '__repr__',\n",
       " '__setattr__',\n",
       " '__sizeof__',\n",
       " '__str__',\n",
       " '__subclasshook__',\n",
       " '__weakref__',\n",
       " '_call_java',\n",
       " '_clear',\n",
       " '_copyValues',\n",
       " '_copy_params',\n",
       " '_create_from_java_class',\n",
       " '_create_params_from_java',\n",
       " '_dummy',\n",
       " '_empty_java_param_map',\n",
       " '_evaluate',\n",
       " '_from_java',\n",
       " '_make_java_param_pair',\n",
       " '_new_java_array',\n",
       " '_new_java_obj',\n",
       " '_randomUID',\n",
       " '_resetUid',\n",
       " '_resolveParam',\n",
       " '_set',\n",
       " '_setDefault',\n",
       " '_shouldOwn',\n",
       " '_to_java',\n",
       " '_transfer_param_map_from_java',\n",
       " '_transfer_param_map_to_java',\n",
       " '_transfer_params_from_java',\n",
       " '_transfer_params_to_java',\n",
       " 'copy',\n",
       " 'evaluate',\n",
       " 'explainParam',\n",
       " 'explainParams',\n",
       " 'extractParamMap',\n",
       " 'getLabelCol',\n",
       " 'getMetricName',\n",
       " 'getOrDefault',\n",
       " 'getParam',\n",
       " 'getRawPredictionCol',\n",
       " 'hasDefault',\n",
       " 'hasParam',\n",
       " 'isDefined',\n",
       " 'isLargerBetter',\n",
       " 'isSet',\n",
       " 'labelCol',\n",
       " 'load',\n",
       " 'metricName',\n",
       " 'params',\n",
       " 'rawPredictionCol',\n",
       " 'read',\n",
       " 'save',\n",
       " 'set',\n",
       " 'setLabelCol',\n",
       " 'setMetricName',\n",
       " 'setParams',\n",
       " 'setRawPredictionCol',\n",
       " 'write']"
      ]
     },
     "execution_count": 25,
     "metadata": {},
     "output_type": "execute_result"
    }
   ],
   "source": [
    "dir(BinaryClassificationEvaluator)"
   ]
  },
  {
   "cell_type": "code",
   "execution_count": 32,
   "metadata": {},
   "outputs": [],
   "source": [
    "from pyspark.ml.evaluation import BinaryClassificationEvaluator, MulticlassClassificationEvaluator\n",
    "\n",
    "# Create both evaluators\n",
    "evaluatorMulti = MulticlassClassificationEvaluator(labelCol=\"price_flag\", predictionCol=\"prediction\")\n",
    "evaluator = BinaryClassificationEvaluator(labelCol=\"price_flag\", rawPredictionCol=\"prediction\", metricName='areaUnderROC')\n",
    "\n",
    "# Make predicitons\n",
    "predictionAndprice_flag = gbt_predictions_train.select(\"price_flag\", \"prediction\")\n",
    "\n",
    "# Get metrics\n",
    "acc = evaluatorMulti.evaluate(predictionAndprice_flag, {evaluatorMulti.metricName: \"accuracy\"})\n",
    "f1 = evaluatorMulti.evaluate(predictionAndprice_flag, {evaluatorMulti.metricName: \"f1\"})\n",
    "weightedPrecision = evaluatorMulti.evaluate(predictionAndprice_flag, {evaluatorMulti.metricName: \"weightedPrecision\"})\n",
    "weightedRecall = evaluatorMulti.evaluate(predictionAndprice_flag, {evaluatorMulti.metricName: \"weightedRecall\"})\n",
    "auc = evaluator.evaluate(predictionAndprice_flag)"
   ]
  },
  {
   "cell_type": "code",
   "execution_count": 33,
   "metadata": {},
   "outputs": [
    {
     "data": {
      "text/plain": [
       "0.8751843355161602"
      ]
     },
     "execution_count": 33,
     "metadata": {},
     "output_type": "execute_result"
    }
   ],
   "source": [
    "acc"
   ]
  },
  {
   "cell_type": "code",
   "execution_count": 34,
   "metadata": {},
   "outputs": [
    {
     "data": {
      "text/plain": [
       "0.874785206860271"
      ]
     },
     "execution_count": 34,
     "metadata": {},
     "output_type": "execute_result"
    }
   ],
   "source": [
    "f1"
   ]
  },
  {
   "cell_type": "code",
   "execution_count": 35,
   "metadata": {},
   "outputs": [
    {
     "data": {
      "text/plain": [
       "0.8739182538205961"
      ]
     },
     "execution_count": 35,
     "metadata": {},
     "output_type": "execute_result"
    }
   ],
   "source": [
    "weightedPrecision"
   ]
  },
  {
   "cell_type": "code",
   "execution_count": 36,
   "metadata": {},
   "outputs": [
    {
     "data": {
      "text/plain": [
       "0.875607689558434"
      ]
     },
     "execution_count": 36,
     "metadata": {},
     "output_type": "execute_result"
    }
   ],
   "source": [
    "weightedRecall"
   ]
  },
  {
   "cell_type": "code",
   "execution_count": 37,
   "metadata": {},
   "outputs": [
    {
     "data": {
      "text/plain": [
       "0.8325805314422338"
      ]
     },
     "execution_count": 37,
     "metadata": {},
     "output_type": "execute_result"
    }
   ],
   "source": [
    "auc"
   ]
  },
  {
   "cell_type": "code",
   "execution_count": 38,
   "metadata": {},
   "outputs": [],
   "source": [
    "def ExtractFeatureImp(featureImp, dataset, featuresCol):\n",
    "    list_extract = []\n",
    "    for i in dataset.schema[featuresCol].metadata[\"ml_attr\"][\"attrs\"]:\n",
    "        list_extract = list_extract + dataset.schema[featuresCol].metadata[\"ml_attr\"][\"attrs\"][i]\n",
    "    varlist = pd.DataFrame(list_extract)\n",
    "    varlist['score'] = varlist['idx'].apply(lambda x: featureImp[x])\n",
    "    return(varlist.sort_values('score', ascending = False))\n"
   ]
  },
  {
   "cell_type": "code",
   "execution_count": 41,
   "metadata": {
    "scrolled": true
   },
   "outputs": [
    {
     "data": {
      "text/html": [
       "<div>\n",
       "<style scoped>\n",
       "    .dataframe tbody tr th:only-of-type {\n",
       "        vertical-align: middle;\n",
       "    }\n",
       "\n",
       "    .dataframe tbody tr th {\n",
       "        vertical-align: top;\n",
       "    }\n",
       "\n",
       "    .dataframe thead th {\n",
       "        text-align: right;\n",
       "    }\n",
       "</style>\n",
       "<table border=\"1\" class=\"dataframe\">\n",
       "  <thead>\n",
       "    <tr style=\"text-align: right;\">\n",
       "      <th></th>\n",
       "      <th>idx</th>\n",
       "      <th>name</th>\n",
       "      <th>score</th>\n",
       "    </tr>\n",
       "  </thead>\n",
       "  <tbody>\n",
       "    <tr>\n",
       "      <th>1</th>\n",
       "      <td>1</td>\n",
       "      <td>prev_sale_price</td>\n",
       "      <td>0.367510</td>\n",
       "    </tr>\n",
       "    <tr>\n",
       "      <th>3</th>\n",
       "      <td>3</td>\n",
       "      <td>CPIHOSNS</td>\n",
       "      <td>0.310575</td>\n",
       "    </tr>\n",
       "    <tr>\n",
       "      <th>2</th>\n",
       "      <td>2</td>\n",
       "      <td>last_sale_days</td>\n",
       "      <td>0.203691</td>\n",
       "    </tr>\n",
       "    <tr>\n",
       "      <th>0</th>\n",
       "      <td>0</td>\n",
       "      <td>year_built</td>\n",
       "      <td>0.082440</td>\n",
       "    </tr>\n",
       "    <tr>\n",
       "      <th>579</th>\n",
       "      <td>579</td>\n",
       "      <td>stateVector_CA</td>\n",
       "      <td>0.014693</td>\n",
       "    </tr>\n",
       "    <tr>\n",
       "      <th>9</th>\n",
       "      <td>9</td>\n",
       "      <td>cityVector_PALMDALE</td>\n",
       "      <td>0.006403</td>\n",
       "    </tr>\n",
       "    <tr>\n",
       "      <th>580</th>\n",
       "      <td>580</td>\n",
       "      <td>stateVector_FL</td>\n",
       "      <td>0.004769</td>\n",
       "    </tr>\n",
       "    <tr>\n",
       "      <th>4</th>\n",
       "      <td>4</td>\n",
       "      <td>cityVector_LOS ANGELES</td>\n",
       "      <td>0.003767</td>\n",
       "    </tr>\n",
       "    <tr>\n",
       "      <th>17</th>\n",
       "      <td>17</td>\n",
       "      <td>cityVector_HEMET</td>\n",
       "      <td>0.003042</td>\n",
       "    </tr>\n",
       "    <tr>\n",
       "      <th>683</th>\n",
       "      <td>683</td>\n",
       "      <td>zip5Vector_90266</td>\n",
       "      <td>0.002907</td>\n",
       "    </tr>\n",
       "    <tr>\n",
       "      <th>268</th>\n",
       "      <td>268</td>\n",
       "      <td>cityVector_RENTON</td>\n",
       "      <td>0.000163</td>\n",
       "    </tr>\n",
       "    <tr>\n",
       "      <th>310</th>\n",
       "      <td>310</td>\n",
       "      <td>cityVector_LUTZ</td>\n",
       "      <td>0.000026</td>\n",
       "    </tr>\n",
       "    <tr>\n",
       "      <th>290</th>\n",
       "      <td>290</td>\n",
       "      <td>cityVector_PORT RICHEY</td>\n",
       "      <td>0.000015</td>\n",
       "    </tr>\n",
       "    <tr>\n",
       "      <th>1012</th>\n",
       "      <td>1012</td>\n",
       "      <td>zip5Vector_33846</td>\n",
       "      <td>0.000000</td>\n",
       "    </tr>\n",
       "    <tr>\n",
       "      <th>1022</th>\n",
       "      <td>1022</td>\n",
       "      <td>zip5Vector_11225</td>\n",
       "      <td>0.000000</td>\n",
       "    </tr>\n",
       "    <tr>\n",
       "      <th>1029</th>\n",
       "      <td>1029</td>\n",
       "      <td>zip5Vector_11223</td>\n",
       "      <td>0.000000</td>\n",
       "    </tr>\n",
       "    <tr>\n",
       "      <th>1028</th>\n",
       "      <td>1028</td>\n",
       "      <td>zip5Vector_91502</td>\n",
       "      <td>0.000000</td>\n",
       "    </tr>\n",
       "    <tr>\n",
       "      <th>1027</th>\n",
       "      <td>1027</td>\n",
       "      <td>zip5Vector_90012</td>\n",
       "      <td>0.000000</td>\n",
       "    </tr>\n",
       "    <tr>\n",
       "      <th>1026</th>\n",
       "      <td>1026</td>\n",
       "      <td>zip5Vector_11355</td>\n",
       "      <td>0.000000</td>\n",
       "    </tr>\n",
       "    <tr>\n",
       "      <th>1025</th>\n",
       "      <td>1025</td>\n",
       "      <td>zip5Vector_11427</td>\n",
       "      <td>0.000000</td>\n",
       "    </tr>\n",
       "    <tr>\n",
       "      <th>1024</th>\n",
       "      <td>1024</td>\n",
       "      <td>zip5Vector_11209</td>\n",
       "      <td>0.000000</td>\n",
       "    </tr>\n",
       "    <tr>\n",
       "      <th>1023</th>\n",
       "      <td>1023</td>\n",
       "      <td>zip5Vector_11362</td>\n",
       "      <td>0.000000</td>\n",
       "    </tr>\n",
       "    <tr>\n",
       "      <th>1021</th>\n",
       "      <td>1021</td>\n",
       "      <td>zip5Vector_27609</td>\n",
       "      <td>0.000000</td>\n",
       "    </tr>\n",
       "    <tr>\n",
       "      <th>1013</th>\n",
       "      <td>1013</td>\n",
       "      <td>zip5Vector_11212</td>\n",
       "      <td>0.000000</td>\n",
       "    </tr>\n",
       "    <tr>\n",
       "      <th>1020</th>\n",
       "      <td>1020</td>\n",
       "      <td>zip5Vector_11230</td>\n",
       "      <td>0.000000</td>\n",
       "    </tr>\n",
       "    <tr>\n",
       "      <th>1019</th>\n",
       "      <td>1019</td>\n",
       "      <td>zip5Vector_11428</td>\n",
       "      <td>0.000000</td>\n",
       "    </tr>\n",
       "    <tr>\n",
       "      <th>1018</th>\n",
       "      <td>1018</td>\n",
       "      <td>zip5Vector_11385</td>\n",
       "      <td>0.000000</td>\n",
       "    </tr>\n",
       "    <tr>\n",
       "      <th>1011</th>\n",
       "      <td>1011</td>\n",
       "      <td>zip5Vector_91008</td>\n",
       "      <td>0.000000</td>\n",
       "    </tr>\n",
       "    <tr>\n",
       "      <th>1030</th>\n",
       "      <td>1030</td>\n",
       "      <td>zip5Vector_11418</td>\n",
       "      <td>0.000000</td>\n",
       "    </tr>\n",
       "    <tr>\n",
       "      <th>1016</th>\n",
       "      <td>1016</td>\n",
       "      <td>zip5Vector_11361</td>\n",
       "      <td>0.000000</td>\n",
       "    </tr>\n",
       "    <tr>\n",
       "      <th>...</th>\n",
       "      <td>...</td>\n",
       "      <td>...</td>\n",
       "      <td>...</td>\n",
       "    </tr>\n",
       "    <tr>\n",
       "      <th>490</th>\n",
       "      <td>490</td>\n",
       "      <td>cityVector_ROWLAND HEUGHTS</td>\n",
       "      <td>0.000000</td>\n",
       "    </tr>\n",
       "    <tr>\n",
       "      <th>489</th>\n",
       "      <td>489</td>\n",
       "      <td>cityVector_NORTH SAN GABRIEL</td>\n",
       "      <td>0.000000</td>\n",
       "    </tr>\n",
       "    <tr>\n",
       "      <th>488</th>\n",
       "      <td>488</td>\n",
       "      <td>cityVector_LAKE LOS ANGELE</td>\n",
       "      <td>0.000000</td>\n",
       "    </tr>\n",
       "    <tr>\n",
       "      <th>487</th>\n",
       "      <td>487</td>\n",
       "      <td>cityVector_LANCASTER CAELES</td>\n",
       "      <td>0.000000</td>\n",
       "    </tr>\n",
       "    <tr>\n",
       "      <th>486</th>\n",
       "      <td>486</td>\n",
       "      <td>cityVector_LA CANADA FLINT</td>\n",
       "      <td>0.000000</td>\n",
       "    </tr>\n",
       "    <tr>\n",
       "      <th>485</th>\n",
       "      <td>485</td>\n",
       "      <td>cityVector_SAN GRABRIEL</td>\n",
       "      <td>0.000000</td>\n",
       "    </tr>\n",
       "    <tr>\n",
       "      <th>505</th>\n",
       "      <td>505</td>\n",
       "      <td>cityVector_VALRICO</td>\n",
       "      <td>0.000000</td>\n",
       "    </tr>\n",
       "    <tr>\n",
       "      <th>506</th>\n",
       "      <td>506</td>\n",
       "      <td>cityVector_ELMONTE</td>\n",
       "      <td>0.000000</td>\n",
       "    </tr>\n",
       "    <tr>\n",
       "      <th>507</th>\n",
       "      <td>507</td>\n",
       "      <td>cityVector_ALHAMBR</td>\n",
       "      <td>0.000000</td>\n",
       "    </tr>\n",
       "    <tr>\n",
       "      <th>508</th>\n",
       "      <td>508</td>\n",
       "      <td>cityVector_HACIENDAHEIGHTS</td>\n",
       "      <td>0.000000</td>\n",
       "    </tr>\n",
       "    <tr>\n",
       "      <th>527</th>\n",
       "      <td>527</td>\n",
       "      <td>cityVector_PEARBLASSOM</td>\n",
       "      <td>0.000000</td>\n",
       "    </tr>\n",
       "    <tr>\n",
       "      <th>526</th>\n",
       "      <td>526</td>\n",
       "      <td>cityVector_VALENCIA,</td>\n",
       "      <td>0.000000</td>\n",
       "    </tr>\n",
       "    <tr>\n",
       "      <th>525</th>\n",
       "      <td>525</td>\n",
       "      <td>cityVector_RIVIERA BEACH</td>\n",
       "      <td>0.000000</td>\n",
       "    </tr>\n",
       "    <tr>\n",
       "      <th>524</th>\n",
       "      <td>524</td>\n",
       "      <td>cityVector_LA CRESCENTA,</td>\n",
       "      <td>0.000000</td>\n",
       "    </tr>\n",
       "    <tr>\n",
       "      <th>523</th>\n",
       "      <td>523</td>\n",
       "      <td>cityVector_DOVER</td>\n",
       "      <td>0.000000</td>\n",
       "    </tr>\n",
       "    <tr>\n",
       "      <th>522</th>\n",
       "      <td>522</td>\n",
       "      <td>cityVector_HAWTHORNE,</td>\n",
       "      <td>0.000000</td>\n",
       "    </tr>\n",
       "    <tr>\n",
       "      <th>521</th>\n",
       "      <td>521</td>\n",
       "      <td>cityVector_ENCINO,</td>\n",
       "      <td>0.000000</td>\n",
       "    </tr>\n",
       "    <tr>\n",
       "      <th>520</th>\n",
       "      <td>520</td>\n",
       "      <td>cityVector_LOXAHATCHEE</td>\n",
       "      <td>0.000000</td>\n",
       "    </tr>\n",
       "    <tr>\n",
       "      <th>519</th>\n",
       "      <td>519</td>\n",
       "      <td>cityVector_CERRITOS,</td>\n",
       "      <td>0.000000</td>\n",
       "    </tr>\n",
       "    <tr>\n",
       "      <th>518</th>\n",
       "      <td>518</td>\n",
       "      <td>cityVector_PLAYA DEL REY,</td>\n",
       "      <td>0.000000</td>\n",
       "    </tr>\n",
       "    <tr>\n",
       "      <th>517</th>\n",
       "      <td>517</td>\n",
       "      <td>cityVector_BEL AIR</td>\n",
       "      <td>0.000000</td>\n",
       "    </tr>\n",
       "    <tr>\n",
       "      <th>516</th>\n",
       "      <td>516</td>\n",
       "      <td>cityVector_AGUA DULCA</td>\n",
       "      <td>0.000000</td>\n",
       "    </tr>\n",
       "    <tr>\n",
       "      <th>515</th>\n",
       "      <td>515</td>\n",
       "      <td>cityVector_WHITTIER CA</td>\n",
       "      <td>0.000000</td>\n",
       "    </tr>\n",
       "    <tr>\n",
       "      <th>514</th>\n",
       "      <td>514</td>\n",
       "      <td>cityVector_CITY TERRACE</td>\n",
       "      <td>0.000000</td>\n",
       "    </tr>\n",
       "    <tr>\n",
       "      <th>513</th>\n",
       "      <td>513</td>\n",
       "      <td>cityVector_KENT</td>\n",
       "      <td>0.000000</td>\n",
       "    </tr>\n",
       "    <tr>\n",
       "      <th>512</th>\n",
       "      <td>512</td>\n",
       "      <td>cityVector_ALTADEN</td>\n",
       "      <td>0.000000</td>\n",
       "    </tr>\n",
       "    <tr>\n",
       "      <th>511</th>\n",
       "      <td>511</td>\n",
       "      <td>cityVector_LOSANGELES,</td>\n",
       "      <td>0.000000</td>\n",
       "    </tr>\n",
       "    <tr>\n",
       "      <th>510</th>\n",
       "      <td>510</td>\n",
       "      <td>cityVector_AGUA DUICE</td>\n",
       "      <td>0.000000</td>\n",
       "    </tr>\n",
       "    <tr>\n",
       "      <th>509</th>\n",
       "      <td>509</td>\n",
       "      <td>cityVector_GLENDA</td>\n",
       "      <td>0.000000</td>\n",
       "    </tr>\n",
       "    <tr>\n",
       "      <th>1529</th>\n",
       "      <td>1529</td>\n",
       "      <td>zip5Vector_19373</td>\n",
       "      <td>0.000000</td>\n",
       "    </tr>\n",
       "  </tbody>\n",
       "</table>\n",
       "<p>1530 rows × 3 columns</p>\n",
       "</div>"
      ],
      "text/plain": [
       "       idx                          name     score\n",
       "1        1               prev_sale_price  0.367510\n",
       "3        3                      CPIHOSNS  0.310575\n",
       "2        2                last_sale_days  0.203691\n",
       "0        0                    year_built  0.082440\n",
       "579    579                stateVector_CA  0.014693\n",
       "9        9           cityVector_PALMDALE  0.006403\n",
       "580    580                stateVector_FL  0.004769\n",
       "4        4        cityVector_LOS ANGELES  0.003767\n",
       "17      17              cityVector_HEMET  0.003042\n",
       "683    683              zip5Vector_90266  0.002907\n",
       "268    268             cityVector_RENTON  0.000163\n",
       "310    310               cityVector_LUTZ  0.000026\n",
       "290    290        cityVector_PORT RICHEY  0.000015\n",
       "1012  1012              zip5Vector_33846  0.000000\n",
       "1022  1022              zip5Vector_11225  0.000000\n",
       "1029  1029              zip5Vector_11223  0.000000\n",
       "1028  1028              zip5Vector_91502  0.000000\n",
       "1027  1027              zip5Vector_90012  0.000000\n",
       "1026  1026              zip5Vector_11355  0.000000\n",
       "1025  1025              zip5Vector_11427  0.000000\n",
       "1024  1024              zip5Vector_11209  0.000000\n",
       "1023  1023              zip5Vector_11362  0.000000\n",
       "1021  1021              zip5Vector_27609  0.000000\n",
       "1013  1013              zip5Vector_11212  0.000000\n",
       "1020  1020              zip5Vector_11230  0.000000\n",
       "1019  1019              zip5Vector_11428  0.000000\n",
       "1018  1018              zip5Vector_11385  0.000000\n",
       "1011  1011              zip5Vector_91008  0.000000\n",
       "1030  1030              zip5Vector_11418  0.000000\n",
       "1016  1016              zip5Vector_11361  0.000000\n",
       "...    ...                           ...       ...\n",
       "490    490    cityVector_ROWLAND HEUGHTS  0.000000\n",
       "489    489  cityVector_NORTH SAN GABRIEL  0.000000\n",
       "488    488    cityVector_LAKE LOS ANGELE  0.000000\n",
       "487    487   cityVector_LANCASTER CAELES  0.000000\n",
       "486    486    cityVector_LA CANADA FLINT  0.000000\n",
       "485    485       cityVector_SAN GRABRIEL  0.000000\n",
       "505    505            cityVector_VALRICO  0.000000\n",
       "506    506            cityVector_ELMONTE  0.000000\n",
       "507    507            cityVector_ALHAMBR  0.000000\n",
       "508    508    cityVector_HACIENDAHEIGHTS  0.000000\n",
       "527    527        cityVector_PEARBLASSOM  0.000000\n",
       "526    526          cityVector_VALENCIA,  0.000000\n",
       "525    525      cityVector_RIVIERA BEACH  0.000000\n",
       "524    524      cityVector_LA CRESCENTA,  0.000000\n",
       "523    523              cityVector_DOVER  0.000000\n",
       "522    522         cityVector_HAWTHORNE,  0.000000\n",
       "521    521            cityVector_ENCINO,  0.000000\n",
       "520    520        cityVector_LOXAHATCHEE  0.000000\n",
       "519    519          cityVector_CERRITOS,  0.000000\n",
       "518    518     cityVector_PLAYA DEL REY,  0.000000\n",
       "517    517            cityVector_BEL AIR  0.000000\n",
       "516    516         cityVector_AGUA DULCA  0.000000\n",
       "515    515        cityVector_WHITTIER CA  0.000000\n",
       "514    514       cityVector_CITY TERRACE  0.000000\n",
       "513    513               cityVector_KENT  0.000000\n",
       "512    512            cityVector_ALTADEN  0.000000\n",
       "511    511        cityVector_LOSANGELES,  0.000000\n",
       "510    510         cityVector_AGUA DUICE  0.000000\n",
       "509    509             cityVector_GLENDA  0.000000\n",
       "1529  1529              zip5Vector_19373  0.000000\n",
       "\n",
       "[1530 rows x 3 columns]"
      ]
     },
     "execution_count": 41,
     "metadata": {},
     "output_type": "execute_result"
    }
   ],
   "source": [
    "feature_imp = ExtractFeatureImp(gbt_model.featureImportances, train_df, \"features\")\n",
    "feature_imp"
   ]
  },
  {
   "cell_type": "code",
   "execution_count": 51,
   "metadata": {},
   "outputs": [
    {
     "data": {
      "text/plain": [
       "Text(0,0.5,'Feature Importance')"
      ]
     },
     "execution_count": 51,
     "metadata": {},
     "output_type": "execute_result"
    },
    {
     "data": {
      "image/png": "[encoded data removed]",
      "text/plain": [
       "<Figure size 432x288 with 1 Axes>"
      ]
     },
     "metadata": {},
     "output_type": "display_data"
    }
   ],
   "source": [
    "ax = feature_imp.sort_values(by='score', ascending=True).tail(10).plot(kind='barh', x = 'name', y = 'score')\\\n",
    "\n",
    "ax.set_xlabel(\"Variables\")\n",
    "ax.set_ylabel(\"Feature Importance\")"
   ]
  },
  {
   "cell_type": "code",
   "execution_count": 52,
   "metadata": {},
   "outputs": [],
   "source": [
    "## test results\n",
    "from pyspark.ml.evaluation import BinaryClassificationEvaluator, MulticlassClassificationEvaluator\n",
    "\n",
    "# Create both evaluators\n",
    "evaluatorMulti = MulticlassClassificationEvaluator(labelCol=\"price_flag\", predictionCol=\"prediction\")\n",
    "evaluator = BinaryClassificationEvaluator(labelCol=\"price_flag\", rawPredictionCol=\"prediction\", metricName='areaUnderROC')\n",
    "\n",
    "# Make predicitons\n",
    "predictionAndprice_flag = gbt_predictions_test.select(\"price_flag\", \"prediction\")\n",
    "\n",
    "# Get metrics\n",
    "acc = evaluatorMulti.evaluate(predictionAndprice_flag, {evaluatorMulti.metricName: \"accuracy\"})\n",
    "f1 = evaluatorMulti.evaluate(predictionAndprice_flag, {evaluatorMulti.metricName: \"f1\"})\n",
    "weightedPrecision = evaluatorMulti.evaluate(predictionAndprice_flag, {evaluatorMulti.metricName: \"weightedPrecision\"})\n",
    "weightedRecall = evaluatorMulti.evaluate(predictionAndprice_flag, {evaluatorMulti.metricName: \"weightedRecall\"})\n",
    "auc = evaluator.evaluate(predictionAndprice_flag)"
   ]
  },
  {
   "cell_type": "code",
   "execution_count": 53,
   "metadata": {},
   "outputs": [
    {
     "name": "stdout",
     "output_type": "stream",
     "text": [
      "0.8758724641049104\n",
      "0.8734326934843245\n",
      "0.8732670721252781\n",
      "0.8748824810961873\n"
     ]
    }
   ],
   "source": [
    "print(acc)\n",
    "print(f1)\n",
    "print(weightedPrecision)\n",
    "print(weightedRecall)"
   ]
  },
  {
   "cell_type": "code",
   "execution_count": null,
   "metadata": {},
   "outputs": [],
   "source": []
  }
 ],
 "metadata": {
  "kernelspec": {
   "display_name": "pySpark",
   "language": "python",
   "name": "pyspark"
  },
  "language_info": {
   "codemirror_mode": {
    "name": "ipython",
    "version": 3
   },
   "file_extension": ".py",
   "mimetype": "text/x-python",
   "name": "python",
   "nbconvert_exporter": "python",
   "pygments_lexer": "ipython3",
   "version": "3.6.8"
  }
 },
 "nbformat": 4,
 "nbformat_minor": 2
}
