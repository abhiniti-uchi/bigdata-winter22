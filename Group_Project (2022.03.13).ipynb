{
 "cells": [
  {
   "cell_type": "code",
   "execution_count": 1,
   "metadata": {},
   "outputs": [],
   "source": [
    "#Group Project Script\n",
    "#Ethan Fischbein"
   ]
  },
  {
   "cell_type": "code",
   "execution_count": 2,
   "metadata": {},
   "outputs": [],
   "source": [
    "from pyspark.sql import SparkSession\n",
    "from pyspark.sql import functions as F\n",
    "from pyspark.sql.types import StringType,BooleanType,DateType, IntegerType\n",
    "from pyspark.sql.functions import to_timestamp, upper, col\n",
    "\n",
    "import matplotlib.pyplot as plt\n",
    "%matplotlib inline"
   ]
  },
  {
   "cell_type": "code",
   "execution_count": 3,
   "metadata": {},
   "outputs": [],
   "source": [
    "spark = SparkSession.builder.appName('ZillowPrices').getOrCreate()\n",
    "\n",
    "#change configuration settings on Spark \n",
    "conf = spark.sparkContext._conf.setAll([('spark.executor.memory', '4g'), ('spark.app.name', 'Spark Updated Conf'), ('spark.executor.cores', '4'), ('spark.cores.max', '4'), ('spark.driver.memory','4g'), ('spark.sql.repl.eagerEval.enabled', True)])\n"
   ]
  },
  {
   "cell_type": "markdown",
   "metadata": {},
   "source": [
    "# DATA EXPLORATION, DATASET CREATION"
   ]
  },
  {
   "cell_type": "code",
   "execution_count": 4,
   "metadata": {},
   "outputs": [],
   "source": [
    "#SECTION 1 - Load base CSV file & analyze\n",
    "df = spark.read.csv(\"gs://group-8-msca-bucket/sales.csv\", inferSchema=True, header=True)"
   ]
  },
  {
   "cell_type": "code",
   "execution_count": null,
   "metadata": {
    "scrolled": true
   },
   "outputs": [
    {
     "data": {
      "text/plain": [
       "DataFrame[summary: string, state: string, zip5: string, physical_address: string, city: string, county: string, property_id: string, sale_date: string, property_type: string, sale_price: string, seller_name: string, buyer_name: string, num_units: string, year_built: string, source_url: string, book: string, page: string]"
      ]
     },
     "execution_count": 5,
     "metadata": {},
     "output_type": "execute_result"
    }
   ],
   "source": [
    "df.describe()"
   ]
  },
  {
   "cell_type": "code",
   "execution_count": null,
   "metadata": {
    "scrolled": true
   },
   "outputs": [
    {
     "name": "stdout",
     "output_type": "stream",
     "text": [
      "+-----+-----+-----------------+-------+---------+-----------+--------------------+--------------------+----------+-----------+----------+---------+----------+--------------------+----+----+\n",
      "|state| zip5| physical_address|   city|   county|property_id|           sale_date|       property_type|sale_price|seller_name|buyer_name|num_units|year_built|          source_url|book|page|\n",
      "+-----+-----+-----------------+-------+---------+-----------+--------------------+--------------------+----------+-----------+----------+---------+----------+--------------------+----+----+\n",
      "|   CA|92220|1050 THOMPSON AVE|BANNING|RIVERSIDE|  408144009|1988-05-25 00:00:...|SINGLE FAMILY DWE...|         0|       null|      null|        1|      1965|https://ca-rivers...|null|null|\n",
      "|   CA|92220|1050 THOMPSON AVE|BANNING|RIVERSIDE|  408144009|1989-03-17 00:00:...|SINGLE FAMILY DWE...|         0|       null|      null|        1|      1965|https://ca-rivers...|null|null|\n",
      "|   CA|92220|1050 THOMPSON AVE|BANNING|RIVERSIDE|  408144009|1991-06-18 00:00:...|SINGLE FAMILY DWE...|         0|       null|      null|        1|      1965|https://ca-rivers...|null|null|\n",
      "+-----+-----+-----------------+-------+---------+-----------+--------------------+--------------------+----------+-----------+----------+---------+----------+--------------------+----+----+\n",
      "only showing top 3 rows\n",
      "\n"
     ]
    }
   ],
   "source": [
    "df.show(3)"
   ]
  },
  {
   "cell_type": "code",
   "execution_count": null,
   "metadata": {},
   "outputs": [
    {
     "data": {
      "text/plain": [
       "[('state', 'string'),\n",
       " ('zip5', 'string'),\n",
       " ('physical_address', 'string'),\n",
       " ('city', 'string'),\n",
       " ('county', 'string'),\n",
       " ('property_id', 'string'),\n",
       " ('sale_date', 'string'),\n",
       " ('property_type', 'string'),\n",
       " ('sale_price', 'string'),\n",
       " ('seller_name', 'string'),\n",
       " ('buyer_name', 'string'),\n",
       " ('num_units', 'string'),\n",
       " ('year_built', 'string'),\n",
       " ('source_url', 'string'),\n",
       " ('book', 'string'),\n",
       " ('page', 'string')]"
      ]
     },
     "execution_count": 7,
     "metadata": {},
     "output_type": "execute_result"
    }
   ],
   "source": [
    "df.dtypes"
   ]
  },
  {
   "cell_type": "code",
   "execution_count": null,
   "metadata": {},
   "outputs": [],
   "source": [
    "#SECTION 2 - Data Cleanup\n",
    "#1. drop extra columns (seller_name, buyer_name, source_url, book, page)\n",
    "#2. Dates - limited from 1970-2021\n",
    "#3. Sale Price - not null, greater than 0\n",
    "#4. City, State - remove null\n",
    "#5. Num. Units -  must be 1\n",
    "#6. Property Type - remove condos, mobile homes\n",
    "#7. Num. Sales - must be greater than 1"
   ]
  },
  {
   "cell_type": "code",
   "execution_count": 5,
   "metadata": {},
   "outputs": [],
   "source": [
    "#Data Cleanup - drop extra columns\n",
    "df = df.drop(\"seller_name\", \"buyer_name\", \"source_url\", \"book\", \"page\")"
   ]
  },
  {
   "cell_type": "code",
   "execution_count": 6,
   "metadata": {},
   "outputs": [
    {
     "name": "stderr",
     "output_type": "stream",
     "text": [
      "/opt/conda/anaconda/lib/python3.7/site-packages/statsmodels/tools/_testing.py:19: FutureWarning: pandas.util.testing is deprecated. Use the functions in the public API at pandas.testing instead.\n",
      "  import pandas.util.testing as tm\n"
     ]
    }
   ],
   "source": [
    "import seaborn as sns\n",
    "import matplotlib \n",
    "import matplotlib.pyplot as plt"
   ]
  },
  {
   "cell_type": "code",
   "execution_count": null,
   "metadata": {},
   "outputs": [
    {
     "data": {
      "image/png": "[encoded data removed]",
      "text/plain": [
       "<Figure size 432x288 with 1 Axes>"
      ]
     },
     "metadata": {
      "needs_background": "light"
     },
     "output_type": "display_data"
    }
   ],
   "source": [
    "#home sales by year\n",
    "sale_plt = df.filter(F.year(col('sale_date')) <= 2020).groupBy(F.year(col('sale_date'))).count().toPandas()\n",
    "sale_plt = sale_plt.sort_values('year(sale_date)')\n",
    "sale_plt = sale_plt.set_index('year(sale_date)')\n",
    "sale_plt.plot(kind ='line')\n",
    "plt.show()"
   ]
  },
  {
   "cell_type": "code",
   "execution_count": 7,
   "metadata": {},
   "outputs": [
    {
     "data": {
      "text/plain": [
       "[Row(sale_date=datetime.date(1988, 5, 25)),\n",
       " Row(sale_date=datetime.date(1989, 3, 17)),\n",
       " Row(sale_date=datetime.date(1991, 6, 18)),\n",
       " Row(sale_date=datetime.date(1994, 12, 12)),\n",
       " Row(sale_date=datetime.date(2003, 2, 28))]"
      ]
     },
     "execution_count": 7,
     "metadata": {},
     "output_type": "execute_result"
    }
   ],
   "source": [
    "#Data Cleanup - Dates: 1970 - 2021\n",
    "df = df.withColumn('sale_date', F.to_date(F.unix_timestamp('sale_date', 'yyyy-MM-dd').cast('timestamp')))\n",
    "df = df.filter((F.year(col(\"sale_date\"))<=2021) & (F.year(col(\"sale_date\"))>=1970))\n",
    "df.select('sale_date').head(5)"
   ]
  },
  {
   "cell_type": "code",
   "execution_count": 8,
   "metadata": {},
   "outputs": [
    {
     "data": {
      "text/plain": [
       "[Row(sale_price=59000.0),\n",
       " Row(sale_price=280000.0),\n",
       " Row(sale_price=381591.0),\n",
       " Row(sale_price=592000.0),\n",
       " Row(sale_price=585000.0)]"
      ]
     },
     "execution_count": 8,
     "metadata": {},
     "output_type": "execute_result"
    }
   ],
   "source": [
    "#Data Cleanup - Sale Price\n",
    "df = df.withColumn('sale_price', df.sale_price.cast('float'))\n",
    "df = df.filter(col(\"sale_price\").isNotNull()).filter(col(\"sale_price\")>0)\n",
    "df.select('sale_price').head(5)"
   ]
  },
  {
   "cell_type": "code",
   "execution_count": null,
   "metadata": {},
   "outputs": [
    {
     "name": "stdout",
     "output_type": "stream",
     "text": [
      "+-------+-----------------+\n",
      "|summary|       sale_price|\n",
      "+-------+-----------------+\n",
      "|  count|         42865931|\n",
      "|   mean|493120.9679655622|\n",
      "| stddev|6699651.508783256|\n",
      "|    min|              1.0|\n",
      "|    max|            8.2E9|\n",
      "+-------+-----------------+\n",
      "\n"
     ]
    }
   ],
   "source": [
    "df.describe(\"sale_date\", \"sale_price\").show()"
   ]
  },
  {
   "cell_type": "code",
   "execution_count": 9,
   "metadata": {},
   "outputs": [],
   "source": [
    "#Data Cleanup - remove null cities & states\n",
    "df = df.filter((col(\"city\").isNotNull()) & (col(\"state\").isNotNull()) & (col(\"physical_address\").isNotNull()) & (col(\"zip5\").isNotNull()))"
   ]
  },
  {
   "cell_type": "code",
   "execution_count": null,
   "metadata": {},
   "outputs": [
    {
     "name": "stdout",
     "output_type": "stream",
     "text": [
      "+--------------------+-----+-------+\n",
      "|                city|state|  count|\n",
      "+--------------------+-----+-------+\n",
      "|         LOS ANGELES|   CA|1403176|\n",
      "|       NEW YORK CITY|   NY|1260613|\n",
      "|               TAMPA|   FL|1074407|\n",
      "|        PHILADELPHIA|   PA| 738332|\n",
      "|            LAKELAND|   FL| 542238|\n",
      "|             SEATTLE|   WA| 413323|\n",
      "|      VIRGINIA BEACH|   VA| 365435|\n",
      "|        INDIANAPOLIS|   IN| 329493|\n",
      "|           DAVENPORT|   FL| 306982|\n",
      "|UNINCORPORATED CO...|   FL| 303591|\n",
      "+--------------------+-----+-------+\n",
      "only showing top 10 rows\n",
      "\n"
     ]
    }
   ],
   "source": [
    "#top cities\n",
    "df.groupBy('city','state').count().orderBy('count', ascending=False).show(10)"
   ]
  },
  {
   "cell_type": "code",
   "execution_count": 10,
   "metadata": {},
   "outputs": [
    {
     "name": "stdout",
     "output_type": "stream",
     "text": [
      "+---------+-------+\n",
      "|num_units|  count|\n",
      "+---------+-------+\n",
      "|        1|9742796|\n",
      "+---------+-------+\n",
      "\n"
     ]
    }
   ],
   "source": [
    "#Data Cleanup - View number of units, want to only be 1\n",
    "df = df.filter(col('num_units')==1)\n",
    "df.groupBy('num_units').count().orderBy('count', ascending=False).show()"
   ]
  },
  {
   "cell_type": "code",
   "execution_count": null,
   "metadata": {},
   "outputs": [
    {
     "name": "stdout",
     "output_type": "stream",
     "text": [
      "+--------------------+-------+\n",
      "|       property_type|  count|\n",
      "+--------------------+-------+\n",
      "|SINGLE FAMILY RES...|2579548|\n",
      "|                null|2104659|\n",
      "|SINGLE FAMILY DWE...|1402975|\n",
      "|         CONDOMINIUM| 784499|\n",
      "|SINGLE FAMILY/SFR...| 440753|\n",
      "|       SINGLE FAMILY| 421979|\n",
      "|          ONE FAMILY| 301540|\n",
      "|     SINGLE FAMILY R| 297952|\n",
      "|       SINGLE-FAMILY| 179918|\n",
      "|RESIDENTIAL < 10 ...| 158199|\n",
      "|13  CONDOS - ELEV...| 148473|\n",
      "|MULTI-FAMILY RESI...| 137634|\n",
      "|01  ONE FAMILY HOMES| 126917|\n",
      "|MOBILE HOME/MANUF...|  96049|\n",
      "|13 CONDOS - ELEVA...|  83340|\n",
      "|01 ONE FAMILY DWE...|  62157|\n",
      "|01  ONE FAMILY DW...|  46209|\n",
      "|      CONDO/TOWNHOME|  43164|\n",
      "|ATTACHED HOUSING/...|  24802|\n",
      "|28  COMMERCIAL CO...|  24360|\n",
      "+--------------------+-------+\n",
      "only showing top 20 rows\n",
      "\n"
     ]
    }
   ],
   "source": [
    "#view property types\n",
    "df.groupBy('property_type').count().orderBy('count', ascending=False).show()"
   ]
  },
  {
   "cell_type": "code",
   "execution_count": 11,
   "metadata": {},
   "outputs": [],
   "source": [
    "#Data Cleanup - filter out condos, mobile homes, rentals\n",
    "df = df.where(~ col(\"property_type\").like(\"%CONDO%\"))\n",
    "df = df.where(~ col(\"property_type\").like(\"%MOBILE%HOME%\"))\n",
    "df = df.where(~ col(\"property_type\").like(\"%RENTALS%\"))"
   ]
  },
  {
   "cell_type": "code",
   "execution_count": null,
   "metadata": {},
   "outputs": [
    {
     "name": "stdout",
     "output_type": "stream",
     "text": [
      "+------------+-----+--------------------+-----+--------------------+-----+\n",
      "|        city|state|    physical_address| zip5|       property_type|count|\n",
      "+------------+-----+--------------------+-----+--------------------+-----+\n",
      "|PALM SPRINGS|   CA|  1800 S SUNRISE WAY|92264|SINGLE FAMILY DWE...|  106|\n",
      "|PHILADELPHIA|   PA|   2018-32 WALNUT ST|19103|       SINGLE FAMILY|  102|\n",
      "|  LONG BEACH|   CA|        225 W 6TH ST|90802|SINGLE FAMILY RES...|   97|\n",
      "|PHILADELPHIA|   PA|        112 N 2ND ST|19106|       SINGLE FAMILY|   93|\n",
      "|    LAKELAND|   FL|  2020 EDGEWOOD DR E|33803|ATTACHED HOUSING/...|   91|\n",
      "|  LAKE WALES|   FL|   2300 SCENIC HWY N|33898|SINGLE FAMILY/SFR...|   86|\n",
      "|PHILADELPHIA|   PA|224-30 W RITTENHO...|19103|       SINGLE FAMILY|   81|\n",
      "|  LAKE WALES|   FL|   2285 BOY SCOUT RD|33853|SINGLE FAMILY/MUL...|   70|\n",
      "|  LAKE WALES|   FL|   2300 SCENIC HWY N|33853|SINGLE FAMILY/SFR...|   62|\n",
      "|  LAKE WALES|   FL|   2300 SCENIC HWY N|33898|SINGLE FAMILY/RES...|   61|\n",
      "|PHILADELPHIA|   PA|2401 PENNSYLVANIA...|19130|       SINGLE FAMILY|   61|\n",
      "|  LAKE WALES|   FL|   2300 SCENIC HWY N|33898|SINGLE FAMILY/SFR...|   60|\n",
      "|PHILADELPHIA|   PA|   200-10 LOMBARD ST|19147|       SINGLE FAMILY|   50|\n",
      "|    LAKELAND|   FL|1836 N CRYSTAL LA...|33801|ATTACHED HOUSING/...|   48|\n",
      "|PHILADELPHIA|   PA|2601 PENNSYLVANIA...|19130|       SINGLE FAMILY|   48|\n",
      "|PHILADELPHIA|   PA|    2001 HAMILTON ST|19130|       SINGLE FAMILY|   48|\n",
      "|  LAKE WALES|   FL|   2300 SCENIC HWY N|33859|SINGLE FAMILY/SFR...|   46|\n",
      "|PHILADELPHIA|   PA|       901 N PENN ST|19123|       SINGLE FAMILY|   46|\n",
      "|PHILADELPHIA|   PA|      1420 LOCUST ST|19102|       SINGLE FAMILY|   43|\n",
      "|PHILADELPHIA|   PA|   1326-42 SPRUCE ST|19107|       SINGLE FAMILY|   43|\n",
      "|PHILADELPHIA|   PA|604-36 S WASHINGT...|19106|       SINGLE FAMILY|   40|\n",
      "|  AUBURNDALE|   FL|       310 CENTER ST|33823|SINGLE FAMILY/SFR...|   40|\n",
      "|  FROSTPROOF|   FL|    319 SCENIC HWY N|33843|SINGLE FAMILY/SFR...|   39|\n",
      "|PHILADELPHIA|   PA|    500 ADMIRALS WAY|19146|       SINGLE FAMILY|   38|\n",
      "|    ISSAQUAH|   WA|     1908 RIVA LN NW|98027|      TOWNHOUSE PLAT|   38|\n",
      "+------------+-----+--------------------+-----+--------------------+-----+\n",
      "only showing top 25 rows\n",
      "\n"
     ]
    }
   ],
   "source": [
    "#view top properties\n",
    "df.groupBy('city','state', 'physical_address', 'zip5', 'property_type').count().orderBy('count', ascending=False).show(25)"
   ]
  },
  {
   "cell_type": "code",
   "execution_count": 12,
   "metadata": {},
   "outputs": [],
   "source": [
    "from pyspark.sql.functions import rank\n",
    "from pyspark.sql.window import Window"
   ]
  },
  {
   "cell_type": "code",
   "execution_count": 13,
   "metadata": {},
   "outputs": [],
   "source": [
    "#Data Cleanup - filter dataframe based on window function to only show properties with only 1 sale\n",
    "windowSpec = Window().partitionBy(['city','state', 'physical_address', 'zip5']).rangeBetween(Window.unboundedPreceding, Window.unboundedFollowing)\n",
    "df = df.withColumn(\"num_sales\", F.count(col('city')).over(windowSpec)).filter(col('num_sales') > 1)"
   ]
  },
  {
   "cell_type": "code",
   "execution_count": null,
   "metadata": {},
   "outputs": [],
   "source": [
    "#SECTION 3 - Join Predictive Data Features"
   ]
  },
  {
   "cell_type": "code",
   "execution_count": null,
   "metadata": {},
   "outputs": [],
   "source": [
    "#SECTION 3a - Public Schools data"
   ]
  },
  {
   "cell_type": "code",
   "execution_count": 14,
   "metadata": {},
   "outputs": [],
   "source": [
    "#Public_Schools.csv\n",
    "Public_Schools = spark.read.csv(\"gs://group-8-msca-bucket/Public_Schools.csv\", inferSchema=True, header=True)"
   ]
  },
  {
   "cell_type": "code",
   "execution_count": null,
   "metadata": {},
   "outputs": [],
   "source": [
    "Public_Schools.describe()"
   ]
  },
  {
   "cell_type": "code",
   "execution_count": null,
   "metadata": {
    "scrolled": true
   },
   "outputs": [],
   "source": [
    "Public_Schools.dtypes\n",
    "#Can maybe use the count of schools by city as a predictor? But would be correlated with city size"
   ]
  },
  {
   "cell_type": "code",
   "execution_count": 15,
   "metadata": {},
   "outputs": [
    {
     "data": {
      "text/plain": [
       "DataFrame[ZIP: string, count: bigint]"
      ]
     },
     "execution_count": 15,
     "metadata": {},
     "output_type": "execute_result"
    }
   ],
   "source": [
    "#Public schools - First predictor variable - raw count by zip code\n",
    "num_schools_zip = Public_Schools.groupby('ZIP').count()\n",
    "num_schools_zip"
   ]
  },
  {
   "cell_type": "code",
   "execution_count": 16,
   "metadata": {},
   "outputs": [],
   "source": [
    "#join predictor to base table\n",
    "df = df.join(num_schools_zip, df['zip5'] == num_schools_zip['ZIP'], 'left').\\\n",
    "    select(df[\"*\"],num_schools_zip[\"count\"]).na.fill(0)"
   ]
  },
  {
   "cell_type": "code",
   "execution_count": 17,
   "metadata": {},
   "outputs": [
    {
     "name": "stdout",
     "output_type": "stream",
     "text": [
      "+-----+-----+--------------------+-----+-----------+-----------+----------+--------------------+----------+---------+----------+---------+---------------+\n",
      "|state| zip5|    physical_address| city|     county|property_id| sale_date|       property_type|sale_price|num_units|year_built|num_sales|zip_num_schools|\n",
      "+-----+-----+--------------------+-----+-----------+-----------+----------+--------------------+----------+---------+----------+---------+---------------+\n",
      "|   CA|93510|        1629 MARY RD|ACTON|LOS ANGELES| 3057028002|2002-01-10|SINGLE FAMILY RES...| 7303573.0|        1|      2003|        3|              5|\n",
      "|   CA|93510|        1629 MARY RD|ACTON|LOS ANGELES| 3057028002|2003-09-17|SINGLE FAMILY RES...|  458000.0|        1|      2003|        3|              5|\n",
      "|   CA|93510|        1629 MARY RD|ACTON|LOS ANGELES| 3057028002|2012-08-02|SINGLE FAMILY RES...|  399003.0|        1|      2003|        3|              5|\n",
      "|   CA|93510|1940 SHADOW CANYO...|ACTON|LOS ANGELES| 3056032042|1991-06-21|SINGLE FAMILY RES...|  343000.0|        1|      1991|        4|              5|\n",
      "|   CA|93510|1940 SHADOW CANYO...|ACTON|LOS ANGELES| 3056032042|1999-11-18|SINGLE FAMILY RES...|  425000.0|        1|      1991|        4|              5|\n",
      "+-----+-----+--------------------+-----+-----------+-----------+----------+--------------------+----------+---------+----------+---------+---------------+\n",
      "only showing top 5 rows\n",
      "\n"
     ]
    }
   ],
   "source": [
    "df = df.withColumnRenamed('count','zip_num_schools')\n",
    "df.show(5)"
   ]
  },
  {
   "cell_type": "code",
   "execution_count": 18,
   "metadata": {},
   "outputs": [
    {
     "data": {
      "text/plain": [
       "DataFrame[city: string, state: string, count: bigint]"
      ]
     },
     "execution_count": 18,
     "metadata": {},
     "output_type": "execute_result"
    }
   ],
   "source": [
    "#Public schools - Second predictor variable - number of schools by city\n",
    "num_schools_city = Public_Schools.groupby('city', 'state').count()\n",
    "num_schools_city"
   ]
  },
  {
   "cell_type": "code",
   "execution_count": 19,
   "metadata": {},
   "outputs": [],
   "source": [
    "#join predictor to base table\n",
    "df = df.join(num_schools_city, (df['city'] == num_schools_city['city']) & \\\n",
    "             (df['state'] == num_schools_city['state']), 'left').\\\n",
    "             select(df[\"*\"],num_schools_city[\"count\"]).na.fill(0)"
   ]
  },
  {
   "cell_type": "code",
   "execution_count": 20,
   "metadata": {},
   "outputs": [
    {
     "name": "stdout",
     "output_type": "stream",
     "text": [
      "+-----+-----+--------------------+-----+-----------+-----------+----------+--------------------+----------+---------+----------+---------+---------------+----------------+\n",
      "|state| zip5|    physical_address| city|     county|property_id| sale_date|       property_type|sale_price|num_units|year_built|num_sales|zip_num_schools|city_num_schools|\n",
      "+-----+-----+--------------------+-----+-----------+-----------+----------+--------------------+----------+---------+----------+---------+---------------+----------------+\n",
      "|   CA|93510|        1629 MARY RD|ACTON|LOS ANGELES| 3057028002|2002-01-10|SINGLE FAMILY RES...| 7303573.0|        1|      2003|        3|              5|               5|\n",
      "|   CA|93510|        1629 MARY RD|ACTON|LOS ANGELES| 3057028002|2003-09-17|SINGLE FAMILY RES...|  458000.0|        1|      2003|        3|              5|               5|\n",
      "|   CA|93510|        1629 MARY RD|ACTON|LOS ANGELES| 3057028002|2012-08-02|SINGLE FAMILY RES...|  399003.0|        1|      2003|        3|              5|               5|\n",
      "|   CA|93510|1940 SHADOW CANYO...|ACTON|LOS ANGELES| 3056032042|1991-06-21|SINGLE FAMILY RES...|  343000.0|        1|      1991|        4|              5|               5|\n",
      "|   CA|93510|1940 SHADOW CANYO...|ACTON|LOS ANGELES| 3056032042|1999-11-18|SINGLE FAMILY RES...|  425000.0|        1|      1991|        4|              5|               5|\n",
      "+-----+-----+--------------------+-----+-----------+-----------+----------+--------------------+----------+---------+----------+---------+---------------+----------------+\n",
      "only showing top 5 rows\n",
      "\n"
     ]
    }
   ],
   "source": [
    "df = df.withColumnRenamed('count','city_num_schools')\n",
    "df.show(5)"
   ]
  },
  {
   "cell_type": "code",
   "execution_count": 21,
   "metadata": {},
   "outputs": [
    {
     "name": "stdout",
     "output_type": "stream",
     "text": [
      "-RECORD 0--------------------------\n",
      " ZIP          | 39645              \n",
      " zip_st_ratio | 11.71111111111111  \n",
      "-RECORD 1--------------------------\n",
      " ZIP          | 11563              \n",
      " zip_st_ratio | 11.840637450199203 \n",
      "-RECORD 2--------------------------\n",
      " ZIP          | 92027              \n",
      " zip_st_ratio | 21.91578947368421  \n",
      "-RECORD 3--------------------------\n",
      " ZIP          | 35670              \n",
      " zip_st_ratio | 16.495495495495497 \n",
      "-RECORD 4--------------------------\n",
      " ZIP          | 36067              \n",
      " zip_st_ratio | 20.16058394160584  \n",
      "only showing top 5 rows\n",
      "\n"
     ]
    }
   ],
   "source": [
    "#Public schools - Third predictor variable - Student Teacher Ratio by Zip\n",
    "st_ratio_zip = Public_Schools.filter((col('ENROLLMENT') != -1) & (col('FT_TEACHER') != -1))\n",
    "st_ratio_zip = st_ratio_zip.groupby('ZIP').agg((F.sum(st_ratio_zip.ENROLLMENT) / F.sum(st_ratio_zip.FT_TEACHER)).alias('zip_st_ratio'))\n",
    "st_ratio_zip.show(5, vertical=True)"
   ]
  },
  {
   "cell_type": "code",
   "execution_count": 22,
   "metadata": {},
   "outputs": [],
   "source": [
    "#join predictor to base table\n",
    "df = df.join(st_ratio_zip, df['zip5'] == st_ratio_zip['ZIP'], 'left').\\\n",
    "    select(df[\"*\"],st_ratio_zip[\"zip_st_ratio\"])"
   ]
  },
  {
   "cell_type": "code",
   "execution_count": 23,
   "metadata": {},
   "outputs": [
    {
     "name": "stdout",
     "output_type": "stream",
     "text": [
      "-RECORD 0---------------------------\n",
      " city          | STATEN ISLAND      \n",
      " state         | NY                 \n",
      " city_st_ratio | 14.711904202864522 \n",
      "-RECORD 1---------------------------\n",
      " city          | MARLBORO           \n",
      " state         | NJ                 \n",
      " city_st_ratio | 12.857923497267759 \n",
      "-RECORD 2---------------------------\n",
      " city          | JERICHO            \n",
      " state         | VT                 \n",
      " city_st_ratio | 14.813084112149532 \n",
      "-RECORD 3---------------------------\n",
      " city          | WOODLYNNE          \n",
      " state         | NJ                 \n",
      " city_st_ratio | 11.575757575757576 \n",
      "-RECORD 4---------------------------\n",
      " city          | HANOVER            \n",
      " state         | MA                 \n",
      " city_st_ratio | 12.744094488188976 \n",
      "only showing top 5 rows\n",
      "\n"
     ]
    }
   ],
   "source": [
    "#Public schools - Fourth predictor variable - Student Teacher Ratio by City\n",
    "st_ratio_city = Public_Schools.filter((col('ENROLLMENT') != -1) & (col('FT_TEACHER') != -1))\n",
    "st_ratio_city = st_ratio_city.groupby('city', 'state').agg((F.sum(st_ratio_city.ENROLLMENT) / F.sum(st_ratio_city.FT_TEACHER)).alias('city_st_ratio'))\n",
    "st_ratio_city.show(5, vertical=True)"
   ]
  },
  {
   "cell_type": "code",
   "execution_count": 24,
   "metadata": {},
   "outputs": [],
   "source": [
    "#join predictor to base table\n",
    "df = df.join(st_ratio_city, (df['city'] == st_ratio_city['city']) & \\\n",
    "             (df['state'] == st_ratio_city['state']), 'left').\\\n",
    "             select(df[\"*\"],st_ratio_city[\"city_st_ratio\"]).na.fill(0)"
   ]
  },
  {
   "cell_type": "code",
   "execution_count": 25,
   "metadata": {},
   "outputs": [
    {
     "name": "stdout",
     "output_type": "stream",
     "text": [
      "-RECORD 0--------------------------------\n",
      " state            | CA                   \n",
      " zip5             | 93510                \n",
      " physical_address | 1629 MARY RD         \n",
      " city             | ACTON                \n",
      " county           | LOS ANGELES          \n",
      " property_id      | 3057028002           \n",
      " sale_date        | 2002-01-10           \n",
      " property_type    | SINGLE FAMILY RES... \n",
      " sale_price       | 7303573.0            \n",
      " num_units        | 1                    \n",
      " year_built       | 2003                 \n",
      " num_sales        | 3                    \n",
      " zip_num_schools  | 5                    \n",
      " city_num_schools | 5                    \n",
      " zip_st_ratio     | 22.85185185185185    \n",
      " city_st_ratio    | 22.85185185185185    \n",
      "-RECORD 1--------------------------------\n",
      " state            | CA                   \n",
      " zip5             | 93510                \n",
      " physical_address | 1629 MARY RD         \n",
      " city             | ACTON                \n",
      " county           | LOS ANGELES          \n",
      " property_id      | 3057028002           \n",
      " sale_date        | 2003-09-17           \n",
      " property_type    | SINGLE FAMILY RES... \n",
      " sale_price       | 458000.0             \n",
      " num_units        | 1                    \n",
      " year_built       | 2003                 \n",
      " num_sales        | 3                    \n",
      " zip_num_schools  | 5                    \n",
      " city_num_schools | 5                    \n",
      " zip_st_ratio     | 22.85185185185185    \n",
      " city_st_ratio    | 22.85185185185185    \n",
      "-RECORD 2--------------------------------\n",
      " state            | CA                   \n",
      " zip5             | 93510                \n",
      " physical_address | 1629 MARY RD         \n",
      " city             | ACTON                \n",
      " county           | LOS ANGELES          \n",
      " property_id      | 3057028002           \n",
      " sale_date        | 2012-08-02           \n",
      " property_type    | SINGLE FAMILY RES... \n",
      " sale_price       | 399003.0             \n",
      " num_units        | 1                    \n",
      " year_built       | 2003                 \n",
      " num_sales        | 3                    \n",
      " zip_num_schools  | 5                    \n",
      " city_num_schools | 5                    \n",
      " zip_st_ratio     | 22.85185185185185    \n",
      " city_st_ratio    | 22.85185185185185    \n",
      "-RECORD 3--------------------------------\n",
      " state            | CA                   \n",
      " zip5             | 93510                \n",
      " physical_address | 1940 SHADOW CANYO... \n",
      " city             | ACTON                \n",
      " county           | LOS ANGELES          \n",
      " property_id      | 3056032042           \n",
      " sale_date        | 1991-06-21           \n",
      " property_type    | SINGLE FAMILY RES... \n",
      " sale_price       | 343000.0             \n",
      " num_units        | 1                    \n",
      " year_built       | 1991                 \n",
      " num_sales        | 4                    \n",
      " zip_num_schools  | 5                    \n",
      " city_num_schools | 5                    \n",
      " zip_st_ratio     | 22.85185185185185    \n",
      " city_st_ratio    | 22.85185185185185    \n",
      "-RECORD 4--------------------------------\n",
      " state            | CA                   \n",
      " zip5             | 93510                \n",
      " physical_address | 1940 SHADOW CANYO... \n",
      " city             | ACTON                \n",
      " county           | LOS ANGELES          \n",
      " property_id      | 3056032042           \n",
      " sale_date        | 1999-11-18           \n",
      " property_type    | SINGLE FAMILY RES... \n",
      " sale_price       | 425000.0             \n",
      " num_units        | 1                    \n",
      " year_built       | 1991                 \n",
      " num_sales        | 4                    \n",
      " zip_num_schools  | 5                    \n",
      " city_num_schools | 5                    \n",
      " zip_st_ratio     | 22.85185185185185    \n",
      " city_st_ratio    | 22.85185185185185    \n",
      "-RECORD 5--------------------------------\n",
      " state            | CA                   \n",
      " zip5             | 93510                \n",
      " physical_address | 1940 SHADOW CANYO... \n",
      " city             | ACTON                \n",
      " county           | LOS ANGELES          \n",
      " property_id      | 3056032042           \n",
      " sale_date        | 2002-07-01           \n",
      " property_type    | SINGLE FAMILY RES... \n",
      " sale_price       | 460004.0             \n",
      " num_units        | 1                    \n",
      " year_built       | 1991                 \n",
      " num_sales        | 4                    \n",
      " zip_num_schools  | 5                    \n",
      " city_num_schools | 5                    \n",
      " zip_st_ratio     | 22.85185185185185    \n",
      " city_st_ratio    | 22.85185185185185    \n",
      "-RECORD 6--------------------------------\n",
      " state            | CA                   \n",
      " zip5             | 93510                \n",
      " physical_address | 1940 SHADOW CANYO... \n",
      " city             | ACTON                \n",
      " county           | LOS ANGELES          \n",
      " property_id      | 3056032042           \n",
      " sale_date        | 2017-08-07           \n",
      " property_type    | SINGLE FAMILY RES... \n",
      " sale_price       | 750007.0             \n",
      " num_units        | 1                    \n",
      " year_built       | 1991                 \n",
      " num_sales        | 4                    \n",
      " zip_num_schools  | 5                    \n",
      " city_num_schools | 5                    \n",
      " zip_st_ratio     | 22.85185185185185    \n",
      " city_st_ratio    | 22.85185185185185    \n",
      "-RECORD 7--------------------------------\n",
      " state            | CA                   \n",
      " zip5             | 93510                \n",
      " physical_address | 2051 TORTUGA ST      \n",
      " city             | ACTON                \n",
      " county           | LOS ANGELES          \n",
      " property_id      | 3056022047           \n",
      " sale_date        | 1985-01-31           \n",
      " property_type    | SINGLE FAMILY RES... \n",
      " sale_price       | 35000.0              \n",
      " num_units        | 1                    \n",
      " year_built       | 1985                 \n",
      " num_sales        | 2                    \n",
      " zip_num_schools  | 5                    \n",
      " city_num_schools | 5                    \n",
      " zip_st_ratio     | 22.85185185185185    \n",
      " city_st_ratio    | 22.85185185185185    \n",
      "-RECORD 8--------------------------------\n",
      " state            | CA                   \n",
      " zip5             | 93510                \n",
      " physical_address | 2051 TORTUGA ST      \n",
      " city             | ACTON                \n",
      " county           | LOS ANGELES          \n",
      " property_id      | 3056022047           \n",
      " sale_date        | 1985-08-08           \n",
      " property_type    | SINGLE FAMILY RES... \n",
      " sale_price       | 159001.0             \n",
      " num_units        | 1                    \n",
      " year_built       | 1985                 \n",
      " num_sales        | 2                    \n",
      " zip_num_schools  | 5                    \n",
      " city_num_schools | 5                    \n",
      " zip_st_ratio     | 22.85185185185185    \n",
      " city_st_ratio    | 22.85185185185185    \n",
      "-RECORD 9--------------------------------\n",
      " state            | CA                   \n",
      " zip5             | 93510                \n",
      " physical_address | 2796 SAND CREEK DR   \n",
      " city             | ACTON                \n",
      " county           | LOS ANGELES          \n",
      " property_id      | 3217026025           \n",
      " sale_date        | 1989-02-13           \n",
      " property_type    | SINGLE FAMILY RES... \n",
      " sale_price       | 115000.0             \n",
      " num_units        | 1                    \n",
      " year_built       | 1997                 \n",
      " num_sales        | 5                    \n",
      " zip_num_schools  | 5                    \n",
      " city_num_schools | 5                    \n",
      " zip_st_ratio     | 22.85185185185185    \n",
      " city_st_ratio    | 22.85185185185185    \n",
      "only showing top 10 rows\n",
      "\n"
     ]
    }
   ],
   "source": [
    "df.show(10, vertical=True)"
   ]
  },
  {
   "cell_type": "code",
   "execution_count": null,
   "metadata": {},
   "outputs": [],
   "source": [
    "#SECTION 3b - Housing CPI\n",
    "#Limitations, not specific to regions"
   ]
  },
  {
   "cell_type": "code",
   "execution_count": 28,
   "metadata": {},
   "outputs": [],
   "source": [
    "#CPI\n",
    "CPI = spark.read.csv(\"gs://group-8-msca-bucket/CPIHOSNS.csv\", inferSchema=True, header=True)"
   ]
  },
  {
   "cell_type": "code",
   "execution_count": null,
   "metadata": {},
   "outputs": [],
   "source": [
    "CPI.dtypes"
   ]
  },
  {
   "cell_type": "code",
   "execution_count": 29,
   "metadata": {
    "scrolled": true
   },
   "outputs": [
    {
     "name": "stdout",
     "output_type": "stream",
     "text": [
      "+-------------------+--------+-----+----+\n",
      "|               DATE|CPIHOSNS|month|year|\n",
      "+-------------------+--------+-----+----+\n",
      "|1967-01-01 00:00:00|    30.5|    1|1967|\n",
      "|1967-02-01 00:00:00|    30.5|    2|1967|\n",
      "|1967-03-01 00:00:00|    30.5|    3|1967|\n",
      "|1967-04-01 00:00:00|    30.6|    4|1967|\n",
      "|1967-05-01 00:00:00|    30.7|    5|1967|\n",
      "+-------------------+--------+-----+----+\n",
      "only showing top 5 rows\n",
      "\n"
     ]
    }
   ],
   "source": [
    "CPI = CPI.withColumn('month', F.month(col('DATE')))\n",
    "CPI = CPI.withColumn('year', F.year(col('DATE')))\n",
    "CPI.show(5)"
   ]
  },
  {
   "cell_type": "code",
   "execution_count": 30,
   "metadata": {},
   "outputs": [],
   "source": [
    "#join predictor to base table\n",
    "df = df.join(CPI, (F.month(df['sale_date']) == CPI['month']) & \\\n",
    "             (F.year(df['sale_date']) == CPI['year']), 'left').\\\n",
    "             select(df[\"*\"],CPI[\"CPIHOSNS\"])"
   ]
  },
  {
   "cell_type": "code",
   "execution_count": null,
   "metadata": {},
   "outputs": [],
   "source": [
    "df.show(10, vertical=True)"
   ]
  },
  {
   "cell_type": "code",
   "execution_count": null,
   "metadata": {},
   "outputs": [],
   "source": [
    "#SECTION 3c - ZVHI\n",
    "#Limitations, not all regions included, will leave as 0"
   ]
  },
  {
   "cell_type": "code",
   "execution_count": 33,
   "metadata": {},
   "outputs": [
    {
     "data": {
      "text/plain": [
       "[Row(Date='1/31/2000', RegionID=102001, SizeRank=0, RegionName='United States', RegionType='Country', StateName='0', ZVHI=127090),\n",
       " Row(Date='2/29/2000', RegionID=102001, SizeRank=0, RegionName='United States', RegionType='Country', StateName='0', ZVHI=127434),\n",
       " Row(Date='3/31/2000', RegionID=102001, SizeRank=0, RegionName='United States', RegionType='Country', StateName='0', ZVHI=127795),\n",
       " Row(Date='4/30/2000', RegionID=102001, SizeRank=0, RegionName='United States', RegionType='Country', StateName='0', ZVHI=128532),\n",
       " Row(Date='5/31/2000', RegionID=102001, SizeRank=0, RegionName='United States', RegionType='Country', StateName='0', ZVHI=129274)]"
      ]
     },
     "execution_count": 33,
     "metadata": {},
     "output_type": "execute_result"
    }
   ],
   "source": [
    "#ZVHI\n",
    "ZVHI = spark.read.csv(\"gs://group-8-msca-bucket/ZHVI_cln.csv\", inferSchema=True, header=True)\n",
    "ZVHI.head(5)"
   ]
  },
  {
   "cell_type": "code",
   "execution_count": 34,
   "metadata": {},
   "outputs": [
    {
     "data": {
      "text/plain": [
       "[Row(Date=datetime.date(2000, 1, 31)),\n",
       " Row(Date=datetime.date(2000, 2, 29)),\n",
       " Row(Date=datetime.date(2000, 3, 31)),\n",
       " Row(Date=datetime.date(2000, 4, 30)),\n",
       " Row(Date=datetime.date(2000, 5, 31))]"
      ]
     },
     "execution_count": 34,
     "metadata": {},
     "output_type": "execute_result"
    }
   ],
   "source": [
    "ZVHI = ZVHI.withColumn('Date', F.to_date(F.unix_timestamp('Date', 'MM/dd/yyyy').cast('timestamp')))\n",
    "ZVHI.select('Date').head(5)"
   ]
  },
  {
   "cell_type": "code",
   "execution_count": null,
   "metadata": {},
   "outputs": [],
   "source": [
    "ZVHI.dtypes\n",
    "#time series; could be useful to pivot, but seems redundant to the city index CSV"
   ]
  },
  {
   "cell_type": "code",
   "execution_count": 35,
   "metadata": {},
   "outputs": [],
   "source": [
    "#filter out nationwide records\n",
    "ZVHI = ZVHI.filter((ZVHI['RegionType'] == 'Msa') & (ZVHI['ZVHI'] > 0)) \\\n",
    "    .groupBy('StateName', 'Date').agg(F.mean(col('ZVHI')) \\\n",
    "    .alias('ZVHI')).orderBy('StateName', 'Date')"
   ]
  },
  {
   "cell_type": "code",
   "execution_count": 36,
   "metadata": {},
   "outputs": [],
   "source": [
    "#add month, year columns\n",
    "ZVHI = ZVHI.withColumn('month', F.month(col('DATE')))\n",
    "ZVHI = ZVHI.withColumn('year', F.year(col('DATE')))"
   ]
  },
  {
   "cell_type": "code",
   "execution_count": 37,
   "metadata": {},
   "outputs": [
    {
     "name": "stdout",
     "output_type": "stream",
     "text": [
      "-RECORD 0--------------------------------\n",
      " state            | CA                   \n",
      " zip5             | 93510                \n",
      " physical_address | 1629 MARY RD         \n",
      " city             | ACTON                \n",
      " county           | LOS ANGELES          \n",
      " property_id      | 3057028002           \n",
      " sale_date        | 2002-01-10           \n",
      " property_type    | SINGLE FAMILY RES... \n",
      " sale_price       | 7303573.0            \n",
      " num_units        | 1                    \n",
      " year_built       | 2003                 \n",
      " num_sales        | 3                    \n",
      " zip_num_schools  | 5                    \n",
      " city_num_schools | 5                    \n",
      " zip_st_ratio     | 22.85185185185185    \n",
      " city_st_ratio    | 22.85185185185185    \n",
      " CPIHOSNS         | 177.6                \n",
      " ZVHI             | 261132.8076923077    \n",
      "-RECORD 1--------------------------------\n",
      " state            | CA                   \n",
      " zip5             | 93510                \n",
      " physical_address | 1629 MARY RD         \n",
      " city             | ACTON                \n",
      " county           | LOS ANGELES          \n",
      " property_id      | 3057028002           \n",
      " sale_date        | 2003-09-17           \n",
      " property_type    | SINGLE FAMILY RES... \n",
      " sale_price       | 458000.0             \n",
      " num_units        | 1                    \n",
      " year_built       | 2003                 \n",
      " num_sales        | 3                    \n",
      " zip_num_schools  | 5                    \n",
      " city_num_schools | 5                    \n",
      " zip_st_ratio     | 22.85185185185185    \n",
      " city_st_ratio    | 22.85185185185185    \n",
      " CPIHOSNS         | 185.8                \n",
      " ZVHI             | 311771.39285714284   \n",
      "-RECORD 2--------------------------------\n",
      " state            | CA                   \n",
      " zip5             | 93510                \n",
      " physical_address | 1629 MARY RD         \n",
      " city             | ACTON                \n",
      " county           | LOS ANGELES          \n",
      " property_id      | 3057028002           \n",
      " sale_date        | 2012-08-02           \n",
      " property_type    | SINGLE FAMILY RES... \n",
      " sale_price       | 399003.0             \n",
      " num_units        | 1                    \n",
      " year_built       | 2003                 \n",
      " num_sales        | 3                    \n",
      " zip_num_schools  | 5                    \n",
      " city_num_schools | 5                    \n",
      " zip_st_ratio     | 22.85185185185185    \n",
      " city_st_ratio    | 22.85185185185185    \n",
      " CPIHOSNS         | 223.699              \n",
      " ZVHI             | 259345.24242424243   \n",
      "-RECORD 3--------------------------------\n",
      " state            | CA                   \n",
      " zip5             | 93510                \n",
      " physical_address | 1940 SHADOW CANYO... \n",
      " city             | ACTON                \n",
      " county           | LOS ANGELES          \n",
      " property_id      | 3056032042           \n",
      " sale_date        | 1991-06-21           \n",
      " property_type    | SINGLE FAMILY RES... \n",
      " sale_price       | 343000.0             \n",
      " num_units        | 1                    \n",
      " year_built       | 1991                 \n",
      " num_sales        | 4                    \n",
      " zip_num_schools  | 5                    \n",
      " city_num_schools | 5                    \n",
      " zip_st_ratio     | 22.85185185185185    \n",
      " city_st_ratio    | 22.85185185185185    \n",
      " CPIHOSNS         | 133.4                \n",
      " ZVHI             | 0.0                  \n",
      "-RECORD 4--------------------------------\n",
      " state            | CA                   \n",
      " zip5             | 93510                \n",
      " physical_address | 1940 SHADOW CANYO... \n",
      " city             | ACTON                \n",
      " county           | LOS ANGELES          \n",
      " property_id      | 3056032042           \n",
      " sale_date        | 1999-11-18           \n",
      " property_type    | SINGLE FAMILY RES... \n",
      " sale_price       | 425000.0             \n",
      " num_units        | 1                    \n",
      " year_built       | 1991                 \n",
      " num_sales        | 4                    \n",
      " zip_num_schools  | 5                    \n",
      " city_num_schools | 5                    \n",
      " zip_st_ratio     | 22.85185185185185    \n",
      " city_st_ratio    | 22.85185185185185    \n",
      " CPIHOSNS         | 164.9                \n",
      " ZVHI             | 0.0                  \n",
      "only showing top 5 rows\n",
      "\n"
     ]
    }
   ],
   "source": [
    "#ZVHI - join on city name\n",
    "df = df.join(ZVHI, \\\n",
    "             (F.month(df['sale_date']) == ZVHI['month']) & (F.year(df['sale_date']) == ZVHI['year']) \\\n",
    "             & (df['state'] == ZVHI['StateName']), 'left').select(df[\"*\"],ZVHI[\"ZVHI\"]).na.fill(0)\n",
    "df.show(5,vertical=True)"
   ]
  },
  {
   "cell_type": "code",
   "execution_count": null,
   "metadata": {},
   "outputs": [],
   "source": [
    "#SECTION 3d - Income"
   ]
  },
  {
   "cell_type": "code",
   "execution_count": 39,
   "metadata": {},
   "outputs": [],
   "source": [
    "#Income\n",
    "Income = spark.read.csv(\"gs://group-8-msca-bucket/Census_Income\", inferSchema=True, header=True)"
   ]
  },
  {
   "cell_type": "code",
   "execution_count": null,
   "metadata": {},
   "outputs": [],
   "source": [
    "Income.show(5, vertical = True)"
   ]
  },
  {
   "cell_type": "code",
   "execution_count": 40,
   "metadata": {},
   "outputs": [
    {
     "name": "stdout",
     "output_type": "stream",
     "text": [
      "-RECORD 0----------------------------------------------------\n",
      " Year                                          | 2014        \n",
      " Geographic Area Name                          | ZCTA5 00601 \n",
      " Households!!Estimate!!Median income (dollars) | 10833       \n",
      "-RECORD 1----------------------------------------------------\n",
      " Year                                          | 2014        \n",
      " Geographic Area Name                          | ZCTA5 00602 \n",
      " Households!!Estimate!!Median income (dollars) | 16353       \n",
      "-RECORD 2----------------------------------------------------\n",
      " Year                                          | 2014        \n",
      " Geographic Area Name                          | ZCTA5 00603 \n",
      " Households!!Estimate!!Median income (dollars) | 16323       \n",
      "-RECORD 3----------------------------------------------------\n",
      " Year                                          | 2014        \n",
      " Geographic Area Name                          | ZCTA5 00606 \n",
      " Households!!Estimate!!Median income (dollars) | 14138       \n",
      "-RECORD 4----------------------------------------------------\n",
      " Year                                          | 2014        \n",
      " Geographic Area Name                          | ZCTA5 00610 \n",
      " Households!!Estimate!!Median income (dollars) | 17265       \n",
      "only showing top 5 rows\n",
      "\n"
     ]
    }
   ],
   "source": [
    "#limit columns\n",
    "income_df = Income.select('Year', 'Geographic Area Name', 'Households!!Estimate!!Median income (dollars)')\n",
    "income_df.show(5, vertical=True)"
   ]
  },
  {
   "cell_type": "code",
   "execution_count": null,
   "metadata": {},
   "outputs": [],
   "source": [
    "#verify years\n",
    "income_df.select('Year').distinct().orderBy('year').show()"
   ]
  },
  {
   "cell_type": "code",
   "execution_count": 41,
   "metadata": {},
   "outputs": [
    {
     "name": "stdout",
     "output_type": "stream",
     "text": [
      "-RECORD 0----------------------------------------------------\n",
      " Year                                          | 2014        \n",
      " Geographic Area Name                          | ZCTA5 00601 \n",
      " Households!!Estimate!!Median income (dollars) | 10833       \n",
      " Zip                                           | 00601       \n",
      "-RECORD 1----------------------------------------------------\n",
      " Year                                          | 2014        \n",
      " Geographic Area Name                          | ZCTA5 00602 \n",
      " Households!!Estimate!!Median income (dollars) | 16353       \n",
      " Zip                                           | 00602       \n",
      "-RECORD 2----------------------------------------------------\n",
      " Year                                          | 2014        \n",
      " Geographic Area Name                          | ZCTA5 00603 \n",
      " Households!!Estimate!!Median income (dollars) | 16323       \n",
      " Zip                                           | 00603       \n",
      "-RECORD 3----------------------------------------------------\n",
      " Year                                          | 2014        \n",
      " Geographic Area Name                          | ZCTA5 00606 \n",
      " Households!!Estimate!!Median income (dollars) | 14138       \n",
      " Zip                                           | 00606       \n",
      "-RECORD 4----------------------------------------------------\n",
      " Year                                          | 2014        \n",
      " Geographic Area Name                          | ZCTA5 00610 \n",
      " Households!!Estimate!!Median income (dollars) | 17265       \n",
      " Zip                                           | 00610       \n",
      "only showing top 5 rows\n",
      "\n"
     ]
    }
   ],
   "source": [
    "#clean zip column\n",
    "income_df = income_df.withColumn('Zip', F.substring(col('Geographic Area Name'), -5, 5))\n",
    "income_df.show(5,vertical=True)"
   ]
  },
  {
   "cell_type": "code",
   "execution_count": 42,
   "metadata": {},
   "outputs": [
    {
     "name": "stdout",
     "output_type": "stream",
     "text": [
      "-RECORD 0-------------------------------------------------------------\n",
      " state                                         | CA                   \n",
      " zip5                                          | 93510                \n",
      " physical_address                              | 1629 MARY RD         \n",
      " city                                          | ACTON                \n",
      " county                                        | LOS ANGELES          \n",
      " property_id                                   | 3057028002           \n",
      " sale_date                                     | 2002-01-10           \n",
      " property_type                                 | SINGLE FAMILY RES... \n",
      " sale_price                                    | 7303573.0            \n",
      " num_units                                     | 1                    \n",
      " year_built                                    | 2003                 \n",
      " num_sales                                     | 3                    \n",
      " zip_num_schools                               | 5                    \n",
      " city_num_schools                              | 5                    \n",
      " zip_st_ratio                                  | 22.85185185185185    \n",
      " city_st_ratio                                 | 22.85185185185185    \n",
      " CPIHOSNS                                      | 177.6                \n",
      " ZVHI                                          | 261132.8076923077    \n",
      " Year                                          | null                 \n",
      " Geographic Area Name                          | null                 \n",
      " Households!!Estimate!!Median income (dollars) | null                 \n",
      " Zip                                           | null                 \n",
      "-RECORD 1-------------------------------------------------------------\n",
      " state                                         | CA                   \n",
      " zip5                                          | 93510                \n",
      " physical_address                              | 1629 MARY RD         \n",
      " city                                          | ACTON                \n",
      " county                                        | LOS ANGELES          \n",
      " property_id                                   | 3057028002           \n",
      " sale_date                                     | 2003-09-17           \n",
      " property_type                                 | SINGLE FAMILY RES... \n",
      " sale_price                                    | 458000.0             \n",
      " num_units                                     | 1                    \n",
      " year_built                                    | 2003                 \n",
      " num_sales                                     | 3                    \n",
      " zip_num_schools                               | 5                    \n",
      " city_num_schools                              | 5                    \n",
      " zip_st_ratio                                  | 22.85185185185185    \n",
      " city_st_ratio                                 | 22.85185185185185    \n",
      " CPIHOSNS                                      | 185.8                \n",
      " ZVHI                                          | 311771.39285714284   \n",
      " Year                                          | null                 \n",
      " Geographic Area Name                          | null                 \n",
      " Households!!Estimate!!Median income (dollars) | null                 \n",
      " Zip                                           | null                 \n",
      "-RECORD 2-------------------------------------------------------------\n",
      " state                                         | CA                   \n",
      " zip5                                          | 93510                \n",
      " physical_address                              | 1629 MARY RD         \n",
      " city                                          | ACTON                \n",
      " county                                        | LOS ANGELES          \n",
      " property_id                                   | 3057028002           \n",
      " sale_date                                     | 2012-08-02           \n",
      " property_type                                 | SINGLE FAMILY RES... \n",
      " sale_price                                    | 399003.0             \n",
      " num_units                                     | 1                    \n",
      " year_built                                    | 2003                 \n",
      " num_sales                                     | 3                    \n",
      " zip_num_schools                               | 5                    \n",
      " city_num_schools                              | 5                    \n",
      " zip_st_ratio                                  | 22.85185185185185    \n",
      " city_st_ratio                                 | 22.85185185185185    \n",
      " CPIHOSNS                                      | 223.699              \n",
      " ZVHI                                          | 259345.24242424243   \n",
      " Year                                          | 2012                 \n",
      " Geographic Area Name                          | ZCTA5 93510          \n",
      " Households!!Estimate!!Median income (dollars) | 90281                \n",
      " Zip                                           | 93510                \n",
      "-RECORD 3-------------------------------------------------------------\n",
      " state                                         | CA                   \n",
      " zip5                                          | 93510                \n",
      " physical_address                              | 1940 SHADOW CANYO... \n",
      " city                                          | ACTON                \n",
      " county                                        | LOS ANGELES          \n",
      " property_id                                   | 3056032042           \n",
      " sale_date                                     | 1991-06-21           \n",
      " property_type                                 | SINGLE FAMILY RES... \n",
      " sale_price                                    | 343000.0             \n",
      " num_units                                     | 1                    \n",
      " year_built                                    | 1991                 \n",
      " num_sales                                     | 4                    \n",
      " zip_num_schools                               | 5                    \n",
      " city_num_schools                              | 5                    \n",
      " zip_st_ratio                                  | 22.85185185185185    \n",
      " city_st_ratio                                 | 22.85185185185185    \n",
      " CPIHOSNS                                      | 133.4                \n",
      " ZVHI                                          | 0.0                  \n",
      " Year                                          | null                 \n",
      " Geographic Area Name                          | null                 \n",
      " Households!!Estimate!!Median income (dollars) | null                 \n",
      " Zip                                           | null                 \n",
      "-RECORD 4-------------------------------------------------------------\n",
      " state                                         | CA                   \n",
      " zip5                                          | 93510                \n",
      " physical_address                              | 1940 SHADOW CANYO... \n",
      " city                                          | ACTON                \n",
      " county                                        | LOS ANGELES          \n",
      " property_id                                   | 3056032042           \n",
      " sale_date                                     | 1999-11-18           \n",
      " property_type                                 | SINGLE FAMILY RES... \n",
      " sale_price                                    | 425000.0             \n",
      " num_units                                     | 1                    \n",
      " year_built                                    | 1991                 \n",
      " num_sales                                     | 4                    \n",
      " zip_num_schools                               | 5                    \n",
      " city_num_schools                              | 5                    \n",
      " zip_st_ratio                                  | 22.85185185185185    \n",
      " city_st_ratio                                 | 22.85185185185185    \n",
      " CPIHOSNS                                      | 164.9                \n",
      " ZVHI                                          | 0.0                  \n",
      " Year                                          | null                 \n",
      " Geographic Area Name                          | null                 \n",
      " Households!!Estimate!!Median income (dollars) | null                 \n",
      " Zip                                           | null                 \n",
      "only showing top 5 rows\n",
      "\n"
     ]
    }
   ],
   "source": [
    "#Income - join on city name\n",
    "df = df.join(income_df, \\\n",
    "             (F.year(df['sale_date']) == income_df['Year']) & (df['zip5'] == income_df['Zip']), 'left')\n",
    "df.show(5,vertical=True)"
   ]
  },
  {
   "cell_type": "code",
   "execution_count": 43,
   "metadata": {
    "scrolled": true
   },
   "outputs": [
    {
     "name": "stdout",
     "output_type": "stream",
     "text": [
      "-RECORD 0---------------\n",
      " Region | United States \n",
      " Year   | 1969          \n",
      " Income | 8486          \n",
      "-RECORD 1---------------\n",
      " Region | United States \n",
      " Year   | 1970          \n",
      " Income | 8486          \n",
      "-RECORD 2---------------\n",
      " Region | United States \n",
      " Year   | 1971          \n",
      " Income | 8486          \n",
      "-RECORD 3---------------\n",
      " Region | United States \n",
      " Year   | 1972          \n",
      " Income | 8486          \n",
      "-RECORD 4---------------\n",
      " Region | United States \n",
      " Year   | 1973          \n",
      " Income | 8486          \n",
      "only showing top 5 rows\n",
      "\n"
     ]
    }
   ],
   "source": [
    "#Income\n",
    "pre_2000 = spark.read.csv(\"gs://group-8-msca-bucket/county_pre_2000_data_cln.csv\", header=True)\n",
    "pre_2000.show(5, vertical=True)"
   ]
  },
  {
   "cell_type": "code",
   "execution_count": 44,
   "metadata": {},
   "outputs": [
    {
     "name": "stdout",
     "output_type": "stream",
     "text": [
      "+------------------+---------+------+-----------+\n",
      "|            Region|Year_2000|Income|County_2000|\n",
      "+------------------+---------+------+-----------+\n",
      "|Autauga County, AL|     1969|  6808|    AUTAUGA|\n",
      "|Autauga County, AL|     1970|  6808|    AUTAUGA|\n",
      "|Autauga County, AL|     1971|  6808|    AUTAUGA|\n",
      "|Autauga County, AL|     1972|  6808|    AUTAUGA|\n",
      "|Autauga County, AL|     1973|  6808|    AUTAUGA|\n",
      "+------------------+---------+------+-----------+\n",
      "only showing top 5 rows\n",
      "\n"
     ]
    }
   ],
   "source": [
    "#prepare pre 2000 data\n",
    "pre_2000 = pre_2000.filter(col('Region').contains('County'))\n",
    "pre_2000 = pre_2000.withColumn('County_2000', F.upper(F.substring_index(col('Region'), ' County', 1))).withColumnRenamed('Year', 'Year_2000')\n",
    "pre_2000.show(5)"
   ]
  },
  {
   "cell_type": "code",
   "execution_count": 45,
   "metadata": {},
   "outputs": [
    {
     "name": "stdout",
     "output_type": "stream",
     "text": [
      "-RECORD 0-------------------------------------------------------------\n",
      " state                                         | CA                   \n",
      " zip5                                          | 93510                \n",
      " physical_address                              | 1629 MARY RD         \n",
      " city                                          | ACTON                \n",
      " county                                        | LOS ANGELES          \n",
      " property_id                                   | 3057028002           \n",
      " sale_date                                     | 2002-01-10           \n",
      " property_type                                 | SINGLE FAMILY RES... \n",
      " sale_price                                    | 7303573.0            \n",
      " num_units                                     | 1                    \n",
      " year_built                                    | 2003                 \n",
      " num_sales                                     | 3                    \n",
      " zip_num_schools                               | 5                    \n",
      " city_num_schools                              | 5                    \n",
      " zip_st_ratio                                  | 22.85185185185185    \n",
      " city_st_ratio                                 | 22.85185185185185    \n",
      " CPIHOSNS                                      | 177.6                \n",
      " ZVHI                                          | 261132.8076923077    \n",
      " Year                                          | null                 \n",
      " Geographic Area Name                          | null                 \n",
      " Households!!Estimate!!Median income (dollars) | null                 \n",
      " Zip                                           | null                 \n",
      " Income                                        | 42189                \n",
      "-RECORD 1-------------------------------------------------------------\n",
      " state                                         | CA                   \n",
      " zip5                                          | 93510                \n",
      " physical_address                              | 1629 MARY RD         \n",
      " city                                          | ACTON                \n",
      " county                                        | LOS ANGELES          \n",
      " property_id                                   | 3057028002           \n",
      " sale_date                                     | 2003-09-17           \n",
      " property_type                                 | SINGLE FAMILY RES... \n",
      " sale_price                                    | 458000.0             \n",
      " num_units                                     | 1                    \n",
      " year_built                                    | 2003                 \n",
      " num_sales                                     | 3                    \n",
      " zip_num_schools                               | 5                    \n",
      " city_num_schools                              | 5                    \n",
      " zip_st_ratio                                  | 22.85185185185185    \n",
      " city_st_ratio                                 | 22.85185185185185    \n",
      " CPIHOSNS                                      | 185.8                \n",
      " ZVHI                                          | 311771.39285714284   \n",
      " Year                                          | null                 \n",
      " Geographic Area Name                          | null                 \n",
      " Households!!Estimate!!Median income (dollars) | null                 \n",
      " Zip                                           | null                 \n",
      " Income                                        | 42189                \n",
      "-RECORD 2-------------------------------------------------------------\n",
      " state                                         | CA                   \n",
      " zip5                                          | 93510                \n",
      " physical_address                              | 1629 MARY RD         \n",
      " city                                          | ACTON                \n",
      " county                                        | LOS ANGELES          \n",
      " property_id                                   | 3057028002           \n",
      " sale_date                                     | 2012-08-02           \n",
      " property_type                                 | SINGLE FAMILY RES... \n",
      " sale_price                                    | 399003.0             \n",
      " num_units                                     | 1                    \n",
      " year_built                                    | 2003                 \n",
      " num_sales                                     | 3                    \n",
      " zip_num_schools                               | 5                    \n",
      " city_num_schools                              | 5                    \n",
      " zip_st_ratio                                  | 22.85185185185185    \n",
      " city_st_ratio                                 | 22.85185185185185    \n",
      " CPIHOSNS                                      | 223.699              \n",
      " ZVHI                                          | 259345.24242424243   \n",
      " Year                                          | 2012                 \n",
      " Geographic Area Name                          | ZCTA5 93510          \n",
      " Households!!Estimate!!Median income (dollars) | 90281                \n",
      " Zip                                           | 93510                \n",
      " Income                                        | null                 \n",
      "-RECORD 3-------------------------------------------------------------\n",
      " state                                         | CA                   \n",
      " zip5                                          | 93510                \n",
      " physical_address                              | 1940 SHADOW CANYO... \n",
      " city                                          | ACTON                \n",
      " county                                        | LOS ANGELES          \n",
      " property_id                                   | 3056032042           \n",
      " sale_date                                     | 1991-06-21           \n",
      " property_type                                 | SINGLE FAMILY RES... \n",
      " sale_price                                    | 343000.0             \n",
      " num_units                                     | 1                    \n",
      " year_built                                    | 1991                 \n",
      " num_sales                                     | 4                    \n",
      " zip_num_schools                               | 5                    \n",
      " city_num_schools                              | 5                    \n",
      " zip_st_ratio                                  | 22.85185185185185    \n",
      " city_st_ratio                                 | 22.85185185185185    \n",
      " CPIHOSNS                                      | 133.4                \n",
      " ZVHI                                          | 0.0                  \n",
      " Year                                          | null                 \n",
      " Geographic Area Name                          | null                 \n",
      " Households!!Estimate!!Median income (dollars) | null                 \n",
      " Zip                                           | null                 \n",
      " Income                                        | 34965                \n",
      "-RECORD 4-------------------------------------------------------------\n",
      " state                                         | CA                   \n",
      " zip5                                          | 93510                \n",
      " physical_address                              | 1940 SHADOW CANYO... \n",
      " city                                          | ACTON                \n",
      " county                                        | LOS ANGELES          \n",
      " property_id                                   | 3056032042           \n",
      " sale_date                                     | 1999-11-18           \n",
      " property_type                                 | SINGLE FAMILY RES... \n",
      " sale_price                                    | 425000.0             \n",
      " num_units                                     | 1                    \n",
      " year_built                                    | 1991                 \n",
      " num_sales                                     | 4                    \n",
      " zip_num_schools                               | 5                    \n",
      " city_num_schools                              | 5                    \n",
      " zip_st_ratio                                  | 22.85185185185185    \n",
      " city_st_ratio                                 | 22.85185185185185    \n",
      " CPIHOSNS                                      | 164.9                \n",
      " ZVHI                                          | 0.0                  \n",
      " Year                                          | null                 \n",
      " Geographic Area Name                          | null                 \n",
      " Households!!Estimate!!Median income (dollars) | null                 \n",
      " Zip                                           | null                 \n",
      " Income                                        | 42189                \n",
      "only showing top 5 rows\n",
      "\n"
     ]
    }
   ],
   "source": [
    "#pre_2000 - join on county name\n",
    "df.drop('Year')\n",
    "df = df.join(pre_2000, \\\n",
    "             (F.year(df['sale_date']) == pre_2000['Year_2000']) \\\n",
    "             & (F.upper(df['county']) == F.upper(pre_2000['County_2000'])), 'left').select(df[\"*\"],pre_2000[\"Income\"]).na.fill(0)\n",
    "df.show(5,vertical=True)"
   ]
  },
  {
   "cell_type": "code",
   "execution_count": 46,
   "metadata": {},
   "outputs": [],
   "source": [
    "#create final income field combining the datasets\n",
    "df = df.withColumn('Median_Income', F.when(F.year(col('sale_date')) < 2011, col('Income')).otherwise(col('Households!!Estimate!!Median income (dollars)')))"
   ]
  },
  {
   "cell_type": "code",
   "execution_count": 47,
   "metadata": {},
   "outputs": [
    {
     "name": "stdout",
     "output_type": "stream",
     "text": [
      "-RECORD 0--------------------------------\n",
      " state            | CA                   \n",
      " zip5             | 93510                \n",
      " physical_address | 1629 MARY RD         \n",
      " city             | ACTON                \n",
      " property_id      | 3057028002           \n",
      " sale_date        | 2002-01-10           \n",
      " property_type    | SINGLE FAMILY RES... \n",
      " sale_price       | 7303573.0            \n",
      " num_units        | 1                    \n",
      " year_built       | 2003                 \n",
      " num_sales        | 3                    \n",
      " zip_num_schools  | 5                    \n",
      " city_num_schools | 5                    \n",
      " zip_st_ratio     | 22.85185185185185    \n",
      " city_st_ratio    | 22.85185185185185    \n",
      " CPIHOSNS         | 177.6                \n",
      " ZVHI             | 261132.8076923077    \n",
      " Median_Income    | 42189                \n",
      "-RECORD 1--------------------------------\n",
      " state            | CA                   \n",
      " zip5             | 93510                \n",
      " physical_address | 1629 MARY RD         \n",
      " city             | ACTON                \n",
      " property_id      | 3057028002           \n",
      " sale_date        | 2003-09-17           \n",
      " property_type    | SINGLE FAMILY RES... \n",
      " sale_price       | 458000.0             \n",
      " num_units        | 1                    \n",
      " year_built       | 2003                 \n",
      " num_sales        | 3                    \n",
      " zip_num_schools  | 5                    \n",
      " city_num_schools | 5                    \n",
      " zip_st_ratio     | 22.85185185185185    \n",
      " city_st_ratio    | 22.85185185185185    \n",
      " CPIHOSNS         | 185.8                \n",
      " ZVHI             | 311771.39285714284   \n",
      " Median_Income    | 42189                \n",
      "-RECORD 2--------------------------------\n",
      " state            | CA                   \n",
      " zip5             | 93510                \n",
      " physical_address | 1629 MARY RD         \n",
      " city             | ACTON                \n",
      " property_id      | 3057028002           \n",
      " sale_date        | 2012-08-02           \n",
      " property_type    | SINGLE FAMILY RES... \n",
      " sale_price       | 399003.0             \n",
      " num_units        | 1                    \n",
      " year_built       | 2003                 \n",
      " num_sales        | 3                    \n",
      " zip_num_schools  | 5                    \n",
      " city_num_schools | 5                    \n",
      " zip_st_ratio     | 22.85185185185185    \n",
      " city_st_ratio    | 22.85185185185185    \n",
      " CPIHOSNS         | 223.699              \n",
      " ZVHI             | 259345.24242424243   \n",
      " Median_Income    | 90281                \n",
      "-RECORD 3--------------------------------\n",
      " state            | CA                   \n",
      " zip5             | 93510                \n",
      " physical_address | 1940 SHADOW CANYO... \n",
      " city             | ACTON                \n",
      " property_id      | 3056032042           \n",
      " sale_date        | 1991-06-21           \n",
      " property_type    | SINGLE FAMILY RES... \n",
      " sale_price       | 343000.0             \n",
      " num_units        | 1                    \n",
      " year_built       | 1991                 \n",
      " num_sales        | 4                    \n",
      " zip_num_schools  | 5                    \n",
      " city_num_schools | 5                    \n",
      " zip_st_ratio     | 22.85185185185185    \n",
      " city_st_ratio    | 22.85185185185185    \n",
      " CPIHOSNS         | 133.4                \n",
      " ZVHI             | 0.0                  \n",
      " Median_Income    | 34965                \n",
      "-RECORD 4--------------------------------\n",
      " state            | CA                   \n",
      " zip5             | 93510                \n",
      " physical_address | 1940 SHADOW CANYO... \n",
      " city             | ACTON                \n",
      " property_id      | 3056032042           \n",
      " sale_date        | 1999-11-18           \n",
      " property_type    | SINGLE FAMILY RES... \n",
      " sale_price       | 425000.0             \n",
      " num_units        | 1                    \n",
      " year_built       | 1991                 \n",
      " num_sales        | 4                    \n",
      " zip_num_schools  | 5                    \n",
      " city_num_schools | 5                    \n",
      " zip_st_ratio     | 22.85185185185185    \n",
      " city_st_ratio    | 22.85185185185185    \n",
      " CPIHOSNS         | 164.9                \n",
      " ZVHI             | 0.0                  \n",
      " Median_Income    | 42189                \n",
      "only showing top 5 rows\n",
      "\n"
     ]
    }
   ],
   "source": [
    "#drop extra columns\n",
    "df = df.drop('StateName', 'Date', 'Year', 'Geographic Area Name', 'Households!!Estimate!!Median income (dollars)','Zip',\\\n",
    "            'Region', 'County', 'Income','month')\n",
    "df.show(5,vertical=True)"
   ]
  },
  {
   "cell_type": "code",
   "execution_count": 48,
   "metadata": {},
   "outputs": [],
   "source": [
    "df = df.withColumn('Median_Income', F.regexp_replace('Median_Income', ',', '').cast('decimal(12,2)'))"
   ]
  },
  {
   "cell_type": "code",
   "execution_count": null,
   "metadata": {},
   "outputs": [],
   "source": [
    "#SECTION 3e - Hospitals"
   ]
  },
  {
   "cell_type": "code",
   "execution_count": null,
   "metadata": {},
   "outputs": [],
   "source": [
    "hospital_ratings = spark.read.csv('/user/efischbein/data/group_project/hospital/Hospital_General_Information.csv', header = True)"
   ]
  },
  {
   "cell_type": "code",
   "execution_count": null,
   "metadata": {},
   "outputs": [],
   "source": [
    "hospital = spark.read.csv('/user/efischbein/data/group_project/hospital/hospitals.csv', header = True)"
   ]
  },
  {
   "cell_type": "code",
   "execution_count": null,
   "metadata": {},
   "outputs": [],
   "source": [
    "crime = spark.read.csv('/user/efischbein/data/group_project/crime_data_w_population_and_crime_rate.csv',header = True)"
   ]
  },
  {
   "cell_type": "code",
   "execution_count": null,
   "metadata": {},
   "outputs": [],
   "source": [
    "CountyCrossWalk_Zillow = spark.read.csv('/user/efischbein/data/group_project/zillow_econ/CountyCrossWalk_Zillow.csv',header = True)"
   ]
  },
  {
   "cell_type": "code",
   "execution_count": null,
   "metadata": {},
   "outputs": [],
   "source": [
    "#SECTION 3f - Hospitals"
   ]
  },
  {
   "cell_type": "code",
   "execution_count": null,
   "metadata": {},
   "outputs": [],
   "source": [
    "hospital_ratings = hospital_ratings.select('Hospital Name', 'Hospital overall rating')"
   ]
  },
  {
   "cell_type": "code",
   "execution_count": null,
   "metadata": {},
   "outputs": [],
   "source": [
    "hospital_ratings = hospital_ratings.dropna()"
   ]
  },
  {
   "cell_type": "code",
   "execution_count": null,
   "metadata": {},
   "outputs": [],
   "source": [
    "hospital_ratings = hospital_ratings.where(hospital_ratings['Hospital overall rating'] != 'Not Available')"
   ]
  },
  {
   "cell_type": "code",
   "execution_count": null,
   "metadata": {},
   "outputs": [],
   "source": [
    "#fillna need the same data type, if it is string and fill integer 0 will be wrong.  have to fill '0'"
   ]
  },
  {
   "cell_type": "code",
   "execution_count": null,
   "metadata": {},
   "outputs": [],
   "source": [
    "#RENAME THE COLUMN FOR JOIN \n",
    "hospital = hospital.withColumn('Hospital Name',hospital.NAME)"
   ]
  },
  {
   "cell_type": "code",
   "execution_count": null,
   "metadata": {},
   "outputs": [],
   "source": [
    "hospitals_with_ratings =hospital.join(hospital_ratings,['Hospital Name'],'left').na.fill('0',subset = ['Hospital overall rating'])"
   ]
  },
  {
   "cell_type": "code",
   "execution_count": null,
   "metadata": {},
   "outputs": [],
   "source": [
    "hospital_final = hospitals_with_ratings.groupBy(['ZIP', 'CITY','STATE','COUNTY','TYPE','Hospital overall rating','OWNER','STATUS']).count().orderBy('count',ascending = [0])"
   ]
  },
  {
   "cell_type": "code",
   "execution_count": null,
   "metadata": {},
   "outputs": [],
   "source": [
    "hos1 = hospital_final.groupBy('ZIP').agg(F.sum('count'),F.avg('Hospital overall rating')).orderBy('sum(count)', ascending = [0])"
   ]
  },
  {
   "cell_type": "code",
   "execution_count": null,
   "metadata": {},
   "outputs": [],
   "source": [
    "hos2 = hospital_final.groupBy('ZIP').pivot('TYPE').agg(F.sum('count').alias(\"CNT\")\n",
    "                                                    ,F.avg('Hospital overall rating').alias('RATE'))\n",
    "\n",
    "hos2 = hos2.na.fill(0)\n",
    "hos3 = hospital_final.groupBy('ZIP').pivot('OWNER').agg(F.sum('count').alias(\"CNT\")\n",
    "                                                    ,F.avg('Hospital overall rating').alias('RATE'))\n",
    "\n",
    "\n",
    "hos3 = hos3.na.fill(0)"
   ]
  },
  {
   "cell_type": "code",
   "execution_count": null,
   "metadata": {},
   "outputs": [],
   "source": [
    "hos3 = hos3.drop('REHABILITATION_CNT','REHABILITATION_RATE')"
   ]
  },
  {
   "cell_type": "code",
   "execution_count": null,
   "metadata": {},
   "outputs": [],
   "source": [
    "#hospitals_with_ratings =hospital.join(hospital_ratings,['Hospital Name'],'left').na.fill('0',subset = ['Hospital overall rating'])\n",
    "hos1 = hos1.join(hos2,['ZIP'], 'left')\n",
    "hos1 = hos1.join(hos3,['ZIP'], 'left')\n"
   ]
  },
  {
   "cell_type": "code",
   "execution_count": null,
   "metadata": {},
   "outputs": [],
   "source": [
    "hos1  = hos1.withColumn('ZIP5', hos1.ZIP).drop('ZIP')"
   ]
  },
  {
   "cell_type": "code",
   "execution_count": null,
   "metadata": {},
   "outputs": [],
   "source": [
    "hos1 = hos1.drop('null','NOT AVAILABLE')"
   ]
  },
  {
   "cell_type": "code",
   "execution_count": null,
   "metadata": {},
   "outputs": [],
   "source": [
    "### Join dat"
   ]
  },
  {
   "cell_type": "code",
   "execution_count": null,
   "metadata": {},
   "outputs": [],
   "source": [
    "df = df.join(hos1, 'ZIP5', 'left').na.fill(0)"
   ]
  },
  {
   "cell_type": "code",
   "execution_count": null,
   "metadata": {},
   "outputs": [],
   "source": [
    "#change the data type \n",
    "hospitals_with_ratings = hospitals_with_ratings.withColumn('Hospital overall rating', hospitals_with_ratings['Hospital overall rating'].cast('int'))"
   ]
  },
  {
   "cell_type": "code",
   "execution_count": null,
   "metadata": {},
   "outputs": [],
   "source": [
    "#SECTION 3f - Crime"
   ]
  },
  {
   "cell_type": "code",
   "execution_count": null,
   "metadata": {},
   "outputs": [],
   "source": [
    "state = crime.withColumn('ColCommasRemoved',F.split(crime.county_name,',')).select('county_name',F.rtrim(F.col('ColCommasRemoved')[1]))"
   ]
  },
  {
   "cell_type": "code",
   "execution_count": null,
   "metadata": {},
   "outputs": [],
   "source": [
    "state = state.withColumn('state',state['rtrim(ColCommasRemoved[1])']).drop('rtrim(ColCommasRemoved[1])')"
   ]
  },
  {
   "cell_type": "code",
   "execution_count": null,
   "metadata": {},
   "outputs": [],
   "source": [
    "crime = crime.join(state, 'county_name','left')"
   ]
  },
  {
   "cell_type": "code",
   "execution_count": null,
   "metadata": {},
   "outputs": [],
   "source": [
    "#Crime_rates[\"FIPS\"] = Crime_rates[\"FIPS\"].astype(\"int64\")"
   ]
  },
  {
   "cell_type": "code",
   "execution_count": null,
   "metadata": {},
   "outputs": [],
   "source": [
    "CountyCrossWalk_Zillow = CountyCrossWalk_Zillow.withColumn('FIPS_ST',CountyCrossWalk_Zillow['StateFIPS'])\\\n",
    "                                                .withColumn('FIPS_CTY',CountyCrossWalk_Zillow['CountyFIPS'])"
   ]
  },
  {
   "cell_type": "code",
   "execution_count": null,
   "metadata": {},
   "outputs": [],
   "source": [
    "crime = crime.join(CountyCrossWalk_Zillow,['FIPS_ST','FIPS_CTY'],'left')"
   ]
  },
  {
   "cell_type": "code",
   "execution_count": null,
   "metadata": {},
   "outputs": [],
   "source": [
    "crime = crime.select(['CountyName','state','crime_rate_per_100000'\n",
    "        ,'MURDER','RAPE','ROBBERY','AGASSLT','BURGLRY','LARCENY','MVTHEFT','ARSON','population'])\n",
    "crime = crime.dropna()"
   ]
  },
  {
   "cell_type": "code",
   "execution_count": null,
   "metadata": {},
   "outputs": [],
   "source": [
    "crime = crime.groupBy('state').agg(F.count('MURDER'),F.count('RAPE'),F.count('ROBBERY')\n",
    "                            ,F.count('AGASSLT'),F.count('BURGLRY'),F.count('MVTHEFT'),F.count('ARSON')\n",
    "                            ,F.sum('population')\n",
    "                            ,F.avg('crime_rate_per_100000'))"
   ]
  },
  {
   "cell_type": "code",
   "execution_count": null,
   "metadata": {},
   "outputs": [],
   "source": [
    "print(crime.count(), len(crime.columns))"
   ]
  },
  {
   "cell_type": "code",
   "execution_count": null,
   "metadata": {},
   "outputs": [],
   "source": [
    "df = df.join(crime,'state','left').na.fill(0)"
   ]
  },
  {
   "cell_type": "code",
   "execution_count": null,
   "metadata": {},
   "outputs": [],
   "source": [
    "df.show(5,vertical=True)"
   ]
  },
  {
   "cell_type": "code",
   "execution_count": 85,
   "metadata": {},
   "outputs": [
    {
     "data": {
      "text/plain": [
       "[('city', 'string'),\n",
       " ('state', 'string'),\n",
       " ('physical_address', 'string'),\n",
       " ('zip5', 'string'),\n",
       " ('property_type', 'string'),\n",
       " ('rank', 'int'),\n",
       " ('property_id', 'string'),\n",
       " ('sale_date', 'date'),\n",
       " ('sale_price', 'float'),\n",
       " ('num_units', 'string'),\n",
       " ('year_built', 'string'),\n",
       " ('num_sales', 'bigint'),\n",
       " ('zip_num_schools', 'bigint'),\n",
       " ('city_num_schools', 'bigint'),\n",
       " ('zip_st_ratio', 'double'),\n",
       " ('city_st_ratio', 'double'),\n",
       " ('CPIHOSNS', 'double'),\n",
       " ('ZVHI', 'double'),\n",
       " ('Median_Income', 'decimal(12,2)'),\n",
       " ('prev_sale_date', 'date'),\n",
       " ('prev_sale_price', 'float')]"
      ]
     },
     "execution_count": 85,
     "metadata": {},
     "output_type": "execute_result"
    }
   ],
   "source": [
    "df.dtypes"
   ]
  },
  {
   "cell_type": "code",
   "execution_count": null,
   "metadata": {},
   "outputs": [],
   "source": [
    "#Section 4 - Enter historical data for each sale"
   ]
  },
  {
   "cell_type": "code",
   "execution_count": 49,
   "metadata": {},
   "outputs": [],
   "source": [
    "from pyspark.sql.functions import *\n",
    "from pyspark.sql.window import Window"
   ]
  },
  {
   "cell_type": "code",
   "execution_count": 50,
   "metadata": {},
   "outputs": [
    {
     "name": "stdout",
     "output_type": "stream",
     "text": [
      "-RECORD 0--------------------------------\n",
      " state            | CA                   \n",
      " zip5             | 93510                \n",
      " physical_address | 1038 ENCHANTED HI... \n",
      " city             | ACTON                \n",
      " property_id      | 3056026028           \n",
      " sale_date        | 1990-04-27           \n",
      " property_type    | SINGLE FAMILY RES... \n",
      " sale_price       | 221000.0             \n",
      " num_units        | 1                    \n",
      " year_built       | 1988                 \n",
      " num_sales        | 3                    \n",
      " zip_num_schools  | 5                    \n",
      " city_num_schools | 5                    \n",
      " zip_st_ratio     | 22.85185185185185    \n",
      " city_st_ratio    | 22.85185185185185    \n",
      " CPIHOSNS         | 126.8                \n",
      " ZVHI             | 0.0                  \n",
      " Median_Income    | 34965.00             \n",
      " rank             | 1                    \n",
      "-RECORD 1--------------------------------\n",
      " state            | CA                   \n",
      " zip5             | 93510                \n",
      " physical_address | 1038 ENCHANTED HI... \n",
      " city             | ACTON                \n",
      " property_id      | 3056026028           \n",
      " sale_date        | 1996-07-03           \n",
      " property_type    | SINGLE FAMILY RES... \n",
      " sale_price       | 180000.0             \n",
      " num_units        | 1                    \n",
      " year_built       | 1988                 \n",
      " num_sales        | 3                    \n",
      " zip_num_schools  | 5                    \n",
      " city_num_schools | 5                    \n",
      " zip_st_ratio     | 22.85185185185185    \n",
      " city_st_ratio    | 22.85185185185185    \n",
      " CPIHOSNS         | 153.6                \n",
      " ZVHI             | 0.0                  \n",
      " Median_Income    | 34965.00             \n",
      " rank             | 2                    \n",
      "-RECORD 2--------------------------------\n",
      " state            | CA                   \n",
      " zip5             | 93510                \n",
      " physical_address | 1038 ENCHANTED HI... \n",
      " city             | ACTON                \n",
      " property_id      | 3056026028           \n",
      " sale_date        | 1998-11-04           \n",
      " property_type    | SINGLE FAMILY RES... \n",
      " sale_price       | 165500.0             \n",
      " num_units        | 1                    \n",
      " year_built       | 1988                 \n",
      " num_sales        | 3                    \n",
      " zip_num_schools  | 5                    \n",
      " city_num_schools | 5                    \n",
      " zip_st_ratio     | 22.85185185185185    \n",
      " city_st_ratio    | 22.85185185185185    \n",
      " CPIHOSNS         | 161.3                \n",
      " ZVHI             | 0.0                  \n",
      " Median_Income    | 34965.00             \n",
      " rank             | 3                    \n",
      "-RECORD 3--------------------------------\n",
      " state            | CA                   \n",
      " zip5             | 93510                \n",
      " physical_address | 1045 ENCHANTED HI... \n",
      " city             | ACTON                \n",
      " property_id      | 3056026029           \n",
      " sale_date        | 1998-12-01           \n",
      " property_type    | SINGLE FAMILY RES... \n",
      " sale_price       | 78000.0              \n",
      " num_units        | 1                    \n",
      " year_built       | 1963                 \n",
      " num_sales        | 3                    \n",
      " zip_num_schools  | 5                    \n",
      " city_num_schools | 5                    \n",
      " zip_st_ratio     | 22.85185185185185    \n",
      " city_st_ratio    | 22.85185185185185    \n",
      " CPIHOSNS         | 161.3                \n",
      " ZVHI             | 0.0                  \n",
      " Median_Income    | 34965.00             \n",
      " rank             | 1                    \n",
      "-RECORD 4--------------------------------\n",
      " state            | CA                   \n",
      " zip5             | 93510                \n",
      " physical_address | 1045 ENCHANTED HI... \n",
      " city             | ACTON                \n",
      " property_id      | 3056026029           \n",
      " sale_date        | 2004-10-05           \n",
      " property_type    | SINGLE FAMILY RES... \n",
      " sale_price       | 123000.0             \n",
      " num_units        | 1                    \n",
      " year_built       | 1963                 \n",
      " num_sales        | 3                    \n",
      " zip_num_schools  | 5                    \n",
      " city_num_schools | 5                    \n",
      " zip_st_ratio     | 22.85185185185185    \n",
      " city_st_ratio    | 22.85185185185185    \n",
      " CPIHOSNS         | 191.0                \n",
      " ZVHI             | 375768.6551724138    \n",
      " Median_Income    | 42189.00             \n",
      " rank             | 2                    \n",
      "only showing top 5 rows\n",
      "\n"
     ]
    }
   ],
   "source": [
    "#add purchase ranking to df\n",
    "df = df.withColumn(\"rank\", dense_rank().\\\n",
    "                        over(Window.partitionBy('city','state', 'physical_address', 'zip5', 'property_type').\\\n",
    "                        orderBy('sale_date')))\n",
    "df.orderBy(['city','state', 'physical_address', 'zip5', 'property_type','sale_date']).show(5, vertical=True)"
   ]
  },
  {
   "cell_type": "code",
   "execution_count": 51,
   "metadata": {},
   "outputs": [
    {
     "name": "stdout",
     "output_type": "stream",
     "text": [
      "-RECORD 0--------------------------------\n",
      " city             | ACTON                \n",
      " state            | CA                   \n",
      " physical_address | 1038 ENCHANTED HI... \n",
      " zip5             | 93510                \n",
      " property_type    | SINGLE FAMILY RES... \n",
      " prev_sale_date   | 1990-04-27           \n",
      " prev_sale_price  | 221000.0             \n",
      " rank             | 2                    \n",
      "-RECORD 1--------------------------------\n",
      " city             | ACTON                \n",
      " state            | CA                   \n",
      " physical_address | 1038 ENCHANTED HI... \n",
      " zip5             | 93510                \n",
      " property_type    | SINGLE FAMILY RES... \n",
      " prev_sale_date   | 1996-07-03           \n",
      " prev_sale_price  | 180000.0             \n",
      " rank             | 3                    \n",
      "-RECORD 2--------------------------------\n",
      " city             | ACTON                \n",
      " state            | CA                   \n",
      " physical_address | 1038 ENCHANTED HI... \n",
      " zip5             | 93510                \n",
      " property_type    | SINGLE FAMILY RES... \n",
      " prev_sale_date   | 1998-11-04           \n",
      " prev_sale_price  | 165500.0             \n",
      " rank             | 4                    \n",
      "-RECORD 3--------------------------------\n",
      " city             | ACTON                \n",
      " state            | CA                   \n",
      " physical_address | 1045 ENCHANTED HI... \n",
      " zip5             | 93510                \n",
      " property_type    | SINGLE FAMILY RES... \n",
      " prev_sale_date   | 1998-12-01           \n",
      " prev_sale_price  | 78000.0              \n",
      " rank             | 2                    \n",
      "-RECORD 4--------------------------------\n",
      " city             | ACTON                \n",
      " state            | CA                   \n",
      " physical_address | 1045 ENCHANTED HI... \n",
      " zip5             | 93510                \n",
      " property_type    | SINGLE FAMILY RES... \n",
      " prev_sale_date   | 2004-10-05           \n",
      " prev_sale_price  | 123000.0             \n",
      " rank             | 3                    \n",
      "only showing top 5 rows\n",
      "\n"
     ]
    }
   ],
   "source": [
    "#find previous purchase\n",
    "ranked = df.select('city','state', 'physical_address', 'zip5', 'property_type','sale_date', 'sale_price').withColumn(\"rank\", dense_rank().\\\n",
    "                        over(Window.partitionBy('city','state', 'physical_address', 'zip5', 'property_type').\\\n",
    "                        orderBy('sale_date')))\n",
    "ranked = ranked.withColumn(\"rank\", col('rank') + 1)\n",
    "ranked = ranked.withColumnRenamed('sale_date', 'prev_sale_date').withColumnRenamed('sale_price', 'prev_sale_price')\n",
    "ranked.orderBy(['city','state', 'physical_address', 'zip5', 'property_type','sale_date']).show(5, vertical=True)"
   ]
  },
  {
   "cell_type": "code",
   "execution_count": 52,
   "metadata": {},
   "outputs": [
    {
     "name": "stdout",
     "output_type": "stream",
     "text": [
      "-RECORD 0--------------------------------\n",
      " city             | ACTON                \n",
      " state            | CA                   \n",
      " physical_address | 1038 ENCHANTED HI... \n",
      " zip5             | 93510                \n",
      " property_type    | SINGLE FAMILY RES... \n",
      " rank             | 1                    \n",
      " property_id      | 3056026028           \n",
      " sale_date        | 1990-04-27           \n",
      " sale_price       | 221000.0             \n",
      " num_units        | 1                    \n",
      " year_built       | 1988                 \n",
      " num_sales        | 3                    \n",
      " zip_num_schools  | 5                    \n",
      " city_num_schools | 5                    \n",
      " zip_st_ratio     | 22.85185185185185    \n",
      " city_st_ratio    | 22.85185185185185    \n",
      " CPIHOSNS         | 126.8                \n",
      " ZVHI             | 0.0                  \n",
      " Median_Income    | 34965.00             \n",
      " prev_sale_date   | null                 \n",
      " prev_sale_price  | 0.0                  \n",
      "-RECORD 1--------------------------------\n",
      " city             | ACTON                \n",
      " state            | CA                   \n",
      " physical_address | 1038 ENCHANTED HI... \n",
      " zip5             | 93510                \n",
      " property_type    | SINGLE FAMILY RES... \n",
      " rank             | 2                    \n",
      " property_id      | 3056026028           \n",
      " sale_date        | 1996-07-03           \n",
      " sale_price       | 180000.0             \n",
      " num_units        | 1                    \n",
      " year_built       | 1988                 \n",
      " num_sales        | 3                    \n",
      " zip_num_schools  | 5                    \n",
      " city_num_schools | 5                    \n",
      " zip_st_ratio     | 22.85185185185185    \n",
      " city_st_ratio    | 22.85185185185185    \n",
      " CPIHOSNS         | 153.6                \n",
      " ZVHI             | 0.0                  \n",
      " Median_Income    | 34965.00             \n",
      " prev_sale_date   | 1990-04-27           \n",
      " prev_sale_price  | 221000.0             \n",
      "-RECORD 2--------------------------------\n",
      " city             | ACTON                \n",
      " state            | CA                   \n",
      " physical_address | 1038 ENCHANTED HI... \n",
      " zip5             | 93510                \n",
      " property_type    | SINGLE FAMILY RES... \n",
      " rank             | 3                    \n",
      " property_id      | 3056026028           \n",
      " sale_date        | 1998-11-04           \n",
      " sale_price       | 165500.0             \n",
      " num_units        | 1                    \n",
      " year_built       | 1988                 \n",
      " num_sales        | 3                    \n",
      " zip_num_schools  | 5                    \n",
      " city_num_schools | 5                    \n",
      " zip_st_ratio     | 22.85185185185185    \n",
      " city_st_ratio    | 22.85185185185185    \n",
      " CPIHOSNS         | 161.3                \n",
      " ZVHI             | 0.0                  \n",
      " Median_Income    | 34965.00             \n",
      " prev_sale_date   | 1996-07-03           \n",
      " prev_sale_price  | 180000.0             \n",
      "-RECORD 3--------------------------------\n",
      " city             | ACTON                \n",
      " state            | CA                   \n",
      " physical_address | 1045 ENCHANTED HI... \n",
      " zip5             | 93510                \n",
      " property_type    | SINGLE FAMILY RES... \n",
      " rank             | 1                    \n",
      " property_id      | 3056026029           \n",
      " sale_date        | 1998-12-01           \n",
      " sale_price       | 78000.0              \n",
      " num_units        | 1                    \n",
      " year_built       | 1963                 \n",
      " num_sales        | 3                    \n",
      " zip_num_schools  | 5                    \n",
      " city_num_schools | 5                    \n",
      " zip_st_ratio     | 22.85185185185185    \n",
      " city_st_ratio    | 22.85185185185185    \n",
      " CPIHOSNS         | 161.3                \n",
      " ZVHI             | 0.0                  \n",
      " Median_Income    | 34965.00             \n",
      " prev_sale_date   | null                 \n",
      " prev_sale_price  | 0.0                  \n",
      "-RECORD 4--------------------------------\n",
      " city             | ACTON                \n",
      " state            | CA                   \n",
      " physical_address | 1045 ENCHANTED HI... \n",
      " zip5             | 93510                \n",
      " property_type    | SINGLE FAMILY RES... \n",
      " rank             | 2                    \n",
      " property_id      | 3056026029           \n",
      " sale_date        | 2004-10-05           \n",
      " sale_price       | 123000.0             \n",
      " num_units        | 1                    \n",
      " year_built       | 1963                 \n",
      " num_sales        | 3                    \n",
      " zip_num_schools  | 5                    \n",
      " city_num_schools | 5                    \n",
      " zip_st_ratio     | 22.85185185185185    \n",
      " city_st_ratio    | 22.85185185185185    \n",
      " CPIHOSNS         | 191.0                \n",
      " ZVHI             | 375768.6551724138    \n",
      " Median_Income    | 42189.00             \n",
      " prev_sale_date   | 1998-12-01           \n",
      " prev_sale_price  | 78000.0              \n",
      "only showing top 5 rows\n",
      "\n"
     ]
    }
   ],
   "source": [
    "#join previous to df\n",
    "df = df.join(ranked,['city','state', 'physical_address', 'zip5', 'property_type', 'rank'],'left').na.fill(0)\n",
    "df.orderBy(['city','state', 'physical_address', 'zip5', 'property_type','sale_date']).show(5, vertical=True)"
   ]
  },
  {
   "cell_type": "code",
   "execution_count": 170,
   "metadata": {},
   "outputs": [
    {
     "data": {
      "text/plain": [
       "DataFrame[summary: string, city: string, state: string, physical_address: string, zip5: string, property_type: string, rank: string, property_id: string, sale_price: string, num_units: string, year_built: string, num_sales: string, zip_num_schools: string, city_num_schools: string, zip_st_ratio: string, city_st_ratio: string, CPIHOSNS: string, ZVHI: string, Median_Income: string, prev_sale_price: string]"
      ]
     },
     "execution_count": 170,
     "metadata": {},
     "output_type": "execute_result"
    }
   ],
   "source": [
    "df.describe()"
   ]
  },
  {
   "cell_type": "markdown",
   "metadata": {},
   "source": [
    "# DATA VISUALIZATION/FEATURE EXPLORATION"
   ]
  },
  {
   "cell_type": "code",
   "execution_count": null,
   "metadata": {},
   "outputs": [],
   "source": [
    "#Section 5 - feature exploration"
   ]
  },
  {
   "cell_type": "code",
   "execution_count": 117,
   "metadata": {},
   "outputs": [],
   "source": [
    "import seaborn as sns\n",
    "\n",
    "numeric_features = [t[0] for t in df.dtypes if t[1] == 'int' or t[1] == 'double' or t[1] == 'float']\n",
    "\n",
    "sampled_data = df.select(numeric_features).sample(False, 0.01)\n",
    "sampled_data.dtypes\n",
    "sampled_data = sampled_data.withColumn('sale_price', F.col('sale_price').cast('decimal(12,2)')).fillna(0)\n",
    "sampled_data = sampled_data.toPandas()"
   ]
  },
  {
   "cell_type": "code",
   "execution_count": 118,
   "metadata": {},
   "outputs": [
    {
     "data": {
      "text/html": [
       "<div>\n",
       "<style scoped>\n",
       "    .dataframe tbody tr th:only-of-type {\n",
       "        vertical-align: middle;\n",
       "    }\n",
       "\n",
       "    .dataframe tbody tr th {\n",
       "        vertical-align: top;\n",
       "    }\n",
       "\n",
       "    .dataframe thead th {\n",
       "        text-align: right;\n",
       "    }\n",
       "</style>\n",
       "<table border=\"1\" class=\"dataframe\">\n",
       "  <thead>\n",
       "    <tr style=\"text-align: right;\">\n",
       "      <th></th>\n",
       "      <th>rank</th>\n",
       "      <th>sale_price</th>\n",
       "      <th>zip_st_ratio</th>\n",
       "      <th>city_st_ratio</th>\n",
       "      <th>CPIHOSNS</th>\n",
       "      <th>ZVHI</th>\n",
       "      <th>prev_sale_price</th>\n",
       "    </tr>\n",
       "  </thead>\n",
       "  <tbody>\n",
       "    <tr>\n",
       "      <th>0</th>\n",
       "      <td>1</td>\n",
       "      <td>315000.00</td>\n",
       "      <td>17.859944</td>\n",
       "      <td>17.245595</td>\n",
       "      <td>253.845</td>\n",
       "      <td>160592.540541</td>\n",
       "      <td>0.0</td>\n",
       "    </tr>\n",
       "    <tr>\n",
       "      <th>1</th>\n",
       "      <td>1</td>\n",
       "      <td>257000.00</td>\n",
       "      <td>16.197802</td>\n",
       "      <td>17.245595</td>\n",
       "      <td>231.968</td>\n",
       "      <td>143334.444444</td>\n",
       "      <td>0.0</td>\n",
       "    </tr>\n",
       "    <tr>\n",
       "      <th>2</th>\n",
       "      <td>1</td>\n",
       "      <td>139000.00</td>\n",
       "      <td>17.168022</td>\n",
       "      <td>17.245595</td>\n",
       "      <td>164.800</td>\n",
       "      <td>0.000000</td>\n",
       "      <td>0.0</td>\n",
       "    </tr>\n",
       "    <tr>\n",
       "      <th>3</th>\n",
       "      <td>1</td>\n",
       "      <td>137000.00</td>\n",
       "      <td>23.596694</td>\n",
       "      <td>23.596694</td>\n",
       "      <td>150.600</td>\n",
       "      <td>0.000000</td>\n",
       "      <td>0.0</td>\n",
       "    </tr>\n",
       "    <tr>\n",
       "      <th>4</th>\n",
       "      <td>6</td>\n",
       "      <td>25000.00</td>\n",
       "      <td>26.496894</td>\n",
       "      <td>26.496894</td>\n",
       "      <td>164.100</td>\n",
       "      <td>0.000000</td>\n",
       "      <td>15000.0</td>\n",
       "    </tr>\n",
       "  </tbody>\n",
       "</table>\n",
       "</div>"
      ],
      "text/plain": [
       "   rank sale_price  zip_st_ratio  city_st_ratio  CPIHOSNS           ZVHI  \\\n",
       "0     1  315000.00     17.859944      17.245595   253.845  160592.540541   \n",
       "1     1  257000.00     16.197802      17.245595   231.968  143334.444444   \n",
       "2     1  139000.00     17.168022      17.245595   164.800       0.000000   \n",
       "3     1  137000.00     23.596694      23.596694   150.600       0.000000   \n",
       "4     6   25000.00     26.496894      26.496894   164.100       0.000000   \n",
       "\n",
       "   prev_sale_price  \n",
       "0              0.0  \n",
       "1              0.0  \n",
       "2              0.0  \n",
       "3              0.0  \n",
       "4          15000.0  "
      ]
     },
     "execution_count": 118,
     "metadata": {},
     "output_type": "execute_result"
    }
   ],
   "source": [
    "sampled_data.head()"
   ]
  },
  {
   "cell_type": "code",
   "execution_count": 127,
   "metadata": {},
   "outputs": [
    {
     "data": {
      "text/plain": [
       "rank                 int32\n",
       "sale_price         float64\n",
       "zip_st_ratio       float64\n",
       "city_st_ratio      float64\n",
       "CPIHOSNS           float64\n",
       "ZVHI               float64\n",
       "prev_sale_price    float32\n",
       "dtype: object"
      ]
     },
     "execution_count": 127,
     "metadata": {},
     "output_type": "execute_result"
    }
   ],
   "source": [
    "sampled_data.dtypes"
   ]
  },
  {
   "cell_type": "code",
   "execution_count": 126,
   "metadata": {},
   "outputs": [],
   "source": [
    "sampled_data = sampled_data = sampled_data.apply(pd.to_numeric)"
   ]
  },
  {
   "cell_type": "code",
   "execution_count": 133,
   "metadata": {},
   "outputs": [
    {
     "data": {
      "text/plain": [
       "4495744"
      ]
     },
     "execution_count": 133,
     "metadata": {},
     "output_type": "execute_result"
    }
   ],
   "source": [
    "df.count()"
   ]
  },
  {
   "cell_type": "code",
   "execution_count": 147,
   "metadata": {},
   "outputs": [
    {
     "name": "stdout",
     "output_type": "stream",
     "text": [
      "+----------+------+\n",
      "|sale_price| count|\n",
      "+----------+------+\n",
      "|     100.0|180692|\n",
      "|       9.0| 89640|\n",
      "|  150000.0| 24318|\n",
      "|  250000.0| 22086|\n",
      "|  160000.0| 21859|\n",
      "+----------+------+\n",
      "only showing top 5 rows\n",
      "\n"
     ]
    }
   ],
   "source": [
    "df.select(col('sale_price')).groupBy('sale_price').count().orderBy('count', ascending=False).show(5)"
   ]
  },
  {
   "cell_type": "code",
   "execution_count": 150,
   "metadata": {
    "scrolled": true
   },
   "outputs": [],
   "source": [
    "sampled_data['sale_price'] = sampled_data['sale_price'].astype('int')\n",
    "sampled_data = sampled_data[sampled_data['sale_price'] <= 1000000]"
   ]
  },
  {
   "cell_type": "code",
   "execution_count": 151,
   "metadata": {},
   "outputs": [
    {
     "data": {
      "image/png": "[encoded data removed]",
      "text/plain": [
       "<Figure size 720x288 with 1 Axes>"
      ]
     },
     "metadata": {},
     "output_type": "display_data"
    },
    {
     "data": {
      "image/png": "[encoded data removed]",
      "text/plain": [
       "<Figure size 720x288 with 1 Axes>"
      ]
     },
     "metadata": {},
     "output_type": "display_data"
    },
    {
     "data": {
      "image/png": "[encoded data removed]",
      "text/plain": [
       "<Figure size 720x288 with 1 Axes>"
      ]
     },
     "metadata": {},
     "output_type": "display_data"
    },
    {
     "data": {
      "image/png": "[encoded data removed]",
      "text/plain": [
       "<Figure size 720x288 with 1 Axes>"
      ]
     },
     "metadata": {},
     "output_type": "display_data"
    },
    {
     "data": {
      "image/png": "[encoded data removed]",
      "text/plain": [
       "<Figure size 720x288 with 1 Axes>"
      ]
     },
     "metadata": {},
     "output_type": "display_data"
    },
    {
     "data": {
      "image/png": "[encoded data removed]",
      "text/plain": [
       "<Figure size 720x288 with 1 Axes>"
      ]
     },
     "metadata": {},
     "output_type": "display_data"
    },
    {
     "data": {
      "image/png": "[encoded data removed]",
      "text/plain": [
       "<Figure size 720x288 with 1 Axes>"
      ]
     },
     "metadata": {},
     "output_type": "display_data"
    }
   ],
   "source": [
    "for column in sampled_data.columns:\n",
    "    plt.figure(figsize=(10,4))\n",
    "    sampled_data[column].plot(kind='hist', bins=100)\n",
    "    plt.title(column)"
   ]
  },
  {
   "cell_type": "code",
   "execution_count": 152,
   "metadata": {},
   "outputs": [
    {
     "data": {
      "text/plain": [
       "<seaborn.axisgrid.PairGrid at 0x7fc5ebce8c90>"
      ]
     },
     "execution_count": 152,
     "metadata": {},
     "output_type": "execute_result"
    },
    {
     "data": {
      "image/png": "[encoded data removed]",
      "text/plain": [
       "<Figure size 1260x1260 with 56 Axes>"
      ]
     },
     "metadata": {},
     "output_type": "display_data"
    }
   ],
   "source": [
    "sns.pairplot(sampled_data)"
   ]
  },
  {
   "cell_type": "code",
   "execution_count": null,
   "metadata": {},
   "outputs": [],
   "source": [
    "numerical_columns = sampled_data.columns \n",
    "for column in numerical_columns:\n",
    "    plt.figure(figsize=(10,4))\n",
    "    bank_df[column].plot(kind='hist', bins=50)\n",
    "    plt.title(column)"
   ]
  },
  {
   "cell_type": "code",
   "execution_count": null,
   "metadata": {},
   "outputs": [],
   "source": [
    "import seaborn as sns\n",
    "\n",
    "sns.set(style='whitegrid', palette=\"deep\", font_scale=1.1, rc={\"figure.figsize\": [8, 5]})\n",
    "sns.distplot(\n",
    "    housing['SalePrice'], norm_hist=False, kde=False, bins=20, hist_kws={\"alpha\": 1}\n",
    ").set(xlabel='Sale Price', ylabel='Count');"
   ]
  },
  {
   "cell_type": "code",
   "execution_count": null,
   "metadata": {},
   "outputs": [],
   "source": [
    "#more feature correlation"
   ]
  },
  {
   "cell_type": "code",
   "execution_count": null,
   "metadata": {},
   "outputs": [],
   "source": [
    "#correlation with y variable (sale_price)\n",
    "y_corr = pd.DataFrame(columns=['Columns', 'Correlation Value'])\n",
    "for x in df.columns:\n",
    "    try:\n",
    "        print(x)\n",
    "        temp = pd.DataFrame([[x, df.corr(\"sale_price\", x)]], columns=['Columns', 'Correlation Value'])\n",
    "        y_corr = y_corr.append(temp)\n",
    "    except:\n",
    "        pass\n",
    "y_corr"
   ]
  },
  {
   "cell_type": "code",
   "execution_count": null,
   "metadata": {},
   "outputs": [],
   "source": [
    "x_vars = []\n",
    "#all x variable correlation\n",
    "x_corr = pd.DataFrame({\"Variables\" : x_vars})\n",
    "for x in x_vars:\n",
    "    temp2 = pd.DataFrame()\n",
    "    for y in x_vars:\n",
    "        print(str(x) + \" and \" + str(y))\n",
    "        try:\n",
    "            temp = pd.DataFrame([[df.corr(x,y)]], columns=[x])\n",
    "#             temp = pd.DataFrame([[\"CORR\"]], columns=[x])\n",
    "            temp2 = temp2.append(temp)\n",
    "        except:\n",
    "            temp = pd.DataFrame([[\"N/A\"]], columns=[x])\n",
    "            temp2 = temp2.append(temp)\n",
    "    x_corr = pd.concat([x_corr,temp2.reset_index().drop(columns=\"index\")], axis=1)\n",
    "x_corr"
   ]
  },
  {
   "cell_type": "code",
   "execution_count": null,
   "metadata": {},
   "outputs": [],
   "source": [
    "import seaborn as sns\n",
    "import numpy as np\n",
    "# np.array(x_corr)\n",
    "axis_labels = x_corr['Variables']\n",
    "sns.heatmap(np.array(x_corr.set_index(\"Variables\")), annot=False, fmt=\"g\",vmin=0, vmax=1,linewidths=.5\n",
    "           ,xticklabels=axis_labels, yticklabels=axis_labels)"
   ]
  },
  {
   "cell_type": "markdown",
   "metadata": {},
   "source": [
    "### Y Variable analysis (Regression)"
   ]
  },
  {
   "cell_type": "code",
   "execution_count": null,
   "metadata": {},
   "outputs": [],
   "source": [
    "### Aggregated sale count, avg price by sale year\n",
    "sales_over_time = df.groupBy(\"sale_year\").agg(F.mean(df.sale_price).alias(\"avg_sale_price\"),\n",
    "                                             F.count(df.sale_price).alias(\"sale_count\")).toPandas()"
   ]
  },
  {
   "cell_type": "code",
   "execution_count": null,
   "metadata": {},
   "outputs": [],
   "source": [
    "#plot sale count by sale year\n",
    "ax = sales_over_time.sort_values(by=\"sale_year\").plot(kind='line', x='sale_year', y='sale_count', figsize=(10,5))\n",
    "ax.set_xlabel(\"Sale Year\")\n",
    "ax.set_ylabel(\"Sale Count\")\n",
    "\n"
   ]
  },
  {
   "cell_type": "code",
   "execution_count": null,
   "metadata": {},
   "outputs": [],
   "source": [
    "#plot avg sale price by sale year\n",
    "ax = sales_over_time.sort_values(by=\"sale_year\").plot(kind='bar', x='sale_year', y='avg_sale_price', figsize=(10,5))\n",
    "ax.set_xlabel(\"Sale Year\")\n",
    "ax.set_ylabel(\"Average Sale Price\")\n",
    "\n"
   ]
  },
  {
   "cell_type": "code",
   "execution_count": null,
   "metadata": {},
   "outputs": [],
   "source": [
    "### Aggregated sale count, avg price by year built\n",
    "sales_over_time2 = df.groupBy(\"year_built\").agg(F.mean(df.sale_price).alias(\"avg_sale_price\"),\n",
    "                                             F.count(df.sale_price).alias(\"sale_count\")).toPandas()\n",
    "\n"
   ]
  },
  {
   "cell_type": "code",
   "execution_count": null,
   "metadata": {},
   "outputs": [],
   "source": [
    "#plot sale count by year built\n",
    "ax = sales_over_time2.sort_values(by=\"year_built\").plot(kind='line', x='year_built', y='sale_count', figsize=(10,5))\n",
    "ax.set_xlabel(\"Year Built\")\n",
    "ax.set_ylabel(\"Sale Count\")\n"
   ]
  },
  {
   "cell_type": "code",
   "execution_count": null,
   "metadata": {},
   "outputs": [],
   "source": [
    "#plot avg sale price by year built\n",
    "ax = sales_over_time2.sort_values(by=\"year_built\").plot(kind='bar', x='year_built', y='avg_sale_price', figsize=(10,5))\n",
    "ax.set_xlabel(\"Year Built\")\n",
    "ax.set_ylabel(\"Average Sale Price\")"
   ]
  },
  {
   "cell_type": "markdown",
   "metadata": {},
   "source": [
    "### Y variable analysis (classification)"
   ]
  },
  {
   "cell_type": "code",
   "execution_count": null,
   "metadata": {},
   "outputs": [],
   "source": [
    "###Aggregate by profit flag: sale count, avg sale price\n",
    "flag_agg = df.groupBy(\"price_flag\")\\\n",
    "    .agg(F.mean(df.sale_price).alias(\"avg_sale_price\"),\n",
    "         F.count(df.sale_price).alias(\"sale_count\"),\n",
    "         F.mean(abs(df.sale_price - df.prev_sale_price)).alias(\"avg_sale_difference\"))\\\n",
    "    .toPandas()\n",
    "flag_agg['sale_count_perc'] = flag_agg['sale_count']/flag_agg['sale_count'].sum()\n",
    "flag_agg\n"
   ]
  },
  {
   "cell_type": "code",
   "execution_count": null,
   "metadata": {},
   "outputs": [],
   "source": [
    "#plot sale count by proft flag\n",
    "ax = flag_agg.plot(kind='bar', x='price_flag', y='sale_count', figsize=(10,5))\n",
    "ax.set_xlabel(\"Price Flag\")\n",
    "ax.set_ylabel(\"Sale Count\")\n"
   ]
  },
  {
   "cell_type": "code",
   "execution_count": null,
   "metadata": {},
   "outputs": [],
   "source": [
    "#pie chart for profit flag distribution\n",
    "import matplotlib.pyplot as plt\n",
    "\n",
    "# Pie chart\n",
    "labels = flag_agg['price_flag'].tolist()\n",
    "sizes = flag_agg['sale_count_perc'].tolist()\n",
    "# only \"explode\" the 2nd slice (i.e. 'Hogs')\n",
    "# explode = (0, 0.1, 0, 0)  \n",
    "explode = (0, 0.1)  \n",
    "fig1, ax1 = plt.subplots()\n",
    "ax1.pie(sizes, explode=explode, labels=labels, autopct='%1.1f%%',\n",
    "        shadow=True, startangle=90)\n",
    "# Equal aspect ratio ensures that pie is drawn as a circle\n",
    "ax1.axis('equal')  \n",
    "plt.tight_layout()\n",
    "\n",
    "plt.title(\"Price Flag Distribution\")\n",
    "\n",
    "plt.show()\n"
   ]
  },
  {
   "cell_type": "code",
   "execution_count": null,
   "metadata": {},
   "outputs": [],
   "source": [
    "#avg sale difference from previous sale to current sale, by profit flag\n",
    "ax = flag_agg.plot(kind='bar', x='price_flag', y='avg_sale_difference', figsize=(10,5))\n",
    "ax.set_xlabel(\"Price Flag\")\n",
    "ax.set_ylabel(\"Price Difference\")"
   ]
  },
  {
   "cell_type": "markdown",
   "metadata": {},
   "source": [
    "# FEATURE ENGINEERING"
   ]
  },
  {
   "cell_type": "code",
   "execution_count": null,
   "metadata": {},
   "outputs": [],
   "source": [
    "# Convert city, state and zip to numeric categorical\n",
    "for y in ['city', 'state', 'zip5']:\n",
    "    print(y)\n",
    "    indexer = StringIndexer(inputCol=str(y), outputCol=str(y)+\"Index\")\n",
    "    ohe = OneHotEncoder(inputCol = str(y)+\"Index\", outputCol = str(y)+\"Vector\")\n",
    "    df = indexer.fit(df).transform(df)\n",
    "    df = ohe.transform(df)"
   ]
  },
  {
   "cell_type": "code",
   "execution_count": null,
   "metadata": {},
   "outputs": [],
   "source": [
    "# property type clustering\n",
    "## Create pipeline\n",
    "# tokenization\n",
    "tokenization = Tokenizer(inputCol=\"property_type\", outputCol=\"p_words\")\n",
    "# stopwords\n",
    "stopwords = StopWordsRemover(inputCol= \"p_words\", outputCol=\"p_filtered\")\n",
    "# some form of dimensionality reduction, word2vec\n",
    "word2vec = Word2Vec(vectorSize=5, minCount=0, inputCol=\"p_filtered\", outputCol=\"propertyVector\")\n",
    "\n",
    "pipeline = Pipeline().setStages([\n",
    "    tokenization,\n",
    "    stopwords,\n",
    "    word2vec\n",
    "])\n",
    "# fit_pipeline = pipeline.fit(df)\n",
    "df = pipeline.fit(df).transform(df)\n",
    "# df\n",
    "# Kmeans\n",
    "kmeans = KMeans(featuresCol='propertyVector', predictionCol='propertyClusters', k=10, seed=123, maxIter=5)\n",
    "k_mod = kmeans.fit(df)\n",
    "df = k_mod.transform(df)"
   ]
  },
  {
   "cell_type": "markdown",
   "metadata": {},
   "source": [
    "### Feature Reduction"
   ]
  },
  {
   "cell_type": "code",
   "execution_count": null,
   "metadata": {},
   "outputs": [],
   "source": [
    "# Remove variables with low stddev\n",
    "summary = df.describe().toPandas()\\\n",
    "    .set_index(\"summary\").T\\\n",
    "    .sort_values(by=\"stddev\")\n",
    "summary['stddev'] = pd.to_numeric(summary['stddev'])\n",
    "summary"
   ]
  },
  {
   "cell_type": "code",
   "execution_count": null,
   "metadata": {},
   "outputs": [],
   "source": [
    "drop = summary[summary['stddev'] == 0].index\n",
    "drop"
   ]
  },
  {
   "cell_type": "markdown",
   "metadata": {},
   "source": [
    "# MODELING (Regression)"
   ]
  },
  {
   "cell_type": "markdown",
   "metadata": {},
   "source": [
    "### Linear Regression"
   ]
  },
  {
   "cell_type": "code",
   "execution_count": null,
   "metadata": {},
   "outputs": [],
   "source": [
    "#Section 6 - Multiple Linear Regression"
   ]
  },
  {
   "cell_type": "code",
   "execution_count": 53,
   "metadata": {},
   "outputs": [],
   "source": [
    "from pyspark.ml.feature import VectorAssembler"
   ]
  },
  {
   "cell_type": "code",
   "execution_count": 159,
   "metadata": {},
   "outputs": [],
   "source": [
    "lin_reg_df = df.filter(df['prev_sale_price'] > 0).na.fill(0)\n",
    "lin_reg_df = lin_reg_df.withColumn('last_sale_days', datediff('sale_date',col(\"prev_sale_date\")))\n",
    "lin_reg_df = lin_reg_df.withColumn('last_sale_days', datediff('sale_date',col(\"prev_sale_date\")))\n",
    "lin_reg_df = lin_reg_df.withColumn('year_built', F.regexp_replace('year_built', ',', '').cast('decimal(12,2)'))\n",
    "lin_reg_df = lin_reg_df.withColumn('sale_price', F.regexp_replace('sale_price', ',', '').cast('decimal(12,2)')).na.fill(0)\n",
    "lin_reg_df = lin_reg_df.filter(col('sale_price') <= 1000000).filter(col('sale_price') >= 100000)"
   ]
  },
  {
   "cell_type": "code",
   "execution_count": 160,
   "metadata": {},
   "outputs": [],
   "source": [
    "#predictors = ['CPIHOSNS', 'city_st_ratio', 'ZVHI','num_sales','zip_num_schools', 'zip_st_ratio', 'Median_Income', 'prev_sale_price']\n",
    "predictors = ['year_built', 'prev_sale_price', 'last_sale_days', 'CPIHOSNS']"
   ]
  },
  {
   "cell_type": "code",
   "execution_count": 161,
   "metadata": {},
   "outputs": [
    {
     "name": "stdout",
     "output_type": "stream",
     "text": [
      "+--------------------+----------+\n",
      "|            features|sale_price|\n",
      "+--------------------+----------+\n",
      "|[1974.0,187000.0,...| 267002.00|\n",
      "+--------------------+----------+\n",
      "only showing top 1 row\n",
      "\n"
     ]
    }
   ],
   "source": [
    "vectorAssembler = VectorAssembler(inputCols = predictors, outputCol = 'features')\n",
    "vinput_data = vectorAssembler.transform(lin_reg_df)\n",
    "vinput_data = vinput_data.select(['features', 'sale_price'])\n",
    "vinput_data.show(1)"
   ]
  },
  {
   "cell_type": "code",
   "execution_count": 162,
   "metadata": {},
   "outputs": [],
   "source": [
    "# Train/Test Split\n",
    "train_df, test_df = vinput_data.randomSplit([.7,.3],seed=1234)"
   ]
  },
  {
   "cell_type": "code",
   "execution_count": null,
   "metadata": {},
   "outputs": [
    {
     "name": "stdout",
     "output_type": "stream",
     "text": [
      "Coefficients: [-7.424860618237203,0.0010643436945267787,1.6025891524664069,1715.8461416744954]\n",
      "Intercept: 12350.484045220797\n"
     ]
    }
   ],
   "source": [
    "from pyspark.ml.regression import LinearRegression\n",
    "lr = LinearRegression(featuresCol = 'features', labelCol='sale_price', maxIter=10, regParam=0.3, elasticNetParam=0.8)\n",
    "lr_model = lr.fit(train_df)\n",
    "print(\"Coefficients: \" + str(lr_model.coefficients))\n",
    "print(\"Intercept: \" + str(lr_model.intercept))"
   ]
  },
  {
   "cell_type": "code",
   "execution_count": 172,
   "metadata": {},
   "outputs": [],
   "source": [
    "trainingSummary = lr_model.summary"
   ]
  },
  {
   "cell_type": "code",
   "execution_count": 173,
   "metadata": {},
   "outputs": [
    {
     "name": "stdout",
     "output_type": "stream",
     "text": [
      "RMSE: 188047.541244\n",
      "r2: 0.127166\n"
     ]
    }
   ],
   "source": [
    "print(\"RMSE: %f\" % trainingSummary.rootMeanSquaredError)\n",
    "print(\"r2: %f\" % trainingSummary.r2)"
   ]
  },
  {
   "cell_type": "code",
   "execution_count": null,
   "metadata": {},
   "outputs": [],
   "source": [
    "lr.predict(200000)"
   ]
  },
  {
   "cell_type": "code",
   "execution_count": 166,
   "metadata": {},
   "outputs": [
    {
     "name": "stdout",
     "output_type": "stream",
     "text": [
      "+-----+-----+--------------------+-----+--------------------+----+-----------+----------+----------+---------+----------+---------+---------------+----------------+-----------------+-----------------+--------+------------------+-------------+--------------+---------------+--------------+\n",
      "| city|state|    physical_address| zip5|       property_type|rank|property_id| sale_date|sale_price|num_units|year_built|num_sales|zip_num_schools|city_num_schools|     zip_st_ratio|    city_st_ratio|CPIHOSNS|              ZVHI|Median_Income|prev_sale_date|prev_sale_price|last_sale_days|\n",
      "+-----+-----+--------------------+-----+--------------------+----+-----------+----------+----------+---------+----------+---------+---------------+----------------+-----------------+-----------------+--------+------------------+-------------+--------------+---------------+--------------+\n",
      "|ACTON|   CA|2830 SHANNON VALL...|93510|SINGLE FAMILY RES...|   2| 3217006001|2013-01-11| 267002.00|        1|   1974.00|        3|              5|               5|22.85185185185185|22.85185185185185|  224.79| 275489.6060606061|     85096.00|    1999-02-11|       187000.0|          5083|\n",
      "|ACTON|   CA|33663 RAINBOW BEN...|93510|SINGLE FAMILY RES...|   4| 3223008008|2016-10-28| 365003.00|        1|   1957.00|        5|              5|               5|22.85185185185185|22.85185185185185| 246.264| 394894.6060606061|     91196.00|    2010-06-25|       200002.0|          2317|\n",
      "|ACTON|   CA|      33716 JASON RD|93510|SINGLE FAMILY RES...|   4| 3223004036|2017-07-25| 770007.00|        1|   2007.00|        4|              5|               5|22.85185185185185|22.85185185185185|  251.87|414882.30303030304|     92727.00|    2003-03-13|        69000.0|          5248|\n",
      "|ACTON|   CA|  34353 BRINVILLE RD|93510|SINGLE FAMILY RES...|   2| 3217030026|1988-12-15| 215000.00|        1|   1988.00|        3|              5|               5|22.85185185185185|22.85185185185185|   120.2|               0.0|     17551.00|    1986-07-14|       800008.0|           885|\n",
      "|ACTON|   CA|     34412 SCOTT WAY|93510|SINGLE FAMILY RES...|   4| 3057030037|2013-05-10| 599005.00|        1|   2004.00|        4|              5|               5|22.85185185185185|22.85185185185185| 226.896|295346.48484848486|     85096.00|    2009-12-31|       600000.0|          1226|\n",
      "+-----+-----+--------------------+-----+--------------------+----+-----------+----------+----------+---------+----------+---------+---------------+----------------+-----------------+-----------------+--------+------------------+-------------+--------------+---------------+--------------+\n",
      "only showing top 5 rows\n",
      "\n"
     ]
    }
   ],
   "source": [
    "lin_reg_df.select(F.year(col('sale_date'))).distinct().show()"
   ]
  },
  {
   "cell_type": "code",
   "execution_count": null,
   "metadata": {},
   "outputs": [],
   "source": [
    "lin_reg_df.select(F.year(col('sale_date'))).distinct().orderBy('year(sale_date)', ascending=False)"
   ]
  },
  {
   "cell_type": "code",
   "execution_count": 168,
   "metadata": {},
   "outputs": [],
   "source": [
    "from pyspark.ml.regression import RandomForestRegressor\n",
    "\n",
    "#tf_score_all = [['lable','f1_score','accuracy','ROC']]\n",
    "rf = RandomForestRegressor(labelCol='sale_price', \\\n",
    "                        featuresCol=\"features\", \\\n",
    "                        numTrees = 2, \\\n",
    "                        maxDepth = 3, \\\n",
    "                        maxBins = 32)\n",
    "rfm = rf.fit(train_df)"
   ]
  },
  {
   "cell_type": "code",
   "execution_count": 181,
   "metadata": {},
   "outputs": [
    {
     "name": "stdout",
     "output_type": "stream",
     "text": [
      "+------------------+----------+--------------------+\n",
      "|        prediction|sale_price|            features|\n",
      "+------------------+----------+--------------------+\n",
      "|261071.95785169938| 400000.00|[0.0,45000.0,90.0...|\n",
      "|261071.95785169938| 385003.00|[0.0,75000.0,3724...|\n",
      "|205397.73514419553| 167500.00|[0.0,85000.0,1088...|\n",
      "|261071.95785169938| 175000.00|[0.0,202500.0,348...|\n",
      "|403015.55797298776| 613525.00|[0.0,370000.0,271...|\n",
      "| 448945.3278152549| 405000.00|[0.0,380000.0,14....|\n",
      "|418585.30506314617| 365000.00|[1776.0,199090.0,...|\n",
      "|418585.30506314617| 450000.00|[1890.0,127000.0,...|\n",
      "|205397.73514419553| 139500.00|[1894.0,128000.0,...|\n",
      "|  234525.020594072| 326000.00|[1897.0,189000.0,...|\n",
      "|458219.34302639763| 606006.00|[1898.0,329003.0,...|\n",
      "| 545557.9097045242| 721007.00|[1898.0,587505.0,...|\n",
      "| 448945.3278152549| 641497.00|[1899.0,630000.0,...|\n",
      "|  234525.020594072| 200000.00|[1900.0,218000.0,...|\n",
      "|261071.95785169938| 255002.00|[1902.0,95000.0,2...|\n",
      "|403015.55797298776| 180000.00|[1902.0,330000.0,...|\n",
      "|403015.55797298776| 275000.00|[1904.0,440000.0,...|\n",
      "|205397.73514419553| 240000.00|[1905.0,156000.0,...|\n",
      "|261071.95785169938| 400004.00|[1905.0,165000.0,...|\n",
      "|261071.95785169938| 415000.00|[1905.0,178000.0,...|\n",
      "+------------------+----------+--------------------+\n",
      "only showing top 20 rows\n",
      "\n"
     ]
    }
   ],
   "source": [
    "predictions = rfm.transform(test_df)\n",
    "predictions.select(\"prediction\",\"sale_price\",\"features\").show()"
   ]
  },
  {
   "cell_type": "code",
   "execution_count": 183,
   "metadata": {},
   "outputs": [
    {
     "name": "stdout",
     "output_type": "stream",
     "text": [
      "R Squared (R2) on test data = 0.344719\n"
     ]
    }
   ],
   "source": [
    "from pyspark.ml.evaluation import RegressionEvaluator\n",
    "rf_evaluator = RegressionEvaluator(predictionCol=\"prediction\", \\\n",
    "                 labelCol=\"sale_price\",metricName=\"r2\")\n",
    "print(\"R Squared (R2) on test data = %g\" % rf_evaluator.evaluate(predictions))"
   ]
  },
  {
   "cell_type": "code",
   "execution_count": null,
   "metadata": {},
   "outputs": [],
   "source": [
    "dt_evaluator = RegressionEvaluator(\n",
    "    labelCol=\"sale_price\", predictionCol=\"prediction\", metricName=\"rmse\")\n",
    "rmse = rf_evaluator.evaluate(predictions)\n",
    "print(\"Root Mean Squared Error (RMSE) on test data = %g\" % rmse)"
   ]
  },
  {
   "cell_type": "markdown",
   "metadata": {},
   "source": [
    "### Linear Regression (GLM)"
   ]
  },
  {
   "cell_type": "code",
   "execution_count": null,
   "metadata": {},
   "outputs": [],
   "source": [
    "from pyspark.ml.regression import GeneralizedLinearRegression\n",
    "#ridge\n",
    "glr = GeneralizedLinearRegression(family=\"gaussian\", link=\"identity\", maxIter=5, regParam=0)\n",
    "model = glr.fit(dataset)\n",
    "summary = model.summary\n",
    "print(\"Coefficient Standard Errors: \" + str(summary.coefficientStandardErrors))\n",
    "print(\"P Values: \" + str(summary.pValues))"
   ]
  },
  {
   "cell_type": "code",
   "execution_count": null,
   "metadata": {},
   "outputs": [],
   "source": [
    "linreg_predictions_train = model.transform(train_df)\n",
    "linreg_predictions_test = model.transform(test_df)"
   ]
  },
  {
   "cell_type": "code",
   "execution_count": null,
   "metadata": {},
   "outputs": [],
   "source": [
    "## Train data\n",
    "lr_evaluator = RegressionEvaluator(\n",
    "    labelCol=\"sale_price\", predictionCol=\"prediction\", metricName=\"rmse\")\n",
    "rmse = lr_evaluator.evaluate(linreg_predictions_train)\n",
    "print(\"Root Mean Squared Error (RMSE) on train data = %g\" % rmse)\n",
    "\n",
    "lr_evaluator = RegressionEvaluator(\n",
    "    labelCol=\"sale_price\", predictionCol=\"prediction\", metricName=\"r2\")\n",
    "r2 = lr_evaluator.evaluate(linreg_predictions_train)\n",
    "print(\"R Squared (R2) on train data = %g\" % r2)\n",
    "\n",
    "lr_evaluator = RegressionEvaluator(\n",
    "    labelCol=\"sale_price\", predictionCol=\"prediction\", metricName=\"mae\")\n",
    "mae = lr_evaluator.evaluate(linreg_predictions_train)\n",
    "print(\"Mean Absolute Error (MAE) on train data = %g\" % mae)\n",
    "\n",
    "lr_evaluator = RegressionEvaluator(\n",
    "    labelCol=\"sale_price\", predictionCol=\"prediction\", metricName=\"mse\")\n",
    "mse = lr_evaluator.evaluate(linreg_predictions_train)\n",
    "print(\"Mean Squared Error (MSE) on train data = %g\" % mse)"
   ]
  },
  {
   "cell_type": "code",
   "execution_count": null,
   "metadata": {},
   "outputs": [],
   "source": [
    "## Test data\n",
    "lr_evaluator = RegressionEvaluator(\n",
    "    labelCol=\"sale_price\", predictionCol=\"prediction\", metricName=\"rmse\")\n",
    "rmse = lr_evaluator.evaluate(linreg_predictions_test)\n",
    "print(\"Root Mean Squared Error (RMSE) on test data = %g\" % rmse)\n",
    "\n",
    "lr_evaluator = RegressionEvaluator(\n",
    "    labelCol=\"sale_price\", predictionCol=\"prediction\", metricName=\"r2\")\n",
    "r2 = lr_evaluator.evaluate(linreg_predictions_test)\n",
    "print(\"R Squared (R2) on test data = %g\" % r2)\n",
    "\n",
    "lr_evaluator = RegressionEvaluator(\n",
    "    labelCol=\"sale_price\", predictionCol=\"prediction\", metricName=\"mae\")\n",
    "mae = lr_evaluator.evaluate(linreg_predictions_test)\n",
    "print(\"Mean Absolute Error (MAE) on test data = %g\" % mae)\n",
    "\n",
    "lr_evaluator = RegressionEvaluator(\n",
    "    labelCol=\"sale_price\", predictionCol=\"prediction\", metricName=\"mse\")\n",
    "mse = lr_evaluator.evaluate(linreg_predictions_test)\n",
    "print(\"Mean Squared Error (MSE) on test data = %g\" % mse)"
   ]
  },
  {
   "cell_type": "markdown",
   "metadata": {},
   "source": [
    "### Random Forest"
   ]
  },
  {
   "cell_type": "code",
   "execution_count": null,
   "metadata": {},
   "outputs": [],
   "source": []
  },
  {
   "cell_type": "code",
   "execution_count": null,
   "metadata": {},
   "outputs": [],
   "source": []
  },
  {
   "cell_type": "markdown",
   "metadata": {},
   "source": [
    "### Gradient Boosting"
   ]
  },
  {
   "cell_type": "code",
   "execution_count": null,
   "metadata": {},
   "outputs": [],
   "source": [
    "from pyspark.ml.regression import GBTRegressor\n",
    "gbt = GBTRegressor(featuresCol = 'features', labelCol = 'sale_price', maxIter=5)\n",
    "gbt_model = gbt.fit(train_df)"
   ]
  },
  {
   "cell_type": "code",
   "execution_count": null,
   "metadata": {},
   "outputs": [],
   "source": [
    "gbt_predictions_train = gbt_model.transform(train_df)\n",
    "gbt_predictions_test = gbt_model.transform(test_df)"
   ]
  },
  {
   "cell_type": "code",
   "execution_count": null,
   "metadata": {},
   "outputs": [],
   "source": [
    "## Train data\n",
    "gbt_evaluator = RegressionEvaluator(\n",
    "    labelCol=\"sale_price\", predictionCol=\"prediction\", metricName=\"rmse\")\n",
    "rmse = gbt_evaluator.evaluate(gbt_predictions_train)\n",
    "print(\"Root Mean Squared Error (RMSE) on train data = %g\" % rmse)\n",
    "\n",
    "gbt_evaluator = RegressionEvaluator(\n",
    "    labelCol=\"sale_price\", predictionCol=\"prediction\", metricName=\"r2\")\n",
    "r2 = gbt_evaluator.evaluate(gbt_predictions_train)\n",
    "print(\"R Squared (R2) on train data = %g\" % r2)\n",
    "\n",
    "gbt_evaluator = RegressionEvaluator(\n",
    "    labelCol=\"sale_price\", predictionCol=\"prediction\", metricName=\"mae\")\n",
    "mae = gbt_evaluator.evaluate(gbt_predictions_train)\n",
    "print(\"Mean Absolute Error (MAE) on train data = %g\" % mae)\n",
    "\n",
    "gbt_evaluator = RegressionEvaluator(\n",
    "    labelCol=\"sale_price\", predictionCol=\"prediction\", metricName=\"mse\")\n",
    "mse = gbt_evaluator.evaluate(gbt_predictions_train)\n",
    "print(\"Mean Squared Error (MSE) on train data = %g\" % mse)"
   ]
  },
  {
   "cell_type": "code",
   "execution_count": null,
   "metadata": {},
   "outputs": [],
   "source": [
    "## Test data\n",
    "gbt_evaluator = RegressionEvaluator(\n",
    "    labelCol=\"sale_price\", predictionCol=\"prediction\", metricName=\"rmse\")\n",
    "rmse = gbt_evaluator.evaluate(gbt_predictions_test)\n",
    "print(\"Root Mean Squared Error (RMSE) on test data = %g\" % rmse)\n",
    "\n",
    "gbt_evaluator = RegressionEvaluator(\n",
    "    labelCol=\"sale_price\", predictionCol=\"prediction\", metricName=\"r2\")\n",
    "r2 = gbt_evaluator.evaluate(gbt_predictions_test)\n",
    "print(\"R Squared (R2) on test data = %g\" % r2)\n",
    "\n",
    "gbt_evaluator = RegressionEvaluator(\n",
    "    labelCol=\"sale_price\", predictionCol=\"prediction\", metricName=\"mae\")\n",
    "mae = gbt_evaluator.evaluate(gbt_predictions_test)\n",
    "print(\"Mean Absolute Error (MAE) on test data = %g\" % mae)\n",
    "\n",
    "gbt_evaluator = RegressionEvaluator(\n",
    "    labelCol=\"sale_price\", predictionCol=\"prediction\", metricName=\"mse\")\n",
    "mse = gbt_evaluator.evaluate(gbt_predictions_test)\n",
    "print(\"Mean Squared Error (MSE) on test data = %g\" % mse)"
   ]
  },
  {
   "cell_type": "code",
   "execution_count": null,
   "metadata": {},
   "outputs": [],
   "source": [
    "def ExtractFeatureImp(featureImp, dataset, featuresCol):\n",
    "    list_extract = []\n",
    "    for i in dataset.schema[featuresCol].metadata[\"ml_attr\"][\"attrs\"]:\n",
    "        list_extract = list_extract + dataset.schema[featuresCol].metadata[\"ml_attr\"][\"attrs\"][i]\n",
    "    varlist = pd.DataFrame(list_extract)\n",
    "    varlist['score'] = varlist['idx'].apply(lambda x: featureImp[x])\n",
    "    return(varlist.sort_values('score', ascending = False))\n"
   ]
  },
  {
   "cell_type": "code",
   "execution_count": null,
   "metadata": {},
   "outputs": [],
   "source": [
    "feature_imp = ExtractFeatureImp(gbt_model.featureImportances, train_df, \"features\")"
   ]
  },
  {
   "cell_type": "code",
   "execution_count": null,
   "metadata": {},
   "outputs": [],
   "source": [
    "ax = feature_imp.sort_values(by='score', ascending=True).tail(10).plot(kind='barh', x = 'name', y = 'score')\\\n",
    "\n",
    "ax.set_xlabel(\"Variables\")\n",
    "ax.set_ylabel(\"Feature Importance\")"
   ]
  },
  {
   "cell_type": "markdown",
   "metadata": {},
   "source": [
    "# MODELING (Classification)"
   ]
  },
  {
   "cell_type": "code",
   "execution_count": null,
   "metadata": {},
   "outputs": [],
   "source": [
    "# ## create flag var\n",
    "# lin_reg_df = lin_reg_df.withColumn(\n",
    "#     'price_flag',\n",
    "#     F.when(F.col(\"sale_price\") > F.col(\"prev_sale_price\"), 1)\\\n",
    "#     .otherwise(0)\n",
    "# )"
   ]
  },
  {
   "cell_type": "code",
   "execution_count": null,
   "metadata": {},
   "outputs": [],
   "source": [
    "class_df = df.filter(df['prev_sale_price'] > 0).na.fill(0)"
   ]
  },
  {
   "cell_type": "code",
   "execution_count": null,
   "metadata": {},
   "outputs": [],
   "source": [
    "#target variable\n",
    "class_df = class_df.withColumn('profit_is_pos', (class_df['sale_price'] - class_df['prev_sale_price'] ))\n",
    "class_df = class_df.withColumn(\"profit_is_pos\", when(F.col('profit_is_pos') >= 0 ,1).otherwise(0))\n",
    "df_2 = class_df.select('state', 'city', 'zip5', 'year_built', 'CPIHOSNS', 'prev_sale_price',\n",
    "                       'property_type', 'last_sale_days','profit_is_pos')"
   ]
  },
  {
   "cell_type": "code",
   "execution_count": null,
   "metadata": {},
   "outputs": [],
   "source": [
    "predictors = ['year_built', 'prev_sale_price', 'last_sale_days', 'CPIHOSNS', 'cityVector', 'stateVector', 'zip5Vector']\n",
    "\n",
    "vectorAssembler = VectorAssembler(inputCols = predictors, outputCol = 'features')\n",
    "vinput_data = vectorAssembler.transform(df_2)\n",
    "vinput_data = vinput_data.select(['features', 'profit_is_pos'])\n",
    "vinput_data.show(1)"
   ]
  },
  {
   "cell_type": "code",
   "execution_count": null,
   "metadata": {},
   "outputs": [],
   "source": []
  },
  {
   "cell_type": "markdown",
   "metadata": {},
   "source": [
    "### Naive Bayes"
   ]
  },
  {
   "cell_type": "code",
   "execution_count": null,
   "metadata": {},
   "outputs": [],
   "source": [
    "train_df.select('profit_is_pos').groupBy('profit_is_pos').count().show()"
   ]
  },
  {
   "cell_type": "code",
   "execution_count": null,
   "metadata": {},
   "outputs": [],
   "source": [
    "nb = NaiveBayes(modelType='multinomial',labelCol = 'profit_is_pos')\n",
    "nbmodel = nb.fit(train_df)\n",
    "predictions_nb = nbmodel.transform(test_df)"
   ]
  },
  {
   "cell_type": "code",
   "execution_count": null,
   "metadata": {},
   "outputs": [],
   "source": [
    "evaluator = MulticlassClassificationEvaluator(labelCol='profit_is_pos', predictionCol=\"prediction\", metricName=\"accuracy\") \n",
    "nbaccuracy = evaluator.evaluate(predictions_nb) \n",
    "print(\"Test accuracy = \" + str(nbaccuracy))\n",
    "Test accuracy = 0.7067928508643422\n",
    "evaluator = MulticlassClassificationEvaluator(labelCol='profit_is_pos', predictionCol=\"prediction\", metricName=\"f1\") \n",
    "nbf1 = evaluator.evaluate(predictions_nb) \n",
    "print(\"Test f1 = \" + str(nbf1))\n",
    "Test f1 = 0.6803030399280371\n",
    "evaluator = MulticlassClassificationEvaluator(labelCol='profit_is_pos', predictionCol=\"prediction\", metricName=\"weightedRecall\") \n",
    "nbcall = evaluator.evaluate(predictions_nb) \n",
    "print(\"Test recall = \" + str(nbcall))\n",
    "Test recall = 0.7067928508643423\n",
    "evaluator = MulticlassClassificationEvaluator(labelCol='profit_is_pos', predictionCol=\"prediction\", metricName=\"weightedPrecision\") \n",
    "nbcall = evaluator.evaluate(predictions_nb) \n",
    "print(\"Precision = \" + str(nbcall))\n",
    "Precision = 0.6787251686730787\n",
    "bcEvaluator = BinaryClassificationEvaluator(metricName=\"areaUnderROC\",labelCol='profit_is_pos')\n",
    "print(\"Area under ROC curve:\", bcEvaluator.evaluate(predictions_nb))"
   ]
  },
  {
   "cell_type": "code",
   "execution_count": null,
   "metadata": {},
   "outputs": [],
   "source": []
  },
  {
   "cell_type": "markdown",
   "metadata": {},
   "source": [
    "### Logistic Regression"
   ]
  },
  {
   "cell_type": "code",
   "execution_count": null,
   "metadata": {},
   "outputs": [],
   "source": [
    "lr = LogisticRegression(maxIter=20, regParam=0.3, elasticNetParam=0,labelCol = 'profit_is_pos')\n",
    "\n",
    "lrm = lr.fit(train_df)\n",
    "predictions_lr = lrm.transform(test_df)"
   ]
  },
  {
   "cell_type": "code",
   "execution_count": null,
   "metadata": {},
   "outputs": [],
   "source": [
    "evaluator = MulticlassClassificationEvaluator(labelCol='profit_is_pos', predictionCol=\"prediction\", metricName=\"accuracy\") \n",
    "nbaccuracy = evaluator.evaluate(predictions_lr) \n",
    "print(\"Test accuracy = \" + str(nbaccuracy))\n",
    "Test accuracy = 0.6994104893055962\n",
    "evaluator = MulticlassClassificationEvaluator(labelCol='profit_is_pos', predictionCol=\"prediction\", metricName=\"f1\") \n",
    "nbf1 = evaluator.evaluate(predictions_lr) \n",
    "print(\"Test f1 = \" + str(nbf1))\n",
    "Test f1 = 0.5765969490729765\n",
    "evaluator = MulticlassClassificationEvaluator(labelCol='profit_is_pos', predictionCol=\"prediction\", metricName=\"weightedRecall\") \n",
    "nbcall = evaluator.evaluate(predictions_lr) \n",
    "print(\"Test recall = \" + str(nbcall))\n",
    "Test recall = 0.6994104893055962\n",
    "evaluator = MulticlassClassificationEvaluator(labelCol='profit_is_pos', predictionCol=\"prediction\", metricName=\"weightedPrecision\") \n",
    "nbcall = evaluator.evaluate(predictions_lr) \n",
    "print(\"Precision = \" + str(nbcall))\n",
    "Precision = 0.7082292566625992\n",
    "bcEvaluator = BinaryClassificationEvaluator(metricName=\"areaUnderROC\", labelCol='profit_is_pos')\n",
    "print(\"Area under ROC curve:\", bcEvaluator.evaluate(predictions_lr))\n"
   ]
  },
  {
   "cell_type": "markdown",
   "metadata": {},
   "source": [
    "### Random Forest"
   ]
  },
  {
   "cell_type": "code",
   "execution_count": null,
   "metadata": {},
   "outputs": [],
   "source": [
    "tf_score_all = [['profit_is_pos','f1_score','accuracy','Recall', 'ROC']]\n",
    "\n",
    "rf = RandomForestClassifier(labelCol='profit_is_pos', \\\n",
    "                        featuresCol=\"features\", \\\n",
    "                        numTrees = 50, \\\n",
    "                        maxDepth = 3, \\\n",
    "                        maxBins = 32)\n",
    "rfm = rf.fit(train_df)\n",
    "predictions = rfm.transform(test_df)\n",
    "results = predictions.select(['prediction','profit_is_pos'])\n",
    "predictionAndLabels=results.rdd"
   ]
  },
  {
   "cell_type": "code",
   "execution_count": null,
   "metadata": {},
   "outputs": [],
   "source": [
    "from pyspark.mllib.evaluation import MulticlassMetrics, BinaryClassificationMetrics\n",
    "metrics = MulticlassMetrics(predictionAndLabels)\n",
    "metrics_binary = BinaryClassificationMetrics(predictionAndLabels)\n",
    "evaluator = MulticlassClassificationEvaluator(labelCol='profit_is_pos', predictionCol=\"prediction\", metricName=\"accuracy\") \n",
    "nbaccuracy = evaluator.evaluate(predictions) \n",
    "print(\"Test accuracy = \" + str(nbaccuracy))\n",
    "Test accuracy = 0.69898740111339\n",
    "evaluator = MulticlassClassificationEvaluator(labelCol='profit_is_pos', predictionCol=\"prediction\", metricName=\"f1\") \n",
    "nbf1 = evaluator.evaluate(predictions) \n",
    "print(\"Test f1 = \" + str(nbf1))\n",
    "Test f1 = 0.575146568591468\n",
    "evaluator = MulticlassClassificationEvaluator(labelCol='profit_is_pos', predictionCol=\"prediction\", metricName=\"weightedPrecision\") \n",
    "nbcall = evaluator.evaluate(predictions) \n",
    "print(\"Precision = \" + str(nbcall))\n",
    "Precision = 0.48858338691525116\n",
    "evaluator = MulticlassClassificationEvaluator(labelCol='profit_is_pos', predictionCol=\"prediction\", metricName=\"weightedRecall\") \n",
    "nbcall = evaluator.evaluate(predictions) \n",
    "print(\"Test recall = \" + str(nbcall))"
   ]
  },
  {
   "cell_type": "code",
   "execution_count": null,
   "metadata": {},
   "outputs": [],
   "source": [
    "#feature importance\n",
    "ExtractFeatureImp(mod.stages[-1].featureImportances, df_2, \"features_subset\") #df2 is the model with highest accuracy"
   ]
  },
  {
   "cell_type": "markdown",
   "metadata": {},
   "source": [
    "### Gradient Boosting"
   ]
  },
  {
   "cell_type": "code",
   "execution_count": null,
   "metadata": {},
   "outputs": [],
   "source": [
    "from pyspark.ml.classification import GBTClassifier\n",
    "gbt = GBTClassifier(labelCol=y_var, featuresCol=\"features\", maxIter=5)\n",
    "gbt_model = gbt.fit(train_df)"
   ]
  },
  {
   "cell_type": "code",
   "execution_count": null,
   "metadata": {},
   "outputs": [],
   "source": [
    "gbt_predictions_train = gbt_model.transform(train_df)\n",
    "gbt_predictions_test = gbt_model.transform(test_df)"
   ]
  },
  {
   "cell_type": "code",
   "execution_count": null,
   "metadata": {},
   "outputs": [],
   "source": [
    "gbt_predictions_train.columns"
   ]
  },
  {
   "cell_type": "code",
   "execution_count": null,
   "metadata": {},
   "outputs": [],
   "source": [
    "from pyspark.ml.evaluation import BinaryClassificationEvaluator, MulticlassClassificationEvaluator\n",
    "\n",
    "# Create both evaluators\n",
    "evaluatorMulti = MulticlassClassificationEvaluator(labelCol=\"price_flag\", predictionCol=\"prediction\")\n",
    "evaluator = BinaryClassificationEvaluator(labelCol=\"price_flag\", rawPredictionCol=\"prediction\", metricName='areaUnderROC')\n",
    "\n",
    "# Make predicitons\n",
    "predictionAndprice_flag = gbt_predictions_train.select(\"price_flag\", \"prediction\")\n",
    "\n",
    "# Get metrics\n",
    "acc = evaluatorMulti.evaluate(predictionAndprice_flag, {evaluatorMulti.metricName: \"accuracy\"})\n",
    "f1 = evaluatorMulti.evaluate(predictionAndprice_flag, {evaluatorMulti.metricName: \"f1\"})\n",
    "weightedPrecision = evaluatorMulti.evaluate(predictionAndprice_flag, {evaluatorMulti.metricName: \"weightedPrecision\"})\n",
    "weightedRecall = evaluatorMulti.evaluate(predictionAndprice_flag, {evaluatorMulti.metricName: \"weightedRecall\"})\n",
    "auc = evaluator.evaluate(predictionAndprice_flag)"
   ]
  },
  {
   "cell_type": "code",
   "execution_count": null,
   "metadata": {},
   "outputs": [],
   "source": [
    "print(\"Train Data performance\")\n",
    "print(acc)\n",
    "print(f1)\n",
    "print(weightedPrecision)\n",
    "print(weightedRecall)"
   ]
  },
  {
   "cell_type": "code",
   "execution_count": null,
   "metadata": {},
   "outputs": [],
   "source": [
    "## test results\n",
    "\n",
    "# Make predicitons\n",
    "predictionAndprice_flag = gbt_predictions_test.select(\"price_flag\", \"prediction\")\n",
    "\n",
    "# Get metrics\n",
    "acc = evaluatorMulti.evaluate(predictionAndprice_flag, {evaluatorMulti.metricName: \"accuracy\"})\n",
    "f1 = evaluatorMulti.evaluate(predictionAndprice_flag, {evaluatorMulti.metricName: \"f1\"})\n",
    "weightedPrecision = evaluatorMulti.evaluate(predictionAndprice_flag, {evaluatorMulti.metricName: \"weightedPrecision\"})\n",
    "weightedRecall = evaluatorMulti.evaluate(predictionAndprice_flag, {evaluatorMulti.metricName: \"weightedRecall\"})\n",
    "auc = evaluator.evaluate(predictionAndprice_flag)"
   ]
  },
  {
   "cell_type": "code",
   "execution_count": null,
   "metadata": {},
   "outputs": [],
   "source": [
    "print(\"Test Data performance\")\n",
    "print(acc)\n",
    "print(f1)\n",
    "print(weightedPrecision)\n",
    "print(weightedRecall)"
   ]
  },
  {
   "cell_type": "code",
   "execution_count": null,
   "metadata": {},
   "outputs": [],
   "source": [
    "def ExtractFeatureImp(featureImp, dataset, featuresCol):\n",
    "    list_extract = []\n",
    "    for i in dataset.schema[featuresCol].metadata[\"ml_attr\"][\"attrs\"]:\n",
    "        list_extract = list_extract + dataset.schema[featuresCol].metadata[\"ml_attr\"][\"attrs\"][i]\n",
    "    varlist = pd.DataFrame(list_extract)\n",
    "    varlist['score'] = varlist['idx'].apply(lambda x: featureImp[x])\n",
    "    return(varlist.sort_values('score', ascending = False))\n"
   ]
  },
  {
   "cell_type": "code",
   "execution_count": null,
   "metadata": {},
   "outputs": [],
   "source": [
    "feature_imp = ExtractFeatureImp(gbt_model.featureImportances, train_df, \"features\")\n",
    "feature_imp"
   ]
  }
 ],
 "metadata": {
  "kernelspec": {
   "display_name": "pySpark",
   "language": "python",
   "name": "pyspark"
  },
  "language_info": {
   "codemirror_mode": {
    "name": "ipython",
    "version": 3
   },
   "file_extension": ".py",
   "mimetype": "text/x-python",
   "name": "python",
   "nbconvert_exporter": "python",
   "pygments_lexer": "ipython3",
   "version": "3.6.8"
  }
 },
 "nbformat": 4,
 "nbformat_minor": 2
}
